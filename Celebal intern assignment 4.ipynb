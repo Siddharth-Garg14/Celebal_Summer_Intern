{
  "metadata": {
    "kernelspec": {
      "language": "python",
      "display_name": "Python 3",
      "name": "python3"
    },
    "language_info": {
      "name": "python",
      "version": "3.7.10",
      "mimetype": "text/x-python",
      "codemirror_mode": {
        "name": "ipython",
        "version": 3
      },
      "pygments_lexer": "ipython3",
      "nbconvert_exporter": "python",
      "file_extension": ".py"
    },
    "kaggle": {
      "accelerator": "none",
      "dataSources": [
        {
          "sourceId": 3136,
          "databundleVersionId": 26502,
          "sourceType": "competition"
        }
      ],
      "dockerImageVersionId": 30096,
      "isInternetEnabled": false,
      "language": "python",
      "sourceType": "notebook",
      "isGpuEnabled": false
    },
    "colab": {
      "name": "Part 2: Preprocessing & Feature Engineering",
      "provenance": []
    }
  },
  "nbformat_minor": 0,
  "nbformat": 4,
  "cells": [
    {
      "source": [
        "\n",
        "# IMPORTANT: RUN THIS CELL IN ORDER TO IMPORT YOUR KAGGLE DATA SOURCES\n",
        "# TO THE CORRECT LOCATION (/kaggle/input) IN YOUR NOTEBOOK,\n",
        "# THEN FEEL FREE TO DELETE THIS CELL.\n",
        "# NOTE: THIS NOTEBOOK ENVIRONMENT DIFFERS FROM KAGGLE'S PYTHON\n",
        "# ENVIRONMENT SO THERE MAY BE MISSING LIBRARIES USED BY YOUR\n",
        "# NOTEBOOK.\n",
        "\n",
        "import os\n",
        "import sys\n",
        "from tempfile import NamedTemporaryFile\n",
        "from urllib.request import urlopen\n",
        "from urllib.parse import unquote, urlparse\n",
        "from urllib.error import HTTPError\n",
        "from zipfile import ZipFile\n",
        "import tarfile\n",
        "import shutil\n",
        "\n",
        "CHUNK_SIZE = 40960\n",
        "DATA_SOURCE_MAPPING = 'titanic:https%3A%2F%2Fstorage.googleapis.com%2Fkaggle-competitions-data%2Fkaggle-v2%2F3136%2F26502%2Fbundle%2Farchive.zip%3FX-Goog-Algorithm%3DGOOG4-RSA-SHA256%26X-Goog-Credential%3Dgcp-kaggle-com%2540kaggle-161607.iam.gserviceaccount.com%252F20240629%252Fauto%252Fstorage%252Fgoog4_request%26X-Goog-Date%3D20240629T170755Z%26X-Goog-Expires%3D259200%26X-Goog-SignedHeaders%3Dhost%26X-Goog-Signature%3D5d65c86f107fbec5298bfeed1fe2a8a3be0f9640746bed04b946490ddd8d69eb688ed3b6a92ebb73f550c754cb580ce9a512ff3fcdd35186da6f288601f1770cbee5789246898c5c8fbb913c97db349125b7dcac4b314f8032d47a3fd9c1e9a09e08520cd8db5d8f2ccb41b9c8d80c785f6a236dc9ef73deabd0a0028d53d2f36c0c9c81c912aa3bee945682d279abad94e1e4cc8863b0f56c79afc02e9082a881f99ad78241161f2afb6bc3a4c331b189bcf7c616bcb7572647f5bf5f2417082a9544516961045841210de6a8130b1f2ddb44c4fd354dc0384dd62aa263cc6b140ce5ea1cb14865bf20d100c73b4e1feda745f9e07c5c1757e0fdbf18edd9d9'\n",
        "\n",
        "KAGGLE_INPUT_PATH='/kaggle/input'\n",
        "KAGGLE_WORKING_PATH='/kaggle/working'\n",
        "KAGGLE_SYMLINK='kaggle'\n",
        "\n",
        "!umount /kaggle/input/ 2> /dev/null\n",
        "shutil.rmtree('/kaggle/input', ignore_errors=True)\n",
        "os.makedirs(KAGGLE_INPUT_PATH, 0o777, exist_ok=True)\n",
        "os.makedirs(KAGGLE_WORKING_PATH, 0o777, exist_ok=True)\n",
        "\n",
        "try:\n",
        "  os.symlink(KAGGLE_INPUT_PATH, os.path.join(\"..\", 'input'), target_is_directory=True)\n",
        "except FileExistsError:\n",
        "  pass\n",
        "try:\n",
        "  os.symlink(KAGGLE_WORKING_PATH, os.path.join(\"..\", 'working'), target_is_directory=True)\n",
        "except FileExistsError:\n",
        "  pass\n",
        "\n",
        "for data_source_mapping in DATA_SOURCE_MAPPING.split(','):\n",
        "    directory, download_url_encoded = data_source_mapping.split(':')\n",
        "    download_url = unquote(download_url_encoded)\n",
        "    filename = urlparse(download_url).path\n",
        "    destination_path = os.path.join(KAGGLE_INPUT_PATH, directory)\n",
        "    try:\n",
        "        with urlopen(download_url) as fileres, NamedTemporaryFile() as tfile:\n",
        "            total_length = fileres.headers['content-length']\n",
        "            print(f'Downloading {directory}, {total_length} bytes compressed')\n",
        "            dl = 0\n",
        "            data = fileres.read(CHUNK_SIZE)\n",
        "            while len(data) > 0:\n",
        "                dl += len(data)\n",
        "                tfile.write(data)\n",
        "                done = int(50 * dl / int(total_length))\n",
        "                sys.stdout.write(f\"\\r[{'=' * done}{' ' * (50-done)}] {dl} bytes downloaded\")\n",
        "                sys.stdout.flush()\n",
        "                data = fileres.read(CHUNK_SIZE)\n",
        "            if filename.endswith('.zip'):\n",
        "              with ZipFile(tfile) as zfile:\n",
        "                zfile.extractall(destination_path)\n",
        "            else:\n",
        "              with tarfile.open(tfile.name) as tarfile:\n",
        "                tarfile.extractall(destination_path)\n",
        "            print(f'\\nDownloaded and uncompressed: {directory}')\n",
        "    except HTTPError as e:\n",
        "        print(f'Failed to load (likely expired) {download_url} to path {destination_path}')\n",
        "        continue\n",
        "    except OSError as e:\n",
        "        print(f'Failed to load {download_url} to path {destination_path}')\n",
        "        continue\n",
        "\n",
        "print('Data source import complete.')\n"
      ],
      "metadata": {
        "id": "3WlktVpR-BjP"
      },
      "cell_type": "code",
      "outputs": [],
      "execution_count": null
    },
    {
      "cell_type": "code",
      "source": [],
      "metadata": {
        "trusted": true,
        "id": "RQbt1_Eu-BjS"
      },
      "execution_count": null,
      "outputs": []
    },
    {
      "cell_type": "markdown",
      "source": [
        "# Imports"
      ],
      "metadata": {
        "id": "lGoq9nTO-BjT"
      }
    },
    {
      "cell_type": "code",
      "source": [
        "import numpy as np\n",
        "import pandas as pd\n",
        "import os\n",
        "from matplotlib import pyplot as plt\n",
        "from sklearn.impute import SimpleImputer\n",
        "from sklearn.preprocessing import LabelEncoder\n",
        "from sklearn.preprocessing import StandardScaler, MinMaxScaler\n",
        "import category_encoders as ce"
      ],
      "metadata": {
        "_uuid": "8f2839f25d086af736a60e9eeb907d3b93b6e0e5",
        "_cell_guid": "b1076dfc-b9ad-4769-8c92-a6c4dae69d19",
        "execution": {
          "iopub.status.busy": "2024-06-29T17:06:57.213746Z",
          "iopub.execute_input": "2024-06-29T17:06:57.214255Z",
          "iopub.status.idle": "2024-06-29T17:06:58.654048Z",
          "shell.execute_reply.started": "2024-06-29T17:06:57.214215Z",
          "shell.execute_reply": "2024-06-29T17:06:58.652811Z"
        },
        "trusted": true,
        "id": "RG8G3DMj-BjV"
      },
      "execution_count": null,
      "outputs": []
    },
    {
      "cell_type": "code",
      "source": [
        "df_train = pd.read_csv('../input/titanic/train.csv')\n",
        "df_test = pd.read_csv('../input/titanic/test.csv')\n",
        "df_sub = pd.read_csv('../input/titanic/gender_submission.csv')"
      ],
      "metadata": {
        "execution": {
          "iopub.status.busy": "2024-06-29T17:06:58.655924Z",
          "iopub.execute_input": "2024-06-29T17:06:58.656381Z",
          "iopub.status.idle": "2024-06-29T17:06:58.692543Z",
          "shell.execute_reply.started": "2024-06-29T17:06:58.656334Z",
          "shell.execute_reply": "2024-06-29T17:06:58.691406Z"
        },
        "trusted": true,
        "id": "5L-1TSjq-BjV"
      },
      "execution_count": null,
      "outputs": []
    },
    {
      "cell_type": "markdown",
      "source": [
        "# Preprocessing The Data"
      ],
      "metadata": {
        "execution": {
          "iopub.status.busy": "2021-06-19T08:30:32.713191Z",
          "iopub.execute_input": "2021-06-19T08:30:32.713555Z",
          "iopub.status.idle": "2021-06-19T08:30:32.717416Z",
          "shell.execute_reply.started": "2021-06-19T08:30:32.713522Z",
          "shell.execute_reply": "2021-06-19T08:30:32.716727Z"
        },
        "id": "VfBG95r8-BjW"
      }
    },
    {
      "cell_type": "code",
      "source": [
        "df_train.head()"
      ],
      "metadata": {
        "execution": {
          "iopub.status.busy": "2024-06-29T17:06:58.694816Z",
          "iopub.execute_input": "2024-06-29T17:06:58.695222Z",
          "iopub.status.idle": "2024-06-29T17:06:58.732301Z",
          "shell.execute_reply.started": "2024-06-29T17:06:58.695182Z",
          "shell.execute_reply": "2024-06-29T17:06:58.731166Z"
        },
        "trusted": true,
        "id": "NCuoUHYP-BjW",
        "outputId": "aeef5aae-83c4-44f3-b393-d1f5493d9b93"
      },
      "execution_count": null,
      "outputs": [
        {
          "execution_count": 5,
          "output_type": "execute_result",
          "data": {
            "text/plain": "   PassengerId  Survived  Pclass  \\\n0            1         0       3   \n1            2         1       1   \n2            3         1       3   \n3            4         1       1   \n4            5         0       3   \n\n                                                Name     Sex   Age  SibSp  \\\n0                            Braund, Mr. Owen Harris    male  22.0      1   \n1  Cumings, Mrs. John Bradley (Florence Briggs Th...  female  38.0      1   \n2                             Heikkinen, Miss. Laina  female  26.0      0   \n3       Futrelle, Mrs. Jacques Heath (Lily May Peel)  female  35.0      1   \n4                           Allen, Mr. William Henry    male  35.0      0   \n\n   Parch            Ticket     Fare Cabin Embarked  \n0      0         A/5 21171   7.2500   NaN        S  \n1      0          PC 17599  71.2833   C85        C  \n2      0  STON/O2. 3101282   7.9250   NaN        S  \n3      0            113803  53.1000  C123        S  \n4      0            373450   8.0500   NaN        S  ",
            "text/html": "<div>\n<style scoped>\n    .dataframe tbody tr th:only-of-type {\n        vertical-align: middle;\n    }\n\n    .dataframe tbody tr th {\n        vertical-align: top;\n    }\n\n    .dataframe thead th {\n        text-align: right;\n    }\n</style>\n<table border=\"1\" class=\"dataframe\">\n  <thead>\n    <tr style=\"text-align: right;\">\n      <th></th>\n      <th>PassengerId</th>\n      <th>Survived</th>\n      <th>Pclass</th>\n      <th>Name</th>\n      <th>Sex</th>\n      <th>Age</th>\n      <th>SibSp</th>\n      <th>Parch</th>\n      <th>Ticket</th>\n      <th>Fare</th>\n      <th>Cabin</th>\n      <th>Embarked</th>\n    </tr>\n  </thead>\n  <tbody>\n    <tr>\n      <th>0</th>\n      <td>1</td>\n      <td>0</td>\n      <td>3</td>\n      <td>Braund, Mr. Owen Harris</td>\n      <td>male</td>\n      <td>22.0</td>\n      <td>1</td>\n      <td>0</td>\n      <td>A/5 21171</td>\n      <td>7.2500</td>\n      <td>NaN</td>\n      <td>S</td>\n    </tr>\n    <tr>\n      <th>1</th>\n      <td>2</td>\n      <td>1</td>\n      <td>1</td>\n      <td>Cumings, Mrs. John Bradley (Florence Briggs Th...</td>\n      <td>female</td>\n      <td>38.0</td>\n      <td>1</td>\n      <td>0</td>\n      <td>PC 17599</td>\n      <td>71.2833</td>\n      <td>C85</td>\n      <td>C</td>\n    </tr>\n    <tr>\n      <th>2</th>\n      <td>3</td>\n      <td>1</td>\n      <td>3</td>\n      <td>Heikkinen, Miss. Laina</td>\n      <td>female</td>\n      <td>26.0</td>\n      <td>0</td>\n      <td>0</td>\n      <td>STON/O2. 3101282</td>\n      <td>7.9250</td>\n      <td>NaN</td>\n      <td>S</td>\n    </tr>\n    <tr>\n      <th>3</th>\n      <td>4</td>\n      <td>1</td>\n      <td>1</td>\n      <td>Futrelle, Mrs. Jacques Heath (Lily May Peel)</td>\n      <td>female</td>\n      <td>35.0</td>\n      <td>1</td>\n      <td>0</td>\n      <td>113803</td>\n      <td>53.1000</td>\n      <td>C123</td>\n      <td>S</td>\n    </tr>\n    <tr>\n      <th>4</th>\n      <td>5</td>\n      <td>0</td>\n      <td>3</td>\n      <td>Allen, Mr. William Henry</td>\n      <td>male</td>\n      <td>35.0</td>\n      <td>0</td>\n      <td>0</td>\n      <td>373450</td>\n      <td>8.0500</td>\n      <td>NaN</td>\n      <td>S</td>\n    </tr>\n  </tbody>\n</table>\n</div>"
          },
          "metadata": {}
        }
      ]
    },
    {
      "cell_type": "code",
      "source": [
        "df_test.head()"
      ],
      "metadata": {
        "execution": {
          "iopub.status.busy": "2024-06-29T17:06:58.73458Z",
          "iopub.execute_input": "2024-06-29T17:06:58.735067Z",
          "iopub.status.idle": "2024-06-29T17:06:58.755635Z",
          "shell.execute_reply.started": "2024-06-29T17:06:58.735018Z",
          "shell.execute_reply": "2024-06-29T17:06:58.754464Z"
        },
        "trusted": true,
        "id": "rnLSX580-BjX",
        "outputId": "a7c529be-6177-4e0b-de69-dffd1d466abc"
      },
      "execution_count": null,
      "outputs": [
        {
          "execution_count": 6,
          "output_type": "execute_result",
          "data": {
            "text/plain": "   PassengerId  Pclass                                          Name     Sex  \\\n0          892       3                              Kelly, Mr. James    male   \n1          893       3              Wilkes, Mrs. James (Ellen Needs)  female   \n2          894       2                     Myles, Mr. Thomas Francis    male   \n3          895       3                              Wirz, Mr. Albert    male   \n4          896       3  Hirvonen, Mrs. Alexander (Helga E Lindqvist)  female   \n\n    Age  SibSp  Parch   Ticket     Fare Cabin Embarked  \n0  34.5      0      0   330911   7.8292   NaN        Q  \n1  47.0      1      0   363272   7.0000   NaN        S  \n2  62.0      0      0   240276   9.6875   NaN        Q  \n3  27.0      0      0   315154   8.6625   NaN        S  \n4  22.0      1      1  3101298  12.2875   NaN        S  ",
            "text/html": "<div>\n<style scoped>\n    .dataframe tbody tr th:only-of-type {\n        vertical-align: middle;\n    }\n\n    .dataframe tbody tr th {\n        vertical-align: top;\n    }\n\n    .dataframe thead th {\n        text-align: right;\n    }\n</style>\n<table border=\"1\" class=\"dataframe\">\n  <thead>\n    <tr style=\"text-align: right;\">\n      <th></th>\n      <th>PassengerId</th>\n      <th>Pclass</th>\n      <th>Name</th>\n      <th>Sex</th>\n      <th>Age</th>\n      <th>SibSp</th>\n      <th>Parch</th>\n      <th>Ticket</th>\n      <th>Fare</th>\n      <th>Cabin</th>\n      <th>Embarked</th>\n    </tr>\n  </thead>\n  <tbody>\n    <tr>\n      <th>0</th>\n      <td>892</td>\n      <td>3</td>\n      <td>Kelly, Mr. James</td>\n      <td>male</td>\n      <td>34.5</td>\n      <td>0</td>\n      <td>0</td>\n      <td>330911</td>\n      <td>7.8292</td>\n      <td>NaN</td>\n      <td>Q</td>\n    </tr>\n    <tr>\n      <th>1</th>\n      <td>893</td>\n      <td>3</td>\n      <td>Wilkes, Mrs. James (Ellen Needs)</td>\n      <td>female</td>\n      <td>47.0</td>\n      <td>1</td>\n      <td>0</td>\n      <td>363272</td>\n      <td>7.0000</td>\n      <td>NaN</td>\n      <td>S</td>\n    </tr>\n    <tr>\n      <th>2</th>\n      <td>894</td>\n      <td>2</td>\n      <td>Myles, Mr. Thomas Francis</td>\n      <td>male</td>\n      <td>62.0</td>\n      <td>0</td>\n      <td>0</td>\n      <td>240276</td>\n      <td>9.6875</td>\n      <td>NaN</td>\n      <td>Q</td>\n    </tr>\n    <tr>\n      <th>3</th>\n      <td>895</td>\n      <td>3</td>\n      <td>Wirz, Mr. Albert</td>\n      <td>male</td>\n      <td>27.0</td>\n      <td>0</td>\n      <td>0</td>\n      <td>315154</td>\n      <td>8.6625</td>\n      <td>NaN</td>\n      <td>S</td>\n    </tr>\n    <tr>\n      <th>4</th>\n      <td>896</td>\n      <td>3</td>\n      <td>Hirvonen, Mrs. Alexander (Helga E Lindqvist)</td>\n      <td>female</td>\n      <td>22.0</td>\n      <td>1</td>\n      <td>1</td>\n      <td>3101298</td>\n      <td>12.2875</td>\n      <td>NaN</td>\n      <td>S</td>\n    </tr>\n  </tbody>\n</table>\n</div>"
          },
          "metadata": {}
        }
      ]
    },
    {
      "cell_type": "markdown",
      "source": [
        "Firstly, let's see which features could be used to train the ML model in predicting passenger survival. The passenger name (`Name`) probably can't be used right off the bat as each passenger have a unique name (most likely, can be verified) and having the number of categories equal to the number of entries in the dataset may not be useful for the model. A possible way to incorporate the passenger name as a feature will be to encode it into say a binary category, where `1` indicates that the passenger is a person of status (e.g. monarchy, president, etc) and `0` otherwise.\n",
        "\n",
        "The ticket number `Ticket` is similar in that sense, and may be dropped for initial ML modeling."
      ],
      "metadata": {
        "id": "qeMk97Wg-BjY"
      }
    },
    {
      "cell_type": "code",
      "source": [
        "df_train.drop(['PassengerId', 'Name', 'Ticket'], axis=1, inplace=True)"
      ],
      "metadata": {
        "execution": {
          "iopub.status.busy": "2024-06-29T17:06:58.757457Z",
          "iopub.execute_input": "2024-06-29T17:06:58.757816Z",
          "iopub.status.idle": "2024-06-29T17:06:58.770841Z",
          "shell.execute_reply.started": "2024-06-29T17:06:58.757782Z",
          "shell.execute_reply": "2024-06-29T17:06:58.76967Z"
        },
        "trusted": true,
        "id": "3ANdNtuC-BjZ"
      },
      "execution_count": null,
      "outputs": []
    },
    {
      "cell_type": "code",
      "source": [
        "df_test.drop(['PassengerId', 'Name', 'Ticket'], axis=1, inplace=True)"
      ],
      "metadata": {
        "execution": {
          "iopub.status.busy": "2024-06-29T17:06:58.772731Z",
          "iopub.execute_input": "2024-06-29T17:06:58.773202Z",
          "iopub.status.idle": "2024-06-29T17:06:58.783077Z",
          "shell.execute_reply.started": "2024-06-29T17:06:58.773151Z",
          "shell.execute_reply": "2024-06-29T17:06:58.782053Z"
        },
        "trusted": true,
        "id": "yLjFZlf_-BjZ"
      },
      "execution_count": null,
      "outputs": []
    },
    {
      "cell_type": "code",
      "source": [
        "df_train.head()"
      ],
      "metadata": {
        "execution": {
          "iopub.status.busy": "2024-06-29T17:06:58.784696Z",
          "iopub.execute_input": "2024-06-29T17:06:58.785195Z",
          "iopub.status.idle": "2024-06-29T17:06:58.807675Z",
          "shell.execute_reply.started": "2024-06-29T17:06:58.785148Z",
          "shell.execute_reply": "2024-06-29T17:06:58.806573Z"
        },
        "trusted": true,
        "id": "Qsn4-0qj-Bja",
        "outputId": "94d46217-cace-40bf-e262-0c50d863c3ae"
      },
      "execution_count": null,
      "outputs": [
        {
          "execution_count": 9,
          "output_type": "execute_result",
          "data": {
            "text/plain": "   Survived  Pclass     Sex   Age  SibSp  Parch     Fare Cabin Embarked\n0         0       3    male  22.0      1      0   7.2500   NaN        S\n1         1       1  female  38.0      1      0  71.2833   C85        C\n2         1       3  female  26.0      0      0   7.9250   NaN        S\n3         1       1  female  35.0      1      0  53.1000  C123        S\n4         0       3    male  35.0      0      0   8.0500   NaN        S",
            "text/html": "<div>\n<style scoped>\n    .dataframe tbody tr th:only-of-type {\n        vertical-align: middle;\n    }\n\n    .dataframe tbody tr th {\n        vertical-align: top;\n    }\n\n    .dataframe thead th {\n        text-align: right;\n    }\n</style>\n<table border=\"1\" class=\"dataframe\">\n  <thead>\n    <tr style=\"text-align: right;\">\n      <th></th>\n      <th>Survived</th>\n      <th>Pclass</th>\n      <th>Sex</th>\n      <th>Age</th>\n      <th>SibSp</th>\n      <th>Parch</th>\n      <th>Fare</th>\n      <th>Cabin</th>\n      <th>Embarked</th>\n    </tr>\n  </thead>\n  <tbody>\n    <tr>\n      <th>0</th>\n      <td>0</td>\n      <td>3</td>\n      <td>male</td>\n      <td>22.0</td>\n      <td>1</td>\n      <td>0</td>\n      <td>7.2500</td>\n      <td>NaN</td>\n      <td>S</td>\n    </tr>\n    <tr>\n      <th>1</th>\n      <td>1</td>\n      <td>1</td>\n      <td>female</td>\n      <td>38.0</td>\n      <td>1</td>\n      <td>0</td>\n      <td>71.2833</td>\n      <td>C85</td>\n      <td>C</td>\n    </tr>\n    <tr>\n      <th>2</th>\n      <td>1</td>\n      <td>3</td>\n      <td>female</td>\n      <td>26.0</td>\n      <td>0</td>\n      <td>0</td>\n      <td>7.9250</td>\n      <td>NaN</td>\n      <td>S</td>\n    </tr>\n    <tr>\n      <th>3</th>\n      <td>1</td>\n      <td>1</td>\n      <td>female</td>\n      <td>35.0</td>\n      <td>1</td>\n      <td>0</td>\n      <td>53.1000</td>\n      <td>C123</td>\n      <td>S</td>\n    </tr>\n    <tr>\n      <th>4</th>\n      <td>0</td>\n      <td>3</td>\n      <td>male</td>\n      <td>35.0</td>\n      <td>0</td>\n      <td>0</td>\n      <td>8.0500</td>\n      <td>NaN</td>\n      <td>S</td>\n    </tr>\n  </tbody>\n</table>\n</div>"
          },
          "metadata": {}
        }
      ]
    },
    {
      "cell_type": "code",
      "source": [
        "df_test.head()"
      ],
      "metadata": {
        "execution": {
          "iopub.status.busy": "2024-06-29T17:06:58.80931Z",
          "iopub.execute_input": "2024-06-29T17:06:58.809709Z",
          "iopub.status.idle": "2024-06-29T17:06:58.832069Z",
          "shell.execute_reply.started": "2024-06-29T17:06:58.80967Z",
          "shell.execute_reply": "2024-06-29T17:06:58.830772Z"
        },
        "trusted": true,
        "id": "eZVj5AXw-Bja",
        "outputId": "0f7b96f1-e565-4061-cca4-acc92903540c"
      },
      "execution_count": null,
      "outputs": [
        {
          "execution_count": 10,
          "output_type": "execute_result",
          "data": {
            "text/plain": "   Pclass     Sex   Age  SibSp  Parch     Fare Cabin Embarked\n0       3    male  34.5      0      0   7.8292   NaN        Q\n1       3  female  47.0      1      0   7.0000   NaN        S\n2       2    male  62.0      0      0   9.6875   NaN        Q\n3       3    male  27.0      0      0   8.6625   NaN        S\n4       3  female  22.0      1      1  12.2875   NaN        S",
            "text/html": "<div>\n<style scoped>\n    .dataframe tbody tr th:only-of-type {\n        vertical-align: middle;\n    }\n\n    .dataframe tbody tr th {\n        vertical-align: top;\n    }\n\n    .dataframe thead th {\n        text-align: right;\n    }\n</style>\n<table border=\"1\" class=\"dataframe\">\n  <thead>\n    <tr style=\"text-align: right;\">\n      <th></th>\n      <th>Pclass</th>\n      <th>Sex</th>\n      <th>Age</th>\n      <th>SibSp</th>\n      <th>Parch</th>\n      <th>Fare</th>\n      <th>Cabin</th>\n      <th>Embarked</th>\n    </tr>\n  </thead>\n  <tbody>\n    <tr>\n      <th>0</th>\n      <td>3</td>\n      <td>male</td>\n      <td>34.5</td>\n      <td>0</td>\n      <td>0</td>\n      <td>7.8292</td>\n      <td>NaN</td>\n      <td>Q</td>\n    </tr>\n    <tr>\n      <th>1</th>\n      <td>3</td>\n      <td>female</td>\n      <td>47.0</td>\n      <td>1</td>\n      <td>0</td>\n      <td>7.0000</td>\n      <td>NaN</td>\n      <td>S</td>\n    </tr>\n    <tr>\n      <th>2</th>\n      <td>2</td>\n      <td>male</td>\n      <td>62.0</td>\n      <td>0</td>\n      <td>0</td>\n      <td>9.6875</td>\n      <td>NaN</td>\n      <td>Q</td>\n    </tr>\n    <tr>\n      <th>3</th>\n      <td>3</td>\n      <td>male</td>\n      <td>27.0</td>\n      <td>0</td>\n      <td>0</td>\n      <td>8.6625</td>\n      <td>NaN</td>\n      <td>S</td>\n    </tr>\n    <tr>\n      <th>4</th>\n      <td>3</td>\n      <td>female</td>\n      <td>22.0</td>\n      <td>1</td>\n      <td>1</td>\n      <td>12.2875</td>\n      <td>NaN</td>\n      <td>S</td>\n    </tr>\n  </tbody>\n</table>\n</div>"
          },
          "metadata": {}
        }
      ]
    },
    {
      "cell_type": "markdown",
      "source": [
        "Next, we encode the categorical features which are strings.For which we use Scikit-learn's `LabelEncoder`:"
      ],
      "metadata": {
        "id": "1LqPq66e-Bja"
      }
    },
    {
      "cell_type": "code",
      "source": [
        "df_train['Cabin'] = df_train['Cabin'].replace(np.NaN, 'UNKNOWN', regex=True)\n",
        "df_test['Cabin'] = df_test['Cabin'].replace(np.NaN, 'UNKNOWN', regex=True)"
      ],
      "metadata": {
        "execution": {
          "iopub.status.busy": "2024-06-29T17:06:58.835604Z",
          "iopub.execute_input": "2024-06-29T17:06:58.836071Z",
          "iopub.status.idle": "2024-06-29T17:06:58.845991Z",
          "shell.execute_reply.started": "2024-06-29T17:06:58.836014Z",
          "shell.execute_reply": "2024-06-29T17:06:58.844927Z"
        },
        "trusted": true,
        "id": "zsZUFGmm-Bjb"
      },
      "execution_count": null,
      "outputs": []
    },
    {
      "cell_type": "code",
      "source": [
        "cabin_vals = np.unique(list(df_train['Cabin'].values) + list(df_test['Cabin'].values))\n",
        "cabin_vals"
      ],
      "metadata": {
        "execution": {
          "iopub.status.busy": "2024-06-29T17:06:58.848526Z",
          "iopub.execute_input": "2024-06-29T17:06:58.848992Z",
          "iopub.status.idle": "2024-06-29T17:06:58.862409Z",
          "shell.execute_reply.started": "2024-06-29T17:06:58.848943Z",
          "shell.execute_reply": "2024-06-29T17:06:58.861238Z"
        },
        "trusted": true,
        "id": "5dIonmu8-Bjb",
        "outputId": "c235e183-e324-4701-8b1f-a7a9509102f5"
      },
      "execution_count": null,
      "outputs": [
        {
          "execution_count": 12,
          "output_type": "execute_result",
          "data": {
            "text/plain": "array(['A10', 'A11', 'A14', 'A16', 'A18', 'A19', 'A20', 'A21', 'A23',\n       'A24', 'A26', 'A29', 'A31', 'A32', 'A34', 'A36', 'A5', 'A6', 'A7',\n       'A9', 'B10', 'B101', 'B102', 'B11', 'B18', 'B19', 'B20', 'B22',\n       'B24', 'B26', 'B28', 'B3', 'B30', 'B35', 'B36', 'B37', 'B38',\n       'B39', 'B4', 'B41', 'B42', 'B45', 'B49', 'B5', 'B50',\n       'B51 B53 B55', 'B52 B54 B56', 'B57 B59 B63 B66', 'B58 B60', 'B61',\n       'B69', 'B71', 'B73', 'B77', 'B78', 'B79', 'B80', 'B82 B84', 'B86',\n       'B94', 'B96 B98', 'C101', 'C103', 'C104', 'C105', 'C106', 'C110',\n       'C111', 'C116', 'C118', 'C123', 'C124', 'C125', 'C126', 'C128',\n       'C130', 'C132', 'C148', 'C2', 'C22 C26', 'C23 C25 C27', 'C28',\n       'C30', 'C31', 'C32', 'C39', 'C45', 'C46', 'C47', 'C49', 'C50',\n       'C51', 'C52', 'C53', 'C54', 'C55 C57', 'C6', 'C62 C64', 'C65',\n       'C68', 'C7', 'C70', 'C78', 'C80', 'C82', 'C83', 'C85', 'C86',\n       'C87', 'C89', 'C90', 'C91', 'C92', 'C93', 'C95', 'C97', 'C99', 'D',\n       'D10 D12', 'D11', 'D15', 'D17', 'D19', 'D20', 'D21', 'D22', 'D26',\n       'D28', 'D30', 'D33', 'D34', 'D35', 'D36', 'D37', 'D38', 'D40',\n       'D43', 'D45', 'D46', 'D47', 'D48', 'D49', 'D50', 'D56', 'D6', 'D7',\n       'D9', 'E10', 'E101', 'E12', 'E121', 'E17', 'E24', 'E25', 'E31',\n       'E33', 'E34', 'E36', 'E38', 'E39 E41', 'E40', 'E44', 'E45', 'E46',\n       'E49', 'E50', 'E52', 'E58', 'E60', 'E63', 'E67', 'E68', 'E77',\n       'E8', 'F', 'F E46', 'F E57', 'F E69', 'F G63', 'F G73', 'F2',\n       'F33', 'F38', 'F4', 'G6', 'T', 'UNKNOWN'], dtype='<U15')"
          },
          "metadata": {}
        }
      ]
    },
    {
      "cell_type": "code",
      "source": [
        "mapping_d = {}\n",
        "for i, feature in enumerate(cabin_vals):\n",
        "    mapping_d[feature] = i\n",
        "\n",
        "encoder= ce.OrdinalEncoder(cols=['Cabin'], return_df=True,\n",
        "                           mapping=[{'col':'Cabin',\n",
        "                                     'mapping': mapping_d}])"
      ],
      "metadata": {
        "execution": {
          "iopub.status.busy": "2024-06-29T17:06:58.863929Z",
          "iopub.execute_input": "2024-06-29T17:06:58.864261Z",
          "iopub.status.idle": "2024-06-29T17:06:58.87925Z",
          "shell.execute_reply.started": "2024-06-29T17:06:58.864228Z",
          "shell.execute_reply": "2024-06-29T17:06:58.878239Z"
        },
        "trusted": true,
        "id": "m57FOYld-Bjb"
      },
      "execution_count": null,
      "outputs": []
    },
    {
      "cell_type": "code",
      "source": [
        "mapping_d"
      ],
      "metadata": {
        "_kg_hide-output": true,
        "execution": {
          "iopub.status.busy": "2024-06-29T17:06:58.880967Z",
          "iopub.execute_input": "2024-06-29T17:06:58.881302Z",
          "iopub.status.idle": "2024-06-29T17:06:58.902374Z",
          "shell.execute_reply.started": "2024-06-29T17:06:58.881269Z",
          "shell.execute_reply": "2024-06-29T17:06:58.901301Z"
        },
        "trusted": true,
        "id": "69k0UXaj-Bjb",
        "outputId": "c2724aac-fa4f-4306-c124-0d6520f233cc"
      },
      "execution_count": null,
      "outputs": [
        {
          "execution_count": 14,
          "output_type": "execute_result",
          "data": {
            "text/plain": "{'A10': 0,\n 'A11': 1,\n 'A14': 2,\n 'A16': 3,\n 'A18': 4,\n 'A19': 5,\n 'A20': 6,\n 'A21': 7,\n 'A23': 8,\n 'A24': 9,\n 'A26': 10,\n 'A29': 11,\n 'A31': 12,\n 'A32': 13,\n 'A34': 14,\n 'A36': 15,\n 'A5': 16,\n 'A6': 17,\n 'A7': 18,\n 'A9': 19,\n 'B10': 20,\n 'B101': 21,\n 'B102': 22,\n 'B11': 23,\n 'B18': 24,\n 'B19': 25,\n 'B20': 26,\n 'B22': 27,\n 'B24': 28,\n 'B26': 29,\n 'B28': 30,\n 'B3': 31,\n 'B30': 32,\n 'B35': 33,\n 'B36': 34,\n 'B37': 35,\n 'B38': 36,\n 'B39': 37,\n 'B4': 38,\n 'B41': 39,\n 'B42': 40,\n 'B45': 41,\n 'B49': 42,\n 'B5': 43,\n 'B50': 44,\n 'B51 B53 B55': 45,\n 'B52 B54 B56': 46,\n 'B57 B59 B63 B66': 47,\n 'B58 B60': 48,\n 'B61': 49,\n 'B69': 50,\n 'B71': 51,\n 'B73': 52,\n 'B77': 53,\n 'B78': 54,\n 'B79': 55,\n 'B80': 56,\n 'B82 B84': 57,\n 'B86': 58,\n 'B94': 59,\n 'B96 B98': 60,\n 'C101': 61,\n 'C103': 62,\n 'C104': 63,\n 'C105': 64,\n 'C106': 65,\n 'C110': 66,\n 'C111': 67,\n 'C116': 68,\n 'C118': 69,\n 'C123': 70,\n 'C124': 71,\n 'C125': 72,\n 'C126': 73,\n 'C128': 74,\n 'C130': 75,\n 'C132': 76,\n 'C148': 77,\n 'C2': 78,\n 'C22 C26': 79,\n 'C23 C25 C27': 80,\n 'C28': 81,\n 'C30': 82,\n 'C31': 83,\n 'C32': 84,\n 'C39': 85,\n 'C45': 86,\n 'C46': 87,\n 'C47': 88,\n 'C49': 89,\n 'C50': 90,\n 'C51': 91,\n 'C52': 92,\n 'C53': 93,\n 'C54': 94,\n 'C55 C57': 95,\n 'C6': 96,\n 'C62 C64': 97,\n 'C65': 98,\n 'C68': 99,\n 'C7': 100,\n 'C70': 101,\n 'C78': 102,\n 'C80': 103,\n 'C82': 104,\n 'C83': 105,\n 'C85': 106,\n 'C86': 107,\n 'C87': 108,\n 'C89': 109,\n 'C90': 110,\n 'C91': 111,\n 'C92': 112,\n 'C93': 113,\n 'C95': 114,\n 'C97': 115,\n 'C99': 116,\n 'D': 117,\n 'D10 D12': 118,\n 'D11': 119,\n 'D15': 120,\n 'D17': 121,\n 'D19': 122,\n 'D20': 123,\n 'D21': 124,\n 'D22': 125,\n 'D26': 126,\n 'D28': 127,\n 'D30': 128,\n 'D33': 129,\n 'D34': 130,\n 'D35': 131,\n 'D36': 132,\n 'D37': 133,\n 'D38': 134,\n 'D40': 135,\n 'D43': 136,\n 'D45': 137,\n 'D46': 138,\n 'D47': 139,\n 'D48': 140,\n 'D49': 141,\n 'D50': 142,\n 'D56': 143,\n 'D6': 144,\n 'D7': 145,\n 'D9': 146,\n 'E10': 147,\n 'E101': 148,\n 'E12': 149,\n 'E121': 150,\n 'E17': 151,\n 'E24': 152,\n 'E25': 153,\n 'E31': 154,\n 'E33': 155,\n 'E34': 156,\n 'E36': 157,\n 'E38': 158,\n 'E39 E41': 159,\n 'E40': 160,\n 'E44': 161,\n 'E45': 162,\n 'E46': 163,\n 'E49': 164,\n 'E50': 165,\n 'E52': 166,\n 'E58': 167,\n 'E60': 168,\n 'E63': 169,\n 'E67': 170,\n 'E68': 171,\n 'E77': 172,\n 'E8': 173,\n 'F': 174,\n 'F E46': 175,\n 'F E57': 176,\n 'F E69': 177,\n 'F G63': 178,\n 'F G73': 179,\n 'F2': 180,\n 'F33': 181,\n 'F38': 182,\n 'F4': 183,\n 'G6': 184,\n 'T': 185,\n 'UNKNOWN': 186}"
          },
          "metadata": {}
        }
      ]
    },
    {
      "cell_type": "code",
      "source": [
        "df_train = encoder.fit_transform(df_train)"
      ],
      "metadata": {
        "execution": {
          "iopub.status.busy": "2024-06-29T17:06:58.903941Z",
          "iopub.execute_input": "2024-06-29T17:06:58.904298Z",
          "iopub.status.idle": "2024-06-29T17:06:58.925818Z",
          "shell.execute_reply.started": "2024-06-29T17:06:58.904247Z",
          "shell.execute_reply": "2024-06-29T17:06:58.924625Z"
        },
        "trusted": true,
        "id": "4jOnotu--Bjc",
        "outputId": "cd432174-6cab-4dd6-9a80-062e43c7059d"
      },
      "execution_count": null,
      "outputs": [
        {
          "name": "stderr",
          "text": "/opt/conda/lib/python3.7/site-packages/category_encoders/utils.py:21: FutureWarning: is_categorical is deprecated and will be removed in a future version.  Use is_categorical_dtype instead\n  elif pd.api.types.is_categorical(cols):\n",
          "output_type": "stream"
        }
      ]
    },
    {
      "cell_type": "code",
      "source": [
        "df_test = encoder.fit_transform(df_test)"
      ],
      "metadata": {
        "execution": {
          "iopub.status.busy": "2024-06-29T17:06:58.927565Z",
          "iopub.execute_input": "2024-06-29T17:06:58.928056Z",
          "iopub.status.idle": "2024-06-29T17:06:58.942419Z",
          "shell.execute_reply.started": "2024-06-29T17:06:58.928008Z",
          "shell.execute_reply": "2024-06-29T17:06:58.941272Z"
        },
        "trusted": true,
        "id": "lF3Gwjeo-Bjc"
      },
      "execution_count": null,
      "outputs": []
    },
    {
      "cell_type": "code",
      "source": [
        "df_train.head()"
      ],
      "metadata": {
        "execution": {
          "iopub.status.busy": "2024-06-29T17:06:58.944022Z",
          "iopub.execute_input": "2024-06-29T17:06:58.944384Z",
          "iopub.status.idle": "2024-06-29T17:06:58.968157Z",
          "shell.execute_reply.started": "2024-06-29T17:06:58.944346Z",
          "shell.execute_reply": "2024-06-29T17:06:58.967053Z"
        },
        "trusted": true,
        "id": "PTUEz84W-Bjc",
        "outputId": "fb4502c0-8869-4791-cc16-85e5ecb77b70"
      },
      "execution_count": null,
      "outputs": [
        {
          "execution_count": 17,
          "output_type": "execute_result",
          "data": {
            "text/plain": "   Survived  Pclass     Sex   Age  SibSp  Parch     Fare  Cabin Embarked\n0         0       3    male  22.0      1      0   7.2500    186        S\n1         1       1  female  38.0      1      0  71.2833    106        C\n2         1       3  female  26.0      0      0   7.9250    186        S\n3         1       1  female  35.0      1      0  53.1000     70        S\n4         0       3    male  35.0      0      0   8.0500    186        S",
            "text/html": "<div>\n<style scoped>\n    .dataframe tbody tr th:only-of-type {\n        vertical-align: middle;\n    }\n\n    .dataframe tbody tr th {\n        vertical-align: top;\n    }\n\n    .dataframe thead th {\n        text-align: right;\n    }\n</style>\n<table border=\"1\" class=\"dataframe\">\n  <thead>\n    <tr style=\"text-align: right;\">\n      <th></th>\n      <th>Survived</th>\n      <th>Pclass</th>\n      <th>Sex</th>\n      <th>Age</th>\n      <th>SibSp</th>\n      <th>Parch</th>\n      <th>Fare</th>\n      <th>Cabin</th>\n      <th>Embarked</th>\n    </tr>\n  </thead>\n  <tbody>\n    <tr>\n      <th>0</th>\n      <td>0</td>\n      <td>3</td>\n      <td>male</td>\n      <td>22.0</td>\n      <td>1</td>\n      <td>0</td>\n      <td>7.2500</td>\n      <td>186</td>\n      <td>S</td>\n    </tr>\n    <tr>\n      <th>1</th>\n      <td>1</td>\n      <td>1</td>\n      <td>female</td>\n      <td>38.0</td>\n      <td>1</td>\n      <td>0</td>\n      <td>71.2833</td>\n      <td>106</td>\n      <td>C</td>\n    </tr>\n    <tr>\n      <th>2</th>\n      <td>1</td>\n      <td>3</td>\n      <td>female</td>\n      <td>26.0</td>\n      <td>0</td>\n      <td>0</td>\n      <td>7.9250</td>\n      <td>186</td>\n      <td>S</td>\n    </tr>\n    <tr>\n      <th>3</th>\n      <td>1</td>\n      <td>1</td>\n      <td>female</td>\n      <td>35.0</td>\n      <td>1</td>\n      <td>0</td>\n      <td>53.1000</td>\n      <td>70</td>\n      <td>S</td>\n    </tr>\n    <tr>\n      <th>4</th>\n      <td>0</td>\n      <td>3</td>\n      <td>male</td>\n      <td>35.0</td>\n      <td>0</td>\n      <td>0</td>\n      <td>8.0500</td>\n      <td>186</td>\n      <td>S</td>\n    </tr>\n  </tbody>\n</table>\n</div>"
          },
          "metadata": {}
        }
      ]
    },
    {
      "cell_type": "code",
      "source": [
        "df_test.head()"
      ],
      "metadata": {
        "execution": {
          "iopub.status.busy": "2024-06-29T17:06:58.969469Z",
          "iopub.execute_input": "2024-06-29T17:06:58.969816Z",
          "iopub.status.idle": "2024-06-29T17:06:58.991216Z",
          "shell.execute_reply.started": "2024-06-29T17:06:58.969782Z",
          "shell.execute_reply": "2024-06-29T17:06:58.98998Z"
        },
        "trusted": true,
        "id": "ABxCv7pL-Bjc",
        "outputId": "271f70b2-5807-4b72-df43-4699e48ca0c1"
      },
      "execution_count": null,
      "outputs": [
        {
          "execution_count": 18,
          "output_type": "execute_result",
          "data": {
            "text/plain": "   Pclass     Sex   Age  SibSp  Parch     Fare  Cabin Embarked\n0       3    male  34.5      0      0   7.8292    186        Q\n1       3  female  47.0      1      0   7.0000    186        S\n2       2    male  62.0      0      0   9.6875    186        Q\n3       3    male  27.0      0      0   8.6625    186        S\n4       3  female  22.0      1      1  12.2875    186        S",
            "text/html": "<div>\n<style scoped>\n    .dataframe tbody tr th:only-of-type {\n        vertical-align: middle;\n    }\n\n    .dataframe tbody tr th {\n        vertical-align: top;\n    }\n\n    .dataframe thead th {\n        text-align: right;\n    }\n</style>\n<table border=\"1\" class=\"dataframe\">\n  <thead>\n    <tr style=\"text-align: right;\">\n      <th></th>\n      <th>Pclass</th>\n      <th>Sex</th>\n      <th>Age</th>\n      <th>SibSp</th>\n      <th>Parch</th>\n      <th>Fare</th>\n      <th>Cabin</th>\n      <th>Embarked</th>\n    </tr>\n  </thead>\n  <tbody>\n    <tr>\n      <th>0</th>\n      <td>3</td>\n      <td>male</td>\n      <td>34.5</td>\n      <td>0</td>\n      <td>0</td>\n      <td>7.8292</td>\n      <td>186</td>\n      <td>Q</td>\n    </tr>\n    <tr>\n      <th>1</th>\n      <td>3</td>\n      <td>female</td>\n      <td>47.0</td>\n      <td>1</td>\n      <td>0</td>\n      <td>7.0000</td>\n      <td>186</td>\n      <td>S</td>\n    </tr>\n    <tr>\n      <th>2</th>\n      <td>2</td>\n      <td>male</td>\n      <td>62.0</td>\n      <td>0</td>\n      <td>0</td>\n      <td>9.6875</td>\n      <td>186</td>\n      <td>Q</td>\n    </tr>\n    <tr>\n      <th>3</th>\n      <td>3</td>\n      <td>male</td>\n      <td>27.0</td>\n      <td>0</td>\n      <td>0</td>\n      <td>8.6625</td>\n      <td>186</td>\n      <td>S</td>\n    </tr>\n    <tr>\n      <th>4</th>\n      <td>3</td>\n      <td>female</td>\n      <td>22.0</td>\n      <td>1</td>\n      <td>1</td>\n      <td>12.2875</td>\n      <td>186</td>\n      <td>S</td>\n    </tr>\n  </tbody>\n</table>\n</div>"
          },
          "metadata": {}
        }
      ]
    },
    {
      "cell_type": "markdown",
      "source": [
        "For the other categorical variables, there are no null values from the EDA. So we can proceed to encode them with Scikit-learn's `LabelEncoder`:"
      ],
      "metadata": {
        "id": "ZmO8dlxO-Bjc"
      }
    },
    {
      "cell_type": "code",
      "source": [
        "cols_to_encode = ['Sex', 'Embarked']\n",
        "for col in cols_to_encode:\n",
        "    le = LabelEncoder()\n",
        "    le.fit(df_train[col])\n",
        "\n",
        "    df_train[col] = le.transform(df_train[col])\n",
        "    df_test[col] = le.transform(df_test[col])"
      ],
      "metadata": {
        "execution": {
          "iopub.status.busy": "2024-06-29T17:06:58.992958Z",
          "iopub.execute_input": "2024-06-29T17:06:58.993342Z",
          "iopub.status.idle": "2024-06-29T17:06:59.00606Z",
          "shell.execute_reply.started": "2024-06-29T17:06:58.993304Z",
          "shell.execute_reply": "2024-06-29T17:06:59.004938Z"
        },
        "trusted": true,
        "id": "6Ak9s1Be-Bjc"
      },
      "execution_count": null,
      "outputs": []
    },
    {
      "cell_type": "code",
      "source": [
        "df_train.head()"
      ],
      "metadata": {
        "execution": {
          "iopub.status.busy": "2024-06-29T17:06:59.007455Z",
          "iopub.execute_input": "2024-06-29T17:06:59.007804Z",
          "iopub.status.idle": "2024-06-29T17:06:59.030111Z",
          "shell.execute_reply.started": "2024-06-29T17:06:59.007756Z",
          "shell.execute_reply": "2024-06-29T17:06:59.028903Z"
        },
        "trusted": true,
        "id": "xvOXHwv5-Bjc",
        "outputId": "83dfb716-1602-494f-aab5-2814dfce0e69"
      },
      "execution_count": null,
      "outputs": [
        {
          "execution_count": 20,
          "output_type": "execute_result",
          "data": {
            "text/plain": "   Survived  Pclass  Sex   Age  SibSp  Parch     Fare  Cabin  Embarked\n0         0       3    1  22.0      1      0   7.2500    186         2\n1         1       1    0  38.0      1      0  71.2833    106         0\n2         1       3    0  26.0      0      0   7.9250    186         2\n3         1       1    0  35.0      1      0  53.1000     70         2\n4         0       3    1  35.0      0      0   8.0500    186         2",
            "text/html": "<div>\n<style scoped>\n    .dataframe tbody tr th:only-of-type {\n        vertical-align: middle;\n    }\n\n    .dataframe tbody tr th {\n        vertical-align: top;\n    }\n\n    .dataframe thead th {\n        text-align: right;\n    }\n</style>\n<table border=\"1\" class=\"dataframe\">\n  <thead>\n    <tr style=\"text-align: right;\">\n      <th></th>\n      <th>Survived</th>\n      <th>Pclass</th>\n      <th>Sex</th>\n      <th>Age</th>\n      <th>SibSp</th>\n      <th>Parch</th>\n      <th>Fare</th>\n      <th>Cabin</th>\n      <th>Embarked</th>\n    </tr>\n  </thead>\n  <tbody>\n    <tr>\n      <th>0</th>\n      <td>0</td>\n      <td>3</td>\n      <td>1</td>\n      <td>22.0</td>\n      <td>1</td>\n      <td>0</td>\n      <td>7.2500</td>\n      <td>186</td>\n      <td>2</td>\n    </tr>\n    <tr>\n      <th>1</th>\n      <td>1</td>\n      <td>1</td>\n      <td>0</td>\n      <td>38.0</td>\n      <td>1</td>\n      <td>0</td>\n      <td>71.2833</td>\n      <td>106</td>\n      <td>0</td>\n    </tr>\n    <tr>\n      <th>2</th>\n      <td>1</td>\n      <td>3</td>\n      <td>0</td>\n      <td>26.0</td>\n      <td>0</td>\n      <td>0</td>\n      <td>7.9250</td>\n      <td>186</td>\n      <td>2</td>\n    </tr>\n    <tr>\n      <th>3</th>\n      <td>1</td>\n      <td>1</td>\n      <td>0</td>\n      <td>35.0</td>\n      <td>1</td>\n      <td>0</td>\n      <td>53.1000</td>\n      <td>70</td>\n      <td>2</td>\n    </tr>\n    <tr>\n      <th>4</th>\n      <td>0</td>\n      <td>3</td>\n      <td>1</td>\n      <td>35.0</td>\n      <td>0</td>\n      <td>0</td>\n      <td>8.0500</td>\n      <td>186</td>\n      <td>2</td>\n    </tr>\n  </tbody>\n</table>\n</div>"
          },
          "metadata": {}
        }
      ]
    },
    {
      "cell_type": "code",
      "source": [
        "df_test.head()"
      ],
      "metadata": {
        "execution": {
          "iopub.status.busy": "2024-06-29T17:06:59.031542Z",
          "iopub.execute_input": "2024-06-29T17:06:59.031914Z",
          "iopub.status.idle": "2024-06-29T17:06:59.050948Z",
          "shell.execute_reply.started": "2024-06-29T17:06:59.031866Z",
          "shell.execute_reply": "2024-06-29T17:06:59.049882Z"
        },
        "trusted": true,
        "id": "GFxht_4s-Bjd",
        "outputId": "8569ad81-eb3d-478d-942c-6df3ca3fa35c"
      },
      "execution_count": null,
      "outputs": [
        {
          "execution_count": 21,
          "output_type": "execute_result",
          "data": {
            "text/plain": "   Pclass  Sex   Age  SibSp  Parch     Fare  Cabin  Embarked\n0       3    1  34.5      0      0   7.8292    186         1\n1       3    0  47.0      1      0   7.0000    186         2\n2       2    1  62.0      0      0   9.6875    186         1\n3       3    1  27.0      0      0   8.6625    186         2\n4       3    0  22.0      1      1  12.2875    186         2",
            "text/html": "<div>\n<style scoped>\n    .dataframe tbody tr th:only-of-type {\n        vertical-align: middle;\n    }\n\n    .dataframe tbody tr th {\n        vertical-align: top;\n    }\n\n    .dataframe thead th {\n        text-align: right;\n    }\n</style>\n<table border=\"1\" class=\"dataframe\">\n  <thead>\n    <tr style=\"text-align: right;\">\n      <th></th>\n      <th>Pclass</th>\n      <th>Sex</th>\n      <th>Age</th>\n      <th>SibSp</th>\n      <th>Parch</th>\n      <th>Fare</th>\n      <th>Cabin</th>\n      <th>Embarked</th>\n    </tr>\n  </thead>\n  <tbody>\n    <tr>\n      <th>0</th>\n      <td>3</td>\n      <td>1</td>\n      <td>34.5</td>\n      <td>0</td>\n      <td>0</td>\n      <td>7.8292</td>\n      <td>186</td>\n      <td>1</td>\n    </tr>\n    <tr>\n      <th>1</th>\n      <td>3</td>\n      <td>0</td>\n      <td>47.0</td>\n      <td>1</td>\n      <td>0</td>\n      <td>7.0000</td>\n      <td>186</td>\n      <td>2</td>\n    </tr>\n    <tr>\n      <th>2</th>\n      <td>2</td>\n      <td>1</td>\n      <td>62.0</td>\n      <td>0</td>\n      <td>0</td>\n      <td>9.6875</td>\n      <td>186</td>\n      <td>1</td>\n    </tr>\n    <tr>\n      <th>3</th>\n      <td>3</td>\n      <td>1</td>\n      <td>27.0</td>\n      <td>0</td>\n      <td>0</td>\n      <td>8.6625</td>\n      <td>186</td>\n      <td>2</td>\n    </tr>\n    <tr>\n      <th>4</th>\n      <td>3</td>\n      <td>0</td>\n      <td>22.0</td>\n      <td>1</td>\n      <td>1</td>\n      <td>12.2875</td>\n      <td>186</td>\n      <td>2</td>\n    </tr>\n  </tbody>\n</table>\n</div>"
          },
          "metadata": {}
        }
      ]
    },
    {
      "cell_type": "markdown",
      "source": [
        "Note that there are missing values in `Age` and `Fare`. For such cases, we impute them with `-1`."
      ],
      "metadata": {
        "id": "QGqOanJi-Bjd"
      }
    },
    {
      "cell_type": "code",
      "source": [
        "df_train['Age'] = df_train['Age'].replace(np.NaN, -1)\n",
        "df_test['Age'] = df_test['Age'].replace(np.NaN, -1)\n",
        "df_train['Fare'] = df_train['Fare'].replace(np.NaN, -1)\n",
        "df_test['Fare'] = df_test['Fare'].replace(np.NaN, -1)"
      ],
      "metadata": {
        "execution": {
          "iopub.status.busy": "2024-06-29T17:06:59.052491Z",
          "iopub.execute_input": "2024-06-29T17:06:59.052943Z",
          "iopub.status.idle": "2024-06-29T17:06:59.064289Z",
          "shell.execute_reply.started": "2024-06-29T17:06:59.052895Z",
          "shell.execute_reply": "2024-06-29T17:06:59.062984Z"
        },
        "trusted": true,
        "id": "_PkRWOCY-Bjd"
      },
      "execution_count": null,
      "outputs": []
    },
    {
      "cell_type": "markdown",
      "source": [
        "Some sanity check..."
      ],
      "metadata": {
        "id": "g99sSUWA-Bjd"
      }
    },
    {
      "cell_type": "code",
      "source": [
        "df_train[df_train.isna().any(axis=1)]"
      ],
      "metadata": {
        "execution": {
          "iopub.status.busy": "2024-06-29T17:06:59.066318Z",
          "iopub.execute_input": "2024-06-29T17:06:59.066807Z",
          "iopub.status.idle": "2024-06-29T17:06:59.089224Z",
          "shell.execute_reply.started": "2024-06-29T17:06:59.066756Z",
          "shell.execute_reply": "2024-06-29T17:06:59.088069Z"
        },
        "trusted": true,
        "id": "tM3Q7buI-Bjd",
        "outputId": "53b8573a-5887-46d9-b435-3af3d549fab4"
      },
      "execution_count": null,
      "outputs": [
        {
          "execution_count": 23,
          "output_type": "execute_result",
          "data": {
            "text/plain": "Empty DataFrame\nColumns: [Survived, Pclass, Sex, Age, SibSp, Parch, Fare, Cabin, Embarked]\nIndex: []",
            "text/html": "<div>\n<style scoped>\n    .dataframe tbody tr th:only-of-type {\n        vertical-align: middle;\n    }\n\n    .dataframe tbody tr th {\n        vertical-align: top;\n    }\n\n    .dataframe thead th {\n        text-align: right;\n    }\n</style>\n<table border=\"1\" class=\"dataframe\">\n  <thead>\n    <tr style=\"text-align: right;\">\n      <th></th>\n      <th>Survived</th>\n      <th>Pclass</th>\n      <th>Sex</th>\n      <th>Age</th>\n      <th>SibSp</th>\n      <th>Parch</th>\n      <th>Fare</th>\n      <th>Cabin</th>\n      <th>Embarked</th>\n    </tr>\n  </thead>\n  <tbody>\n  </tbody>\n</table>\n</div>"
          },
          "metadata": {}
        }
      ]
    },
    {
      "cell_type": "code",
      "source": [
        "df_test[df_test.isna().any(axis=1)]"
      ],
      "metadata": {
        "execution": {
          "iopub.status.busy": "2024-06-29T17:06:59.090676Z",
          "iopub.execute_input": "2024-06-29T17:06:59.091066Z",
          "iopub.status.idle": "2024-06-29T17:06:59.104015Z",
          "shell.execute_reply.started": "2024-06-29T17:06:59.091031Z",
          "shell.execute_reply": "2024-06-29T17:06:59.102838Z"
        },
        "trusted": true,
        "id": "ZYZMMtbT-Bjd",
        "outputId": "a2df1c2b-e09b-4949-a704-5929afc8a664"
      },
      "execution_count": null,
      "outputs": [
        {
          "execution_count": 24,
          "output_type": "execute_result",
          "data": {
            "text/plain": "Empty DataFrame\nColumns: [Pclass, Sex, Age, SibSp, Parch, Fare, Cabin, Embarked]\nIndex: []",
            "text/html": "<div>\n<style scoped>\n    .dataframe tbody tr th:only-of-type {\n        vertical-align: middle;\n    }\n\n    .dataframe tbody tr th {\n        vertical-align: top;\n    }\n\n    .dataframe thead th {\n        text-align: right;\n    }\n</style>\n<table border=\"1\" class=\"dataframe\">\n  <thead>\n    <tr style=\"text-align: right;\">\n      <th></th>\n      <th>Pclass</th>\n      <th>Sex</th>\n      <th>Age</th>\n      <th>SibSp</th>\n      <th>Parch</th>\n      <th>Fare</th>\n      <th>Cabin</th>\n      <th>Embarked</th>\n    </tr>\n  </thead>\n  <tbody>\n  </tbody>\n</table>\n</div>"
          },
          "metadata": {}
        }
      ]
    },
    {
      "cell_type": "markdown",
      "source": [
        "# Feature Engineering"
      ],
      "metadata": {
        "id": "trTEPMTV-Bje"
      }
    },
    {
      "cell_type": "markdown",
      "source": [
        "## Stratify Age Into Groups\n",
        "\n",
        "Looking at our [EDA](https://www.kaggle.com/khoongweihao/part-1-exploratory-data-analysis-eda) for `Age`, we can see that most of the passengers are between 18-30 years of age. We can generate new features that group the passengers into different age groups."
      ],
      "metadata": {
        "id": "YwBrbl_r-Bje"
      }
    },
    {
      "cell_type": "code",
      "source": [
        "def age_group(x):\n",
        "    if x < 18:\n",
        "        return 'under_18'\n",
        "    elif x >= 18 and x <=30:\n",
        "        return '18_to_30'\n",
        "    else:\n",
        "        return 'above_30'"
      ],
      "metadata": {
        "execution": {
          "iopub.status.busy": "2024-06-29T17:06:59.105693Z",
          "iopub.execute_input": "2024-06-29T17:06:59.106191Z",
          "iopub.status.idle": "2024-06-29T17:06:59.114861Z",
          "shell.execute_reply.started": "2024-06-29T17:06:59.106142Z",
          "shell.execute_reply": "2024-06-29T17:06:59.113533Z"
        },
        "trusted": true,
        "id": "gY_JI8Dx-Bje"
      },
      "execution_count": null,
      "outputs": []
    },
    {
      "cell_type": "code",
      "source": [
        "df_train['Age_Group'] = df_train['Age'].apply(lambda x: age_group(x))\n",
        "df_train.head()"
      ],
      "metadata": {
        "execution": {
          "iopub.status.busy": "2024-06-29T17:06:59.116336Z",
          "iopub.execute_input": "2024-06-29T17:06:59.116689Z",
          "iopub.status.idle": "2024-06-29T17:06:59.141488Z",
          "shell.execute_reply.started": "2024-06-29T17:06:59.116654Z",
          "shell.execute_reply": "2024-06-29T17:06:59.140369Z"
        },
        "trusted": true,
        "id": "eqjkrKSZ-Bje",
        "outputId": "0d59ab18-6b99-4819-b00e-02b7295942d8"
      },
      "execution_count": null,
      "outputs": [
        {
          "execution_count": 26,
          "output_type": "execute_result",
          "data": {
            "text/plain": "   Survived  Pclass  Sex   Age  SibSp  Parch     Fare  Cabin  Embarked  \\\n0         0       3    1  22.0      1      0   7.2500    186         2   \n1         1       1    0  38.0      1      0  71.2833    106         0   \n2         1       3    0  26.0      0      0   7.9250    186         2   \n3         1       1    0  35.0      1      0  53.1000     70         2   \n4         0       3    1  35.0      0      0   8.0500    186         2   \n\n  Age_Group  \n0  18_to_30  \n1  above_30  \n2  18_to_30  \n3  above_30  \n4  above_30  ",
            "text/html": "<div>\n<style scoped>\n    .dataframe tbody tr th:only-of-type {\n        vertical-align: middle;\n    }\n\n    .dataframe tbody tr th {\n        vertical-align: top;\n    }\n\n    .dataframe thead th {\n        text-align: right;\n    }\n</style>\n<table border=\"1\" class=\"dataframe\">\n  <thead>\n    <tr style=\"text-align: right;\">\n      <th></th>\n      <th>Survived</th>\n      <th>Pclass</th>\n      <th>Sex</th>\n      <th>Age</th>\n      <th>SibSp</th>\n      <th>Parch</th>\n      <th>Fare</th>\n      <th>Cabin</th>\n      <th>Embarked</th>\n      <th>Age_Group</th>\n    </tr>\n  </thead>\n  <tbody>\n    <tr>\n      <th>0</th>\n      <td>0</td>\n      <td>3</td>\n      <td>1</td>\n      <td>22.0</td>\n      <td>1</td>\n      <td>0</td>\n      <td>7.2500</td>\n      <td>186</td>\n      <td>2</td>\n      <td>18_to_30</td>\n    </tr>\n    <tr>\n      <th>1</th>\n      <td>1</td>\n      <td>1</td>\n      <td>0</td>\n      <td>38.0</td>\n      <td>1</td>\n      <td>0</td>\n      <td>71.2833</td>\n      <td>106</td>\n      <td>0</td>\n      <td>above_30</td>\n    </tr>\n    <tr>\n      <th>2</th>\n      <td>1</td>\n      <td>3</td>\n      <td>0</td>\n      <td>26.0</td>\n      <td>0</td>\n      <td>0</td>\n      <td>7.9250</td>\n      <td>186</td>\n      <td>2</td>\n      <td>18_to_30</td>\n    </tr>\n    <tr>\n      <th>3</th>\n      <td>1</td>\n      <td>1</td>\n      <td>0</td>\n      <td>35.0</td>\n      <td>1</td>\n      <td>0</td>\n      <td>53.1000</td>\n      <td>70</td>\n      <td>2</td>\n      <td>above_30</td>\n    </tr>\n    <tr>\n      <th>4</th>\n      <td>0</td>\n      <td>3</td>\n      <td>1</td>\n      <td>35.0</td>\n      <td>0</td>\n      <td>0</td>\n      <td>8.0500</td>\n      <td>186</td>\n      <td>2</td>\n      <td>above_30</td>\n    </tr>\n  </tbody>\n</table>\n</div>"
          },
          "metadata": {}
        }
      ]
    },
    {
      "cell_type": "code",
      "source": [
        "df_test['Age_Group'] = df_test['Age'].apply(lambda x: age_group(x))\n",
        "df_test.head()"
      ],
      "metadata": {
        "execution": {
          "iopub.status.busy": "2024-06-29T17:06:59.143032Z",
          "iopub.execute_input": "2024-06-29T17:06:59.143379Z",
          "iopub.status.idle": "2024-06-29T17:06:59.167649Z",
          "shell.execute_reply.started": "2024-06-29T17:06:59.14333Z",
          "shell.execute_reply": "2024-06-29T17:06:59.166538Z"
        },
        "trusted": true,
        "id": "r02-rOUJ-Bje",
        "outputId": "eea880ef-c465-4657-81ab-44182ecbb5e0"
      },
      "execution_count": null,
      "outputs": [
        {
          "execution_count": 27,
          "output_type": "execute_result",
          "data": {
            "text/plain": "   Pclass  Sex   Age  SibSp  Parch     Fare  Cabin  Embarked Age_Group\n0       3    1  34.5      0      0   7.8292    186         1  above_30\n1       3    0  47.0      1      0   7.0000    186         2  above_30\n2       2    1  62.0      0      0   9.6875    186         1  above_30\n3       3    1  27.0      0      0   8.6625    186         2  18_to_30\n4       3    0  22.0      1      1  12.2875    186         2  18_to_30",
            "text/html": "<div>\n<style scoped>\n    .dataframe tbody tr th:only-of-type {\n        vertical-align: middle;\n    }\n\n    .dataframe tbody tr th {\n        vertical-align: top;\n    }\n\n    .dataframe thead th {\n        text-align: right;\n    }\n</style>\n<table border=\"1\" class=\"dataframe\">\n  <thead>\n    <tr style=\"text-align: right;\">\n      <th></th>\n      <th>Pclass</th>\n      <th>Sex</th>\n      <th>Age</th>\n      <th>SibSp</th>\n      <th>Parch</th>\n      <th>Fare</th>\n      <th>Cabin</th>\n      <th>Embarked</th>\n      <th>Age_Group</th>\n    </tr>\n  </thead>\n  <tbody>\n    <tr>\n      <th>0</th>\n      <td>3</td>\n      <td>1</td>\n      <td>34.5</td>\n      <td>0</td>\n      <td>0</td>\n      <td>7.8292</td>\n      <td>186</td>\n      <td>1</td>\n      <td>above_30</td>\n    </tr>\n    <tr>\n      <th>1</th>\n      <td>3</td>\n      <td>0</td>\n      <td>47.0</td>\n      <td>1</td>\n      <td>0</td>\n      <td>7.0000</td>\n      <td>186</td>\n      <td>2</td>\n      <td>above_30</td>\n    </tr>\n    <tr>\n      <th>2</th>\n      <td>2</td>\n      <td>1</td>\n      <td>62.0</td>\n      <td>0</td>\n      <td>0</td>\n      <td>9.6875</td>\n      <td>186</td>\n      <td>1</td>\n      <td>above_30</td>\n    </tr>\n    <tr>\n      <th>3</th>\n      <td>3</td>\n      <td>1</td>\n      <td>27.0</td>\n      <td>0</td>\n      <td>0</td>\n      <td>8.6625</td>\n      <td>186</td>\n      <td>2</td>\n      <td>18_to_30</td>\n    </tr>\n    <tr>\n      <th>4</th>\n      <td>3</td>\n      <td>0</td>\n      <td>22.0</td>\n      <td>1</td>\n      <td>1</td>\n      <td>12.2875</td>\n      <td>186</td>\n      <td>2</td>\n      <td>18_to_30</td>\n    </tr>\n  </tbody>\n</table>\n</div>"
          },
          "metadata": {}
        }
      ]
    },
    {
      "cell_type": "markdown",
      "source": [
        "Note that we have to encode again!"
      ],
      "metadata": {
        "id": "I4gKQiGY-Bje"
      }
    },
    {
      "cell_type": "code",
      "source": [
        "cols_to_encode = ['Age_Group']\n",
        "for col in cols_to_encode:\n",
        "    le = LabelEncoder()\n",
        "    le.fit(df_train[col])\n",
        "\n",
        "    df_train[col] = le.transform(df_train[col])\n",
        "    df_test[col] = le.transform(df_test[col])"
      ],
      "metadata": {
        "execution": {
          "iopub.status.busy": "2024-06-29T17:06:59.169304Z",
          "iopub.execute_input": "2024-06-29T17:06:59.16973Z",
          "iopub.status.idle": "2024-06-29T17:06:59.181222Z",
          "shell.execute_reply.started": "2024-06-29T17:06:59.16969Z",
          "shell.execute_reply": "2024-06-29T17:06:59.180058Z"
        },
        "trusted": true,
        "id": "tSpflIfA-Bje"
      },
      "execution_count": null,
      "outputs": []
    },
    {
      "cell_type": "code",
      "source": [
        "df_train.head()"
      ],
      "metadata": {
        "execution": {
          "iopub.status.busy": "2024-06-29T17:06:59.185452Z",
          "iopub.execute_input": "2024-06-29T17:06:59.185875Z",
          "iopub.status.idle": "2024-06-29T17:06:59.206046Z",
          "shell.execute_reply.started": "2024-06-29T17:06:59.185805Z",
          "shell.execute_reply": "2024-06-29T17:06:59.204969Z"
        },
        "trusted": true,
        "id": "xJQWdEhR-Bjf",
        "outputId": "35ddeda1-7415-442d-98ad-6dd7f6bdb259"
      },
      "execution_count": null,
      "outputs": [
        {
          "execution_count": 29,
          "output_type": "execute_result",
          "data": {
            "text/plain": "   Survived  Pclass  Sex   Age  SibSp  Parch     Fare  Cabin  Embarked  \\\n0         0       3    1  22.0      1      0   7.2500    186         2   \n1         1       1    0  38.0      1      0  71.2833    106         0   \n2         1       3    0  26.0      0      0   7.9250    186         2   \n3         1       1    0  35.0      1      0  53.1000     70         2   \n4         0       3    1  35.0      0      0   8.0500    186         2   \n\n   Age_Group  \n0          0  \n1          1  \n2          0  \n3          1  \n4          1  ",
            "text/html": "<div>\n<style scoped>\n    .dataframe tbody tr th:only-of-type {\n        vertical-align: middle;\n    }\n\n    .dataframe tbody tr th {\n        vertical-align: top;\n    }\n\n    .dataframe thead th {\n        text-align: right;\n    }\n</style>\n<table border=\"1\" class=\"dataframe\">\n  <thead>\n    <tr style=\"text-align: right;\">\n      <th></th>\n      <th>Survived</th>\n      <th>Pclass</th>\n      <th>Sex</th>\n      <th>Age</th>\n      <th>SibSp</th>\n      <th>Parch</th>\n      <th>Fare</th>\n      <th>Cabin</th>\n      <th>Embarked</th>\n      <th>Age_Group</th>\n    </tr>\n  </thead>\n  <tbody>\n    <tr>\n      <th>0</th>\n      <td>0</td>\n      <td>3</td>\n      <td>1</td>\n      <td>22.0</td>\n      <td>1</td>\n      <td>0</td>\n      <td>7.2500</td>\n      <td>186</td>\n      <td>2</td>\n      <td>0</td>\n    </tr>\n    <tr>\n      <th>1</th>\n      <td>1</td>\n      <td>1</td>\n      <td>0</td>\n      <td>38.0</td>\n      <td>1</td>\n      <td>0</td>\n      <td>71.2833</td>\n      <td>106</td>\n      <td>0</td>\n      <td>1</td>\n    </tr>\n    <tr>\n      <th>2</th>\n      <td>1</td>\n      <td>3</td>\n      <td>0</td>\n      <td>26.0</td>\n      <td>0</td>\n      <td>0</td>\n      <td>7.9250</td>\n      <td>186</td>\n      <td>2</td>\n      <td>0</td>\n    </tr>\n    <tr>\n      <th>3</th>\n      <td>1</td>\n      <td>1</td>\n      <td>0</td>\n      <td>35.0</td>\n      <td>1</td>\n      <td>0</td>\n      <td>53.1000</td>\n      <td>70</td>\n      <td>2</td>\n      <td>1</td>\n    </tr>\n    <tr>\n      <th>4</th>\n      <td>0</td>\n      <td>3</td>\n      <td>1</td>\n      <td>35.0</td>\n      <td>0</td>\n      <td>0</td>\n      <td>8.0500</td>\n      <td>186</td>\n      <td>2</td>\n      <td>1</td>\n    </tr>\n  </tbody>\n</table>\n</div>"
          },
          "metadata": {}
        }
      ]
    },
    {
      "cell_type": "code",
      "source": [
        "df_test.head()"
      ],
      "metadata": {
        "execution": {
          "iopub.status.busy": "2024-06-29T17:06:59.207748Z",
          "iopub.execute_input": "2024-06-29T17:06:59.208094Z",
          "iopub.status.idle": "2024-06-29T17:06:59.228536Z",
          "shell.execute_reply.started": "2024-06-29T17:06:59.208061Z",
          "shell.execute_reply": "2024-06-29T17:06:59.227275Z"
        },
        "trusted": true,
        "id": "kqEDzdV0-Bju",
        "outputId": "cc78ad53-8ce3-4e86-aca3-f75ab84fd9b8"
      },
      "execution_count": null,
      "outputs": [
        {
          "execution_count": 30,
          "output_type": "execute_result",
          "data": {
            "text/plain": "   Pclass  Sex   Age  SibSp  Parch     Fare  Cabin  Embarked  Age_Group\n0       3    1  34.5      0      0   7.8292    186         1          1\n1       3    0  47.0      1      0   7.0000    186         2          1\n2       2    1  62.0      0      0   9.6875    186         1          1\n3       3    1  27.0      0      0   8.6625    186         2          0\n4       3    0  22.0      1      1  12.2875    186         2          0",
            "text/html": "<div>\n<style scoped>\n    .dataframe tbody tr th:only-of-type {\n        vertical-align: middle;\n    }\n\n    .dataframe tbody tr th {\n        vertical-align: top;\n    }\n\n    .dataframe thead th {\n        text-align: right;\n    }\n</style>\n<table border=\"1\" class=\"dataframe\">\n  <thead>\n    <tr style=\"text-align: right;\">\n      <th></th>\n      <th>Pclass</th>\n      <th>Sex</th>\n      <th>Age</th>\n      <th>SibSp</th>\n      <th>Parch</th>\n      <th>Fare</th>\n      <th>Cabin</th>\n      <th>Embarked</th>\n      <th>Age_Group</th>\n    </tr>\n  </thead>\n  <tbody>\n    <tr>\n      <th>0</th>\n      <td>3</td>\n      <td>1</td>\n      <td>34.5</td>\n      <td>0</td>\n      <td>0</td>\n      <td>7.8292</td>\n      <td>186</td>\n      <td>1</td>\n      <td>1</td>\n    </tr>\n    <tr>\n      <th>1</th>\n      <td>3</td>\n      <td>0</td>\n      <td>47.0</td>\n      <td>1</td>\n      <td>0</td>\n      <td>7.0000</td>\n      <td>186</td>\n      <td>2</td>\n      <td>1</td>\n    </tr>\n    <tr>\n      <th>2</th>\n      <td>2</td>\n      <td>1</td>\n      <td>62.0</td>\n      <td>0</td>\n      <td>0</td>\n      <td>9.6875</td>\n      <td>186</td>\n      <td>1</td>\n      <td>1</td>\n    </tr>\n    <tr>\n      <th>3</th>\n      <td>3</td>\n      <td>1</td>\n      <td>27.0</td>\n      <td>0</td>\n      <td>0</td>\n      <td>8.6625</td>\n      <td>186</td>\n      <td>2</td>\n      <td>0</td>\n    </tr>\n    <tr>\n      <th>4</th>\n      <td>3</td>\n      <td>0</td>\n      <td>22.0</td>\n      <td>1</td>\n      <td>1</td>\n      <td>12.2875</td>\n      <td>186</td>\n      <td>2</td>\n      <td>0</td>\n    </tr>\n  </tbody>\n</table>\n</div>"
          },
          "metadata": {}
        }
      ]
    },
    {
      "cell_type": "markdown",
      "source": [
        "# More Preprocessing\n",
        "\n",
        "Before we begin to train our model for the classification task, we first scale the data with Scikit-learn's `StandardScaler`. And before that, we extract the target column from `df_train`."
      ],
      "metadata": {
        "id": "BUc8zS-1-Bjv"
      }
    },
    {
      "cell_type": "code",
      "source": [
        "y = df_train['Survived']\n",
        "#df_train.drop('Survived', axis=1, inplace=True)"
      ],
      "metadata": {
        "execution": {
          "iopub.status.busy": "2024-06-29T17:06:59.229982Z",
          "iopub.execute_input": "2024-06-29T17:06:59.23033Z",
          "iopub.status.idle": "2024-06-29T17:06:59.241719Z",
          "shell.execute_reply.started": "2024-06-29T17:06:59.230297Z",
          "shell.execute_reply": "2024-06-29T17:06:59.240545Z"
        },
        "trusted": true,
        "id": "Yh6RypBa-Bjv"
      },
      "execution_count": null,
      "outputs": []
    },
    {
      "cell_type": "markdown",
      "source": [
        "Now we are ready to scale the data and use them for model training."
      ],
      "metadata": {
        "id": "y6foFRC5-Bjw"
      }
    },
    {
      "cell_type": "code",
      "source": [
        "cols_to_scale = ['Pclass', 'Age', 'Fare', 'Cabin', 'Embarked', 'Age_Group']\n",
        "for col in cols_to_scale:\n",
        "    sc = MinMaxScaler()\n",
        "    df_train[col] = sc.fit_transform(df_train[col].values.reshape(-1,1))\n",
        "    sc = MinMaxScaler()\n",
        "    df_test[col] = sc.fit_transform(df_test[col].values.reshape(-1,1))"
      ],
      "metadata": {
        "execution": {
          "iopub.status.busy": "2024-06-29T17:06:59.243234Z",
          "iopub.execute_input": "2024-06-29T17:06:59.243646Z",
          "iopub.status.idle": "2024-06-29T17:06:59.261241Z",
          "shell.execute_reply.started": "2024-06-29T17:06:59.243609Z",
          "shell.execute_reply": "2024-06-29T17:06:59.260122Z"
        },
        "trusted": true,
        "id": "ePyRm-Tb-Bjw"
      },
      "execution_count": null,
      "outputs": []
    },
    {
      "cell_type": "code",
      "source": [
        "df_train.head()"
      ],
      "metadata": {
        "execution": {
          "iopub.status.busy": "2024-06-29T17:06:59.262804Z",
          "iopub.execute_input": "2024-06-29T17:06:59.26316Z",
          "iopub.status.idle": "2024-06-29T17:06:59.283013Z",
          "shell.execute_reply.started": "2024-06-29T17:06:59.263128Z",
          "shell.execute_reply": "2024-06-29T17:06:59.281885Z"
        },
        "trusted": true,
        "id": "UdeNCoMX-Bjw",
        "outputId": "55fe3bf3-73d5-40ed-de85-0b4ab3d2b976"
      },
      "execution_count": null,
      "outputs": [
        {
          "execution_count": 33,
          "output_type": "execute_result",
          "data": {
            "text/plain": "   Survived  Pclass  Sex       Age  SibSp  Parch      Fare     Cabin  \\\n0         0     1.0    1  0.283951      1      0  0.014151  1.000000   \n1         1     0.0    0  0.481481      1      0  0.139136  0.569892   \n2         1     1.0    0  0.333333      0      0  0.015469  1.000000   \n3         1     0.0    0  0.444444      1      0  0.103644  0.376344   \n4         0     1.0    1  0.444444      0      0  0.015713  1.000000   \n\n   Embarked  Age_Group  \n0  0.666667        0.0  \n1  0.000000        0.5  \n2  0.666667        0.0  \n3  0.666667        0.5  \n4  0.666667        0.5  ",
            "text/html": "<div>\n<style scoped>\n    .dataframe tbody tr th:only-of-type {\n        vertical-align: middle;\n    }\n\n    .dataframe tbody tr th {\n        vertical-align: top;\n    }\n\n    .dataframe thead th {\n        text-align: right;\n    }\n</style>\n<table border=\"1\" class=\"dataframe\">\n  <thead>\n    <tr style=\"text-align: right;\">\n      <th></th>\n      <th>Survived</th>\n      <th>Pclass</th>\n      <th>Sex</th>\n      <th>Age</th>\n      <th>SibSp</th>\n      <th>Parch</th>\n      <th>Fare</th>\n      <th>Cabin</th>\n      <th>Embarked</th>\n      <th>Age_Group</th>\n    </tr>\n  </thead>\n  <tbody>\n    <tr>\n      <th>0</th>\n      <td>0</td>\n      <td>1.0</td>\n      <td>1</td>\n      <td>0.283951</td>\n      <td>1</td>\n      <td>0</td>\n      <td>0.014151</td>\n      <td>1.000000</td>\n      <td>0.666667</td>\n      <td>0.0</td>\n    </tr>\n    <tr>\n      <th>1</th>\n      <td>1</td>\n      <td>0.0</td>\n      <td>0</td>\n      <td>0.481481</td>\n      <td>1</td>\n      <td>0</td>\n      <td>0.139136</td>\n      <td>0.569892</td>\n      <td>0.000000</td>\n      <td>0.5</td>\n    </tr>\n    <tr>\n      <th>2</th>\n      <td>1</td>\n      <td>1.0</td>\n      <td>0</td>\n      <td>0.333333</td>\n      <td>0</td>\n      <td>0</td>\n      <td>0.015469</td>\n      <td>1.000000</td>\n      <td>0.666667</td>\n      <td>0.0</td>\n    </tr>\n    <tr>\n      <th>3</th>\n      <td>1</td>\n      <td>0.0</td>\n      <td>0</td>\n      <td>0.444444</td>\n      <td>1</td>\n      <td>0</td>\n      <td>0.103644</td>\n      <td>0.376344</td>\n      <td>0.666667</td>\n      <td>0.5</td>\n    </tr>\n    <tr>\n      <th>4</th>\n      <td>0</td>\n      <td>1.0</td>\n      <td>1</td>\n      <td>0.444444</td>\n      <td>0</td>\n      <td>0</td>\n      <td>0.015713</td>\n      <td>1.000000</td>\n      <td>0.666667</td>\n      <td>0.5</td>\n    </tr>\n  </tbody>\n</table>\n</div>"
          },
          "metadata": {}
        }
      ]
    },
    {
      "cell_type": "code",
      "source": [
        "df_test.head()"
      ],
      "metadata": {
        "execution": {
          "iopub.status.busy": "2024-06-29T17:06:59.284545Z",
          "iopub.execute_input": "2024-06-29T17:06:59.284926Z",
          "iopub.status.idle": "2024-06-29T17:06:59.311684Z",
          "shell.execute_reply.started": "2024-06-29T17:06:59.284874Z",
          "shell.execute_reply": "2024-06-29T17:06:59.310432Z"
        },
        "trusted": true,
        "id": "Z_c5sEUM-Bjw",
        "outputId": "222b3283-2cb4-4042-bcb8-e3e72d58cf75"
      },
      "execution_count": null,
      "outputs": [
        {
          "execution_count": 34,
          "output_type": "execute_result",
          "data": {
            "text/plain": "   Pclass  Sex       Age  SibSp  Parch      Fare  Cabin  Embarked  Age_Group\n0     1.0    1  0.461039      0      0  0.017200    1.0       0.5        0.5\n1     1.0    0  0.623377      1      0  0.015585    1.0       1.0        0.5\n2     0.5    1  0.818182      0      0  0.020820    1.0       0.5        0.5\n3     1.0    1  0.363636      0      0  0.018823    1.0       1.0        0.0\n4     1.0    0  0.298701      1      1  0.025885    1.0       1.0        0.0",
            "text/html": "<div>\n<style scoped>\n    .dataframe tbody tr th:only-of-type {\n        vertical-align: middle;\n    }\n\n    .dataframe tbody tr th {\n        vertical-align: top;\n    }\n\n    .dataframe thead th {\n        text-align: right;\n    }\n</style>\n<table border=\"1\" class=\"dataframe\">\n  <thead>\n    <tr style=\"text-align: right;\">\n      <th></th>\n      <th>Pclass</th>\n      <th>Sex</th>\n      <th>Age</th>\n      <th>SibSp</th>\n      <th>Parch</th>\n      <th>Fare</th>\n      <th>Cabin</th>\n      <th>Embarked</th>\n      <th>Age_Group</th>\n    </tr>\n  </thead>\n  <tbody>\n    <tr>\n      <th>0</th>\n      <td>1.0</td>\n      <td>1</td>\n      <td>0.461039</td>\n      <td>0</td>\n      <td>0</td>\n      <td>0.017200</td>\n      <td>1.0</td>\n      <td>0.5</td>\n      <td>0.5</td>\n    </tr>\n    <tr>\n      <th>1</th>\n      <td>1.0</td>\n      <td>0</td>\n      <td>0.623377</td>\n      <td>1</td>\n      <td>0</td>\n      <td>0.015585</td>\n      <td>1.0</td>\n      <td>1.0</td>\n      <td>0.5</td>\n    </tr>\n    <tr>\n      <th>2</th>\n      <td>0.5</td>\n      <td>1</td>\n      <td>0.818182</td>\n      <td>0</td>\n      <td>0</td>\n      <td>0.020820</td>\n      <td>1.0</td>\n      <td>0.5</td>\n      <td>0.5</td>\n    </tr>\n    <tr>\n      <th>3</th>\n      <td>1.0</td>\n      <td>1</td>\n      <td>0.363636</td>\n      <td>0</td>\n      <td>0</td>\n      <td>0.018823</td>\n      <td>1.0</td>\n      <td>1.0</td>\n      <td>0.0</td>\n    </tr>\n    <tr>\n      <th>4</th>\n      <td>1.0</td>\n      <td>0</td>\n      <td>0.298701</td>\n      <td>1</td>\n      <td>1</td>\n      <td>0.025885</td>\n      <td>1.0</td>\n      <td>1.0</td>\n      <td>0.0</td>\n    </tr>\n  </tbody>\n</table>\n</div>"
          },
          "metadata": {}
        }
      ]
    },
    {
      "cell_type": "markdown",
      "source": [
        "# Save Preprocessed Datasets For Modeling"
      ],
      "metadata": {
        "id": "1zRQ3q_C-Bjw"
      }
    },
    {
      "cell_type": "code",
      "source": [
        "df_train.to_csv('train_preprocessed.csv', index=False)\n",
        "df_test.to_csv('test_preprocessed.csv', index=False)"
      ],
      "metadata": {
        "execution": {
          "iopub.status.busy": "2024-06-29T17:06:59.313488Z",
          "iopub.execute_input": "2024-06-29T17:06:59.314Z",
          "iopub.status.idle": "2024-06-29T17:06:59.345318Z",
          "shell.execute_reply.started": "2024-06-29T17:06:59.313946Z",
          "shell.execute_reply": "2024-06-29T17:06:59.344151Z"
        },
        "trusted": true,
        "id": "nlBv8DiR-Bjx"
      },
      "execution_count": null,
      "outputs": []
    },
    {
      "cell_type": "markdown",
      "source": [
        "# Finishing Remarks\n",
        "\n",
        "Thanks for reading and I welcome your feedback and suggestions for improvement. The notebook will be updated periodically as well.\n",
        "\n",
        "Happy Kaggling!\n",
        "\n",
        "---------------------------------------------------------------------\n",
        "My notebooks in this series can be found in the links below:\n",
        "- [Exploratory Data Analysis (EDA)](https://www.kaggle.com/khoongweihao/part-1-exploratory-data-analysis-eda)\n",
        "- [Preprocessing & Feature Engineering](https://www.kaggle.com/khoongweihao/part-2-preprocessing-feature-engineering)\n",
        "- [Model Training & Validation Strategies](https://www.kaggle.com/khoongweihao/part-3-model-training-validation-strategies)\n",
        "- [Inference & Post-processing Techniques](https://www.kaggle.com/khoongweihao/part-4-inference-and-post-processing-techniques)\n",
        "\n",
        "Bonus notebooks include adoption of recent research in terms of models, hyperparameter search, etc. They can be found in the links below:\n",
        "- Hyperparameter optimization with Optuna\n",
        "- TabNet"
      ],
      "metadata": {
        "id": "wzQyj8hR-Bjx"
      }
    }
  ]
}