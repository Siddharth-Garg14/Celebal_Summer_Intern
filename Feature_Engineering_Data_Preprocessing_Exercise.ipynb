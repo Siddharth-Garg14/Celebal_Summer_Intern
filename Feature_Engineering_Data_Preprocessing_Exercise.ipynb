{
  "metadata": {
    "kernelspec": {
      "language": "python",
      "display_name": "Python 3",
      "name": "python3"
    },
    "language_info": {
      "pygments_lexer": "ipython3",
      "nbconvert_exporter": "python",
      "version": "3.6.4",
      "file_extension": ".py",
      "codemirror_mode": {
        "name": "ipython",
        "version": 3
      },
      "name": "python",
      "mimetype": "text/x-python"
    },
    "colab": {
      "name": "Feature Engineering Data Preprocessing Exercise",
      "provenance": []
    }
  },
  "nbformat_minor": 0,
  "nbformat": 4,
  "cells": [
    {
      "source": [
        "\n",
        "# IMPORTANT: RUN THIS CELL IN ORDER TO IMPORT YOUR KAGGLE DATA SOURCES\n",
        "# TO THE CORRECT LOCATION (/kaggle/input) IN YOUR NOTEBOOK,\n",
        "# THEN FEEL FREE TO DELETE THIS CELL.\n",
        "# NOTE: THIS NOTEBOOK ENVIRONMENT DIFFERS FROM KAGGLE'S PYTHON\n",
        "# ENVIRONMENT SO THERE MAY BE MISSING LIBRARIES USED BY YOUR\n",
        "# NOTEBOOK.\n",
        "\n",
        "import os\n",
        "import sys\n",
        "from tempfile import NamedTemporaryFile\n",
        "from urllib.request import urlopen\n",
        "from urllib.parse import unquote, urlparse\n",
        "from urllib.error import HTTPError\n",
        "from zipfile import ZipFile\n",
        "import tarfile\n",
        "import shutil\n",
        "\n",
        "CHUNK_SIZE = 40960\n",
        "DATA_SOURCE_MAPPING = 'data-science-day1-titanic:https%3A%2F%2Fstorage.googleapis.com%2Fkaggle-data-sets%2F1247358%2F2080558%2Fbundle%2Farchive.zip%3FX-Goog-Algorithm%3DGOOG4-RSA-SHA256%26X-Goog-Credential%3Dgcp-kaggle-com%2540kaggle-161607.iam.gserviceaccount.com%252F20240712%252Fauto%252Fstorage%252Fgoog4_request%26X-Goog-Date%3D20240712T161652Z%26X-Goog-Expires%3D259200%26X-Goog-SignedHeaders%3Dhost%26X-Goog-Signature%3D14e9dbc5d3f33c1ec1b73c4326cc6d56de4c3f29c927487aaa3a19cf1f120663457e4f06d38ec125e5ccbee9d543ef0dd7f9a0abc66f741d87624654c8871df1717f18f34f4868f08be20f2bf73a9230959ace55cffad2f29bcd13365a20bff4f4fe73a9b5da823476324f23495fc7859285df1d9edad279b83fdab74b80bcd6711d7a82f80fdd98f673cc3daa5dfa197c77526e287743573a042aed94ca3e6ede8193692180f94c61018a30768219d9b3ae074b88f055eacef2486d72a8653e28fa8669d6110abadfab7fa872e7715031f673deb2cfb3fad7f8dbde56e3e6ba34bb4c0085d21e9f3f6b2422b38ec1217f2063bf4cd5fdc77abef8d481db08b9'\n",
        "\n",
        "KAGGLE_INPUT_PATH='/kaggle/input'\n",
        "KAGGLE_WORKING_PATH='/kaggle/working'\n",
        "KAGGLE_SYMLINK='kaggle'\n",
        "\n",
        "!umount /kaggle/input/ 2> /dev/null\n",
        "shutil.rmtree('/kaggle/input', ignore_errors=True)\n",
        "os.makedirs(KAGGLE_INPUT_PATH, 0o777, exist_ok=True)\n",
        "os.makedirs(KAGGLE_WORKING_PATH, 0o777, exist_ok=True)\n",
        "\n",
        "try:\n",
        "  os.symlink(KAGGLE_INPUT_PATH, os.path.join(\"..\", 'input'), target_is_directory=True)\n",
        "except FileExistsError:\n",
        "  pass\n",
        "try:\n",
        "  os.symlink(KAGGLE_WORKING_PATH, os.path.join(\"..\", 'working'), target_is_directory=True)\n",
        "except FileExistsError:\n",
        "  pass\n",
        "\n",
        "for data_source_mapping in DATA_SOURCE_MAPPING.split(','):\n",
        "    directory, download_url_encoded = data_source_mapping.split(':')\n",
        "    download_url = unquote(download_url_encoded)\n",
        "    filename = urlparse(download_url).path\n",
        "    destination_path = os.path.join(KAGGLE_INPUT_PATH, directory)\n",
        "    try:\n",
        "        with urlopen(download_url) as fileres, NamedTemporaryFile() as tfile:\n",
        "            total_length = fileres.headers['content-length']\n",
        "            print(f'Downloading {directory}, {total_length} bytes compressed')\n",
        "            dl = 0\n",
        "            data = fileres.read(CHUNK_SIZE)\n",
        "            while len(data) > 0:\n",
        "                dl += len(data)\n",
        "                tfile.write(data)\n",
        "                done = int(50 * dl / int(total_length))\n",
        "                sys.stdout.write(f\"\\r[{'=' * done}{' ' * (50-done)}] {dl} bytes downloaded\")\n",
        "                sys.stdout.flush()\n",
        "                data = fileres.read(CHUNK_SIZE)\n",
        "            if filename.endswith('.zip'):\n",
        "              with ZipFile(tfile) as zfile:\n",
        "                zfile.extractall(destination_path)\n",
        "            else:\n",
        "              with tarfile.open(tfile.name) as tarfile:\n",
        "                tarfile.extractall(destination_path)\n",
        "            print(f'\\nDownloaded and uncompressed: {directory}')\n",
        "    except HTTPError as e:\n",
        "        print(f'Failed to load (likely expired) {download_url} to path {destination_path}')\n",
        "        continue\n",
        "    except OSError as e:\n",
        "        print(f'Failed to load {download_url} to path {destination_path}')\n",
        "        continue\n",
        "\n",
        "print('Data source import complete.')\n"
      ],
      "metadata": {
        "id": "IoawIGoOu78z",
        "outputId": "0ead1e9d-3525-42e7-f486-8fb883b0d519",
        "colab": {
          "base_uri": "https://localhost:8080/"
        }
      },
      "cell_type": "code",
      "outputs": [
        {
          "output_type": "stream",
          "name": "stdout",
          "text": [
            "Downloading data-science-day1-titanic, 22578 bytes compressed\n",
            "\r[==================================================] 22578 bytes downloaded\n",
            "Downloaded and uncompressed: data-science-day1-titanic\n",
            "Data source import complete.\n"
          ]
        }
      ],
      "execution_count": 1
    },
    {
      "cell_type": "markdown",
      "source": [
        "# Titanic End-to-End Feature Engineering and Data Preprocessing Exercise"
      ],
      "metadata": {
        "id": "IbsVPks0u783"
      }
    },
    {
      "cell_type": "markdown",
      "source": [
        "- **In this application, using the Titanic dataset, we will clean the data and convert it into the format required by the machine learning model by applying the following steps in order from end to end.**"
      ],
      "metadata": {
        "id": "AngjWT-3u784"
      }
    },
    {
      "cell_type": "markdown",
      "source": [
        "# Road Map\n",
        "\n",
        "1. **Import Required Libraries**\n",
        "\n",
        "2. **Adjusting Row Column Settings**\n",
        "\n",
        "3. **Loading the data set.**\n",
        "\n",
        "4. **Exploratory data analysis.**\n",
        "\n",
        "5. **Feature Engineering**\n",
        "\n",
        "6. **Outliers**\n",
        "\n",
        "7. **Missing Values**\n",
        "\n",
        "8. **Label Encoding**\n",
        "\n",
        "9. **Rare Encoding**\n",
        "\n",
        "10. **One-Hot Encoding**\n",
        "\n",
        "11. **Standardization**\n",
        "\n",
        "12. **Bonus :)**"
      ],
      "metadata": {
        "id": "hiicinI7u784"
      }
    },
    {
      "cell_type": "markdown",
      "source": [
        "# 1. Import Required Libraries"
      ],
      "metadata": {
        "id": "LdqDU9P7u785"
      }
    },
    {
      "cell_type": "code",
      "source": [
        "!pip install missingno"
      ],
      "metadata": {
        "execution": {
          "iopub.status.busy": "2023-07-23T22:09:53.769149Z",
          "iopub.execute_input": "2023-07-23T22:09:53.769642Z",
          "iopub.status.idle": "2023-07-23T22:10:09.876108Z",
          "shell.execute_reply.started": "2023-07-23T22:09:53.769604Z",
          "shell.execute_reply": "2023-07-23T22:10:09.874839Z"
        },
        "trusted": true,
        "id": "VyGcmYd-u785",
        "outputId": "494bd7e3-0cba-4b79-b86c-67957509aa9e",
        "colab": {
          "base_uri": "https://localhost:8080/"
        }
      },
      "execution_count": 2,
      "outputs": [
        {
          "output_type": "stream",
          "name": "stdout",
          "text": [
            "Requirement already satisfied: missingno in /usr/local/lib/python3.10/dist-packages (0.5.2)\n",
            "Requirement already satisfied: numpy in /usr/local/lib/python3.10/dist-packages (from missingno) (1.25.2)\n",
            "Requirement already satisfied: matplotlib in /usr/local/lib/python3.10/dist-packages (from missingno) (3.7.1)\n",
            "Requirement already satisfied: scipy in /usr/local/lib/python3.10/dist-packages (from missingno) (1.11.4)\n",
            "Requirement already satisfied: seaborn in /usr/local/lib/python3.10/dist-packages (from missingno) (0.13.1)\n",
            "Requirement already satisfied: contourpy>=1.0.1 in /usr/local/lib/python3.10/dist-packages (from matplotlib->missingno) (1.2.1)\n",
            "Requirement already satisfied: cycler>=0.10 in /usr/local/lib/python3.10/dist-packages (from matplotlib->missingno) (0.12.1)\n",
            "Requirement already satisfied: fonttools>=4.22.0 in /usr/local/lib/python3.10/dist-packages (from matplotlib->missingno) (4.53.0)\n",
            "Requirement already satisfied: kiwisolver>=1.0.1 in /usr/local/lib/python3.10/dist-packages (from matplotlib->missingno) (1.4.5)\n",
            "Requirement already satisfied: packaging>=20.0 in /usr/local/lib/python3.10/dist-packages (from matplotlib->missingno) (24.1)\n",
            "Requirement already satisfied: pillow>=6.2.0 in /usr/local/lib/python3.10/dist-packages (from matplotlib->missingno) (9.4.0)\n",
            "Requirement already satisfied: pyparsing>=2.3.1 in /usr/local/lib/python3.10/dist-packages (from matplotlib->missingno) (3.1.2)\n",
            "Requirement already satisfied: python-dateutil>=2.7 in /usr/local/lib/python3.10/dist-packages (from matplotlib->missingno) (2.8.2)\n",
            "Requirement already satisfied: pandas>=1.2 in /usr/local/lib/python3.10/dist-packages (from seaborn->missingno) (2.0.3)\n",
            "Requirement already satisfied: pytz>=2020.1 in /usr/local/lib/python3.10/dist-packages (from pandas>=1.2->seaborn->missingno) (2023.4)\n",
            "Requirement already satisfied: tzdata>=2022.1 in /usr/local/lib/python3.10/dist-packages (from pandas>=1.2->seaborn->missingno) (2024.1)\n",
            "Requirement already satisfied: six>=1.5 in /usr/local/lib/python3.10/dist-packages (from python-dateutil>=2.7->matplotlib->missingno) (1.16.0)\n"
          ]
        }
      ]
    },
    {
      "cell_type": "code",
      "source": [
        "import numpy as np\n",
        "import pandas as pd\n",
        "import seaborn as sns\n",
        "\n",
        "from matplotlib import pyplot as plt\n",
        "import missingno as msno\n",
        "from datetime import date\n",
        "from sklearn.metrics import accuracy_score\n",
        "from sklearn.model_selection import train_test_split\n",
        "from sklearn.neighbors import LocalOutlierFactor  # => çok değişkenli outlier yakalama yöntemi için import edildi.\n",
        "from sklearn.preprocessing import MinMaxScaler, LabelEncoder, StandardScaler, RobustScaler\n",
        "from sklearn.ensemble import RandomForestClassifier"
      ],
      "metadata": {
        "execution": {
          "iopub.status.busy": "2023-07-23T22:10:09.878515Z",
          "iopub.execute_input": "2023-07-23T22:10:09.879736Z",
          "iopub.status.idle": "2023-07-23T22:10:11.353875Z",
          "shell.execute_reply.started": "2023-07-23T22:10:09.879691Z",
          "shell.execute_reply": "2023-07-23T22:10:11.352535Z"
        },
        "trusted": true,
        "id": "7vS-Y8y-u785"
      },
      "execution_count": 3,
      "outputs": []
    },
    {
      "cell_type": "markdown",
      "source": [
        "# 2. Adjusting Row Column Settings"
      ],
      "metadata": {
        "id": "5TkaVRwlu786"
      }
    },
    {
      "cell_type": "code",
      "source": [
        "pd.set_option('display.max_columns', None)\n",
        "pd.set_option('display.max_rows', None)\n",
        "pd.set_option('display.float_format', lambda x: '%.3f' % x)\n",
        "pd.set_option('display.width', 500)"
      ],
      "metadata": {
        "execution": {
          "iopub.status.busy": "2023-07-23T22:10:11.355598Z",
          "iopub.execute_input": "2023-07-23T22:10:11.35599Z",
          "iopub.status.idle": "2023-07-23T22:10:11.361931Z",
          "shell.execute_reply.started": "2023-07-23T22:10:11.355957Z",
          "shell.execute_reply": "2023-07-23T22:10:11.360707Z"
        },
        "trusted": true,
        "id": "mHS9YieMu786"
      },
      "execution_count": 4,
      "outputs": []
    },
    {
      "cell_type": "markdown",
      "source": [
        "# 3. Loading the data set."
      ],
      "metadata": {
        "id": "VeREygnSu787"
      }
    },
    {
      "cell_type": "code",
      "source": [
        "# Loading the Data Set\n",
        "\n",
        "df = pd.read_csv('/kaggle/input/data-science-day1-titanic/DSB_Day1_Titanic_train.csv')"
      ],
      "metadata": {
        "execution": {
          "iopub.status.busy": "2023-07-23T22:10:11.364687Z",
          "iopub.execute_input": "2023-07-23T22:10:11.365218Z",
          "iopub.status.idle": "2023-07-23T22:10:11.403457Z",
          "shell.execute_reply.started": "2023-07-23T22:10:11.365187Z",
          "shell.execute_reply": "2023-07-23T22:10:11.402417Z"
        },
        "trusted": true,
        "id": "PaJjQEcxu787"
      },
      "execution_count": 5,
      "outputs": []
    },
    {
      "cell_type": "markdown",
      "source": [
        "# 4. Exploratory Data Analysis"
      ],
      "metadata": {
        "id": "u6So5Bdtu787"
      }
    },
    {
      "cell_type": "code",
      "source": [
        "# Preliminary examination of the data set\n",
        "\n",
        "def check_df(dataframe, head=5):\n",
        "    print('##################### Shape #####################')\n",
        "    print(dataframe.shape)\n",
        "    print('##################### Types #####################')\n",
        "    print(dataframe.dtypes)\n",
        "    print('##################### Head #####################')\n",
        "    print(dataframe.head(head))\n",
        "    print('##################### Tail #####################')\n",
        "    print(dataframe.tail(head))\n",
        "    print('##################### NA #####################')\n",
        "    print(dataframe.isnull().sum())\n",
        "    print('##################### Quantiles #####################')\n",
        "    print(dataframe.describe([0, 0.05, 0.50, 0.95, 0.99, 1]).T)\n",
        "\n",
        "check_df(df)"
      ],
      "metadata": {
        "execution": {
          "iopub.status.busy": "2023-07-23T22:10:11.404903Z",
          "iopub.execute_input": "2023-07-23T22:10:11.405278Z",
          "iopub.status.idle": "2023-07-23T22:10:11.461247Z",
          "shell.execute_reply.started": "2023-07-23T22:10:11.405245Z",
          "shell.execute_reply": "2023-07-23T22:10:11.460006Z"
        },
        "trusted": true,
        "id": "aRozYyAsu787",
        "outputId": "206b8ec2-9078-44ab-bd72-bb8983421f90",
        "colab": {
          "base_uri": "https://localhost:8080/"
        }
      },
      "execution_count": 6,
      "outputs": [
        {
          "output_type": "stream",
          "name": "stdout",
          "text": [
            "##################### Shape #####################\n",
            "(891, 12)\n",
            "##################### Types #####################\n",
            "PassengerId      int64\n",
            "Survived         int64\n",
            "Pclass           int64\n",
            "Name            object\n",
            "Sex             object\n",
            "Age            float64\n",
            "SibSp            int64\n",
            "Parch            int64\n",
            "Ticket          object\n",
            "Fare           float64\n",
            "Cabin           object\n",
            "Embarked        object\n",
            "dtype: object\n",
            "##################### Head #####################\n",
            "   PassengerId  Survived  Pclass                                               Name     Sex    Age  SibSp  Parch            Ticket   Fare Cabin Embarked\n",
            "0            1         0       3                            Braund, Mr. Owen Harris    male 22.000      1      0         A/5 21171  7.250   NaN        S\n",
            "1            2         1       1  Cumings, Mrs. John Bradley (Florence Briggs Th...  female 38.000      1      0          PC 17599 71.283   C85        C\n",
            "2            3         1       3                             Heikkinen, Miss. Laina  female 26.000      0      0  STON/O2. 3101282  7.925   NaN        S\n",
            "3            4         1       1       Futrelle, Mrs. Jacques Heath (Lily May Peel)  female 35.000      1      0            113803 53.100  C123        S\n",
            "4            5         0       3                           Allen, Mr. William Henry    male 35.000      0      0            373450  8.050   NaN        S\n",
            "##################### Tail #####################\n",
            "     PassengerId  Survived  Pclass                                      Name     Sex    Age  SibSp  Parch      Ticket   Fare Cabin Embarked\n",
            "886          887         0       2                     Montvila, Rev. Juozas    male 27.000      0      0      211536 13.000   NaN        S\n",
            "887          888         1       1              Graham, Miss. Margaret Edith  female 19.000      0      0      112053 30.000   B42        S\n",
            "888          889         0       3  Johnston, Miss. Catherine Helen \"Carrie\"  female    NaN      1      2  W./C. 6607 23.450   NaN        S\n",
            "889          890         1       1                     Behr, Mr. Karl Howell    male 26.000      0      0      111369 30.000  C148        C\n",
            "890          891         0       3                       Dooley, Mr. Patrick    male 32.000      0      0      370376  7.750   NaN        Q\n",
            "##################### NA #####################\n",
            "PassengerId      0\n",
            "Survived         0\n",
            "Pclass           0\n",
            "Name             0\n",
            "Sex              0\n",
            "Age            177\n",
            "SibSp            0\n",
            "Parch            0\n",
            "Ticket           0\n",
            "Fare             0\n",
            "Cabin          687\n",
            "Embarked         2\n",
            "dtype: int64\n",
            "##################### Quantiles #####################\n",
            "              count    mean     std   min    0%     5%     50%     95%     99%    100%     max\n",
            "PassengerId 891.000 446.000 257.354 1.000 1.000 45.500 446.000 846.500 882.100 891.000 891.000\n",
            "Survived    891.000   0.384   0.487 0.000 0.000  0.000   0.000   1.000   1.000   1.000   1.000\n",
            "Pclass      891.000   2.309   0.836 1.000 1.000  1.000   3.000   3.000   3.000   3.000   3.000\n",
            "Age         714.000  29.699  14.526 0.420 0.420  4.000  28.000  56.000  65.870  80.000  80.000\n",
            "SibSp       891.000   0.523   1.103 0.000 0.000  0.000   0.000   3.000   5.000   8.000   8.000\n",
            "Parch       891.000   0.382   0.806 0.000 0.000  0.000   0.000   2.000   4.000   6.000   6.000\n",
            "Fare        891.000  32.204  49.693 0.000 0.000  7.225  14.454 112.079 249.006 512.329 512.329\n"
          ]
        }
      ]
    },
    {
      "cell_type": "markdown",
      "source": [
        "# 5. Feature Engineering"
      ],
      "metadata": {
        "id": "THObRWRGu788"
      }
    },
    {
      "cell_type": "code",
      "source": [
        "df.columns = [col.upper() for col in df.columns]"
      ],
      "metadata": {
        "execution": {
          "iopub.status.busy": "2023-07-23T22:10:11.462788Z",
          "iopub.execute_input": "2023-07-23T22:10:11.4639Z",
          "iopub.status.idle": "2023-07-23T22:10:11.469343Z",
          "shell.execute_reply.started": "2023-07-23T22:10:11.463854Z",
          "shell.execute_reply": "2023-07-23T22:10:11.468091Z"
        },
        "trusted": true,
        "id": "eq69ogCHu788"
      },
      "execution_count": 7,
      "outputs": []
    },
    {
      "cell_type": "code",
      "source": [
        "df.head()"
      ],
      "metadata": {
        "execution": {
          "iopub.status.busy": "2023-07-23T22:10:11.470632Z",
          "iopub.execute_input": "2023-07-23T22:10:11.471176Z",
          "iopub.status.idle": "2023-07-23T22:10:11.496432Z",
          "shell.execute_reply.started": "2023-07-23T22:10:11.471146Z",
          "shell.execute_reply": "2023-07-23T22:10:11.495369Z"
        },
        "trusted": true,
        "id": "VbReI6-bu788",
        "outputId": "ccefdd38-a89c-4997-fa1c-a53387428cbf",
        "colab": {
          "base_uri": "https://localhost:8080/",
          "height": 206
        }
      },
      "execution_count": 8,
      "outputs": [
        {
          "output_type": "execute_result",
          "data": {
            "text/plain": [
              "   PASSENGERID  SURVIVED  PCLASS                                               NAME     SEX    AGE  SIBSP  PARCH            TICKET   FARE CABIN EMBARKED\n",
              "0            1         0       3                            Braund, Mr. Owen Harris    male 22.000      1      0         A/5 21171  7.250   NaN        S\n",
              "1            2         1       1  Cumings, Mrs. John Bradley (Florence Briggs Th...  female 38.000      1      0          PC 17599 71.283   C85        C\n",
              "2            3         1       3                             Heikkinen, Miss. Laina  female 26.000      0      0  STON/O2. 3101282  7.925   NaN        S\n",
              "3            4         1       1       Futrelle, Mrs. Jacques Heath (Lily May Peel)  female 35.000      1      0            113803 53.100  C123        S\n",
              "4            5         0       3                           Allen, Mr. William Henry    male 35.000      0      0            373450  8.050   NaN        S"
            ],
            "text/html": [
              "\n",
              "  <div id=\"df-d63453d4-d28c-4625-97d0-4f84b67eb192\" class=\"colab-df-container\">\n",
              "    <div>\n",
              "<style scoped>\n",
              "    .dataframe tbody tr th:only-of-type {\n",
              "        vertical-align: middle;\n",
              "    }\n",
              "\n",
              "    .dataframe tbody tr th {\n",
              "        vertical-align: top;\n",
              "    }\n",
              "\n",
              "    .dataframe thead th {\n",
              "        text-align: right;\n",
              "    }\n",
              "</style>\n",
              "<table border=\"1\" class=\"dataframe\">\n",
              "  <thead>\n",
              "    <tr style=\"text-align: right;\">\n",
              "      <th></th>\n",
              "      <th>PASSENGERID</th>\n",
              "      <th>SURVIVED</th>\n",
              "      <th>PCLASS</th>\n",
              "      <th>NAME</th>\n",
              "      <th>SEX</th>\n",
              "      <th>AGE</th>\n",
              "      <th>SIBSP</th>\n",
              "      <th>PARCH</th>\n",
              "      <th>TICKET</th>\n",
              "      <th>FARE</th>\n",
              "      <th>CABIN</th>\n",
              "      <th>EMBARKED</th>\n",
              "    </tr>\n",
              "  </thead>\n",
              "  <tbody>\n",
              "    <tr>\n",
              "      <th>0</th>\n",
              "      <td>1</td>\n",
              "      <td>0</td>\n",
              "      <td>3</td>\n",
              "      <td>Braund, Mr. Owen Harris</td>\n",
              "      <td>male</td>\n",
              "      <td>22.000</td>\n",
              "      <td>1</td>\n",
              "      <td>0</td>\n",
              "      <td>A/5 21171</td>\n",
              "      <td>7.250</td>\n",
              "      <td>NaN</td>\n",
              "      <td>S</td>\n",
              "    </tr>\n",
              "    <tr>\n",
              "      <th>1</th>\n",
              "      <td>2</td>\n",
              "      <td>1</td>\n",
              "      <td>1</td>\n",
              "      <td>Cumings, Mrs. John Bradley (Florence Briggs Th...</td>\n",
              "      <td>female</td>\n",
              "      <td>38.000</td>\n",
              "      <td>1</td>\n",
              "      <td>0</td>\n",
              "      <td>PC 17599</td>\n",
              "      <td>71.283</td>\n",
              "      <td>C85</td>\n",
              "      <td>C</td>\n",
              "    </tr>\n",
              "    <tr>\n",
              "      <th>2</th>\n",
              "      <td>3</td>\n",
              "      <td>1</td>\n",
              "      <td>3</td>\n",
              "      <td>Heikkinen, Miss. Laina</td>\n",
              "      <td>female</td>\n",
              "      <td>26.000</td>\n",
              "      <td>0</td>\n",
              "      <td>0</td>\n",
              "      <td>STON/O2. 3101282</td>\n",
              "      <td>7.925</td>\n",
              "      <td>NaN</td>\n",
              "      <td>S</td>\n",
              "    </tr>\n",
              "    <tr>\n",
              "      <th>3</th>\n",
              "      <td>4</td>\n",
              "      <td>1</td>\n",
              "      <td>1</td>\n",
              "      <td>Futrelle, Mrs. Jacques Heath (Lily May Peel)</td>\n",
              "      <td>female</td>\n",
              "      <td>35.000</td>\n",
              "      <td>1</td>\n",
              "      <td>0</td>\n",
              "      <td>113803</td>\n",
              "      <td>53.100</td>\n",
              "      <td>C123</td>\n",
              "      <td>S</td>\n",
              "    </tr>\n",
              "    <tr>\n",
              "      <th>4</th>\n",
              "      <td>5</td>\n",
              "      <td>0</td>\n",
              "      <td>3</td>\n",
              "      <td>Allen, Mr. William Henry</td>\n",
              "      <td>male</td>\n",
              "      <td>35.000</td>\n",
              "      <td>0</td>\n",
              "      <td>0</td>\n",
              "      <td>373450</td>\n",
              "      <td>8.050</td>\n",
              "      <td>NaN</td>\n",
              "      <td>S</td>\n",
              "    </tr>\n",
              "  </tbody>\n",
              "</table>\n",
              "</div>\n",
              "    <div class=\"colab-df-buttons\">\n",
              "\n",
              "  <div class=\"colab-df-container\">\n",
              "    <button class=\"colab-df-convert\" onclick=\"convertToInteractive('df-d63453d4-d28c-4625-97d0-4f84b67eb192')\"\n",
              "            title=\"Convert this dataframe to an interactive table.\"\n",
              "            style=\"display:none;\">\n",
              "\n",
              "  <svg xmlns=\"http://www.w3.org/2000/svg\" height=\"24px\" viewBox=\"0 -960 960 960\">\n",
              "    <path d=\"M120-120v-720h720v720H120Zm60-500h600v-160H180v160Zm220 220h160v-160H400v160Zm0 220h160v-160H400v160ZM180-400h160v-160H180v160Zm440 0h160v-160H620v160ZM180-180h160v-160H180v160Zm440 0h160v-160H620v160Z\"/>\n",
              "  </svg>\n",
              "    </button>\n",
              "\n",
              "  <style>\n",
              "    .colab-df-container {\n",
              "      display:flex;\n",
              "      gap: 12px;\n",
              "    }\n",
              "\n",
              "    .colab-df-convert {\n",
              "      background-color: #E8F0FE;\n",
              "      border: none;\n",
              "      border-radius: 50%;\n",
              "      cursor: pointer;\n",
              "      display: none;\n",
              "      fill: #1967D2;\n",
              "      height: 32px;\n",
              "      padding: 0 0 0 0;\n",
              "      width: 32px;\n",
              "    }\n",
              "\n",
              "    .colab-df-convert:hover {\n",
              "      background-color: #E2EBFA;\n",
              "      box-shadow: 0px 1px 2px rgba(60, 64, 67, 0.3), 0px 1px 3px 1px rgba(60, 64, 67, 0.15);\n",
              "      fill: #174EA6;\n",
              "    }\n",
              "\n",
              "    .colab-df-buttons div {\n",
              "      margin-bottom: 4px;\n",
              "    }\n",
              "\n",
              "    [theme=dark] .colab-df-convert {\n",
              "      background-color: #3B4455;\n",
              "      fill: #D2E3FC;\n",
              "    }\n",
              "\n",
              "    [theme=dark] .colab-df-convert:hover {\n",
              "      background-color: #434B5C;\n",
              "      box-shadow: 0px 1px 3px 1px rgba(0, 0, 0, 0.15);\n",
              "      filter: drop-shadow(0px 1px 2px rgba(0, 0, 0, 0.3));\n",
              "      fill: #FFFFFF;\n",
              "    }\n",
              "  </style>\n",
              "\n",
              "    <script>\n",
              "      const buttonEl =\n",
              "        document.querySelector('#df-d63453d4-d28c-4625-97d0-4f84b67eb192 button.colab-df-convert');\n",
              "      buttonEl.style.display =\n",
              "        google.colab.kernel.accessAllowed ? 'block' : 'none';\n",
              "\n",
              "      async function convertToInteractive(key) {\n",
              "        const element = document.querySelector('#df-d63453d4-d28c-4625-97d0-4f84b67eb192');\n",
              "        const dataTable =\n",
              "          await google.colab.kernel.invokeFunction('convertToInteractive',\n",
              "                                                    [key], {});\n",
              "        if (!dataTable) return;\n",
              "\n",
              "        const docLinkHtml = 'Like what you see? Visit the ' +\n",
              "          '<a target=\"_blank\" href=https://colab.research.google.com/notebooks/data_table.ipynb>data table notebook</a>'\n",
              "          + ' to learn more about interactive tables.';\n",
              "        element.innerHTML = '';\n",
              "        dataTable['output_type'] = 'display_data';\n",
              "        await google.colab.output.renderOutput(dataTable, element);\n",
              "        const docLink = document.createElement('div');\n",
              "        docLink.innerHTML = docLinkHtml;\n",
              "        element.appendChild(docLink);\n",
              "      }\n",
              "    </script>\n",
              "  </div>\n",
              "\n",
              "\n",
              "<div id=\"df-f5435115-a4ed-4a2e-a14f-ba68b4afd3f8\">\n",
              "  <button class=\"colab-df-quickchart\" onclick=\"quickchart('df-f5435115-a4ed-4a2e-a14f-ba68b4afd3f8')\"\n",
              "            title=\"Suggest charts\"\n",
              "            style=\"display:none;\">\n",
              "\n",
              "<svg xmlns=\"http://www.w3.org/2000/svg\" height=\"24px\"viewBox=\"0 0 24 24\"\n",
              "     width=\"24px\">\n",
              "    <g>\n",
              "        <path d=\"M19 3H5c-1.1 0-2 .9-2 2v14c0 1.1.9 2 2 2h14c1.1 0 2-.9 2-2V5c0-1.1-.9-2-2-2zM9 17H7v-7h2v7zm4 0h-2V7h2v10zm4 0h-2v-4h2v4z\"/>\n",
              "    </g>\n",
              "</svg>\n",
              "  </button>\n",
              "\n",
              "<style>\n",
              "  .colab-df-quickchart {\n",
              "      --bg-color: #E8F0FE;\n",
              "      --fill-color: #1967D2;\n",
              "      --hover-bg-color: #E2EBFA;\n",
              "      --hover-fill-color: #174EA6;\n",
              "      --disabled-fill-color: #AAA;\n",
              "      --disabled-bg-color: #DDD;\n",
              "  }\n",
              "\n",
              "  [theme=dark] .colab-df-quickchart {\n",
              "      --bg-color: #3B4455;\n",
              "      --fill-color: #D2E3FC;\n",
              "      --hover-bg-color: #434B5C;\n",
              "      --hover-fill-color: #FFFFFF;\n",
              "      --disabled-bg-color: #3B4455;\n",
              "      --disabled-fill-color: #666;\n",
              "  }\n",
              "\n",
              "  .colab-df-quickchart {\n",
              "    background-color: var(--bg-color);\n",
              "    border: none;\n",
              "    border-radius: 50%;\n",
              "    cursor: pointer;\n",
              "    display: none;\n",
              "    fill: var(--fill-color);\n",
              "    height: 32px;\n",
              "    padding: 0;\n",
              "    width: 32px;\n",
              "  }\n",
              "\n",
              "  .colab-df-quickchart:hover {\n",
              "    background-color: var(--hover-bg-color);\n",
              "    box-shadow: 0 1px 2px rgba(60, 64, 67, 0.3), 0 1px 3px 1px rgba(60, 64, 67, 0.15);\n",
              "    fill: var(--button-hover-fill-color);\n",
              "  }\n",
              "\n",
              "  .colab-df-quickchart-complete:disabled,\n",
              "  .colab-df-quickchart-complete:disabled:hover {\n",
              "    background-color: var(--disabled-bg-color);\n",
              "    fill: var(--disabled-fill-color);\n",
              "    box-shadow: none;\n",
              "  }\n",
              "\n",
              "  .colab-df-spinner {\n",
              "    border: 2px solid var(--fill-color);\n",
              "    border-color: transparent;\n",
              "    border-bottom-color: var(--fill-color);\n",
              "    animation:\n",
              "      spin 1s steps(1) infinite;\n",
              "  }\n",
              "\n",
              "  @keyframes spin {\n",
              "    0% {\n",
              "      border-color: transparent;\n",
              "      border-bottom-color: var(--fill-color);\n",
              "      border-left-color: var(--fill-color);\n",
              "    }\n",
              "    20% {\n",
              "      border-color: transparent;\n",
              "      border-left-color: var(--fill-color);\n",
              "      border-top-color: var(--fill-color);\n",
              "    }\n",
              "    30% {\n",
              "      border-color: transparent;\n",
              "      border-left-color: var(--fill-color);\n",
              "      border-top-color: var(--fill-color);\n",
              "      border-right-color: var(--fill-color);\n",
              "    }\n",
              "    40% {\n",
              "      border-color: transparent;\n",
              "      border-right-color: var(--fill-color);\n",
              "      border-top-color: var(--fill-color);\n",
              "    }\n",
              "    60% {\n",
              "      border-color: transparent;\n",
              "      border-right-color: var(--fill-color);\n",
              "    }\n",
              "    80% {\n",
              "      border-color: transparent;\n",
              "      border-right-color: var(--fill-color);\n",
              "      border-bottom-color: var(--fill-color);\n",
              "    }\n",
              "    90% {\n",
              "      border-color: transparent;\n",
              "      border-bottom-color: var(--fill-color);\n",
              "    }\n",
              "  }\n",
              "</style>\n",
              "\n",
              "  <script>\n",
              "    async function quickchart(key) {\n",
              "      const quickchartButtonEl =\n",
              "        document.querySelector('#' + key + ' button');\n",
              "      quickchartButtonEl.disabled = true;  // To prevent multiple clicks.\n",
              "      quickchartButtonEl.classList.add('colab-df-spinner');\n",
              "      try {\n",
              "        const charts = await google.colab.kernel.invokeFunction(\n",
              "            'suggestCharts', [key], {});\n",
              "      } catch (error) {\n",
              "        console.error('Error during call to suggestCharts:', error);\n",
              "      }\n",
              "      quickchartButtonEl.classList.remove('colab-df-spinner');\n",
              "      quickchartButtonEl.classList.add('colab-df-quickchart-complete');\n",
              "    }\n",
              "    (() => {\n",
              "      let quickchartButtonEl =\n",
              "        document.querySelector('#df-f5435115-a4ed-4a2e-a14f-ba68b4afd3f8 button');\n",
              "      quickchartButtonEl.style.display =\n",
              "        google.colab.kernel.accessAllowed ? 'block' : 'none';\n",
              "    })();\n",
              "  </script>\n",
              "</div>\n",
              "\n",
              "    </div>\n",
              "  </div>\n"
            ],
            "application/vnd.google.colaboratory.intrinsic+json": {
              "type": "dataframe",
              "variable_name": "df",
              "summary": "{\n  \"name\": \"df\",\n  \"rows\": 891,\n  \"fields\": [\n    {\n      \"column\": \"PASSENGERID\",\n      \"properties\": {\n        \"dtype\": \"number\",\n        \"std\": 257,\n        \"min\": 1,\n        \"max\": 891,\n        \"num_unique_values\": 891,\n        \"samples\": [\n          710,\n          440,\n          841\n        ],\n        \"semantic_type\": \"\",\n        \"description\": \"\"\n      }\n    },\n    {\n      \"column\": \"SURVIVED\",\n      \"properties\": {\n        \"dtype\": \"number\",\n        \"std\": 0,\n        \"min\": 0,\n        \"max\": 1,\n        \"num_unique_values\": 2,\n        \"samples\": [\n          1,\n          0\n        ],\n        \"semantic_type\": \"\",\n        \"description\": \"\"\n      }\n    },\n    {\n      \"column\": \"PCLASS\",\n      \"properties\": {\n        \"dtype\": \"number\",\n        \"std\": 0,\n        \"min\": 1,\n        \"max\": 3,\n        \"num_unique_values\": 3,\n        \"samples\": [\n          3,\n          1\n        ],\n        \"semantic_type\": \"\",\n        \"description\": \"\"\n      }\n    },\n    {\n      \"column\": \"NAME\",\n      \"properties\": {\n        \"dtype\": \"string\",\n        \"num_unique_values\": 891,\n        \"samples\": [\n          \"Moubarek, Master. Halim Gonios (\\\"William George\\\")\",\n          \"Kvillner, Mr. Johan Henrik Johannesson\"\n        ],\n        \"semantic_type\": \"\",\n        \"description\": \"\"\n      }\n    },\n    {\n      \"column\": \"SEX\",\n      \"properties\": {\n        \"dtype\": \"category\",\n        \"num_unique_values\": 2,\n        \"samples\": [\n          \"female\",\n          \"male\"\n        ],\n        \"semantic_type\": \"\",\n        \"description\": \"\"\n      }\n    },\n    {\n      \"column\": \"AGE\",\n      \"properties\": {\n        \"dtype\": \"number\",\n        \"std\": 14.526497332334042,\n        \"min\": 0.42,\n        \"max\": 80.0,\n        \"num_unique_values\": 88,\n        \"samples\": [\n          0.75,\n          22.0\n        ],\n        \"semantic_type\": \"\",\n        \"description\": \"\"\n      }\n    },\n    {\n      \"column\": \"SIBSP\",\n      \"properties\": {\n        \"dtype\": \"number\",\n        \"std\": 1,\n        \"min\": 0,\n        \"max\": 8,\n        \"num_unique_values\": 7,\n        \"samples\": [\n          1,\n          0\n        ],\n        \"semantic_type\": \"\",\n        \"description\": \"\"\n      }\n    },\n    {\n      \"column\": \"PARCH\",\n      \"properties\": {\n        \"dtype\": \"number\",\n        \"std\": 0,\n        \"min\": 0,\n        \"max\": 6,\n        \"num_unique_values\": 7,\n        \"samples\": [\n          0,\n          1\n        ],\n        \"semantic_type\": \"\",\n        \"description\": \"\"\n      }\n    },\n    {\n      \"column\": \"TICKET\",\n      \"properties\": {\n        \"dtype\": \"string\",\n        \"num_unique_values\": 681,\n        \"samples\": [\n          \"11774\",\n          \"248740\"\n        ],\n        \"semantic_type\": \"\",\n        \"description\": \"\"\n      }\n    },\n    {\n      \"column\": \"FARE\",\n      \"properties\": {\n        \"dtype\": \"number\",\n        \"std\": 49.6934285971809,\n        \"min\": 0.0,\n        \"max\": 512.3292,\n        \"num_unique_values\": 248,\n        \"samples\": [\n          11.2417,\n          51.8625\n        ],\n        \"semantic_type\": \"\",\n        \"description\": \"\"\n      }\n    },\n    {\n      \"column\": \"CABIN\",\n      \"properties\": {\n        \"dtype\": \"category\",\n        \"num_unique_values\": 147,\n        \"samples\": [\n          \"D45\",\n          \"B49\"\n        ],\n        \"semantic_type\": \"\",\n        \"description\": \"\"\n      }\n    },\n    {\n      \"column\": \"EMBARKED\",\n      \"properties\": {\n        \"dtype\": \"category\",\n        \"num_unique_values\": 3,\n        \"samples\": [\n          \"S\",\n          \"C\"\n        ],\n        \"semantic_type\": \"\",\n        \"description\": \"\"\n      }\n    }\n  ]\n}"
            }
          },
          "metadata": {},
          "execution_count": 8
        }
      ]
    },
    {
      "cell_type": "code",
      "source": [
        "# Cabin Bool\n",
        "\n",
        "df[\"New_CABIN_BOOL\"] = df[\"CABIN\"].notnull().astype(\"int\")"
      ],
      "metadata": {
        "execution": {
          "iopub.status.busy": "2023-07-23T22:10:11.498511Z",
          "iopub.execute_input": "2023-07-23T22:10:11.498868Z",
          "iopub.status.idle": "2023-07-23T22:10:11.505439Z",
          "shell.execute_reply.started": "2023-07-23T22:10:11.498838Z",
          "shell.execute_reply": "2023-07-23T22:10:11.50426Z"
        },
        "trusted": true,
        "id": "SByhJwv-u788"
      },
      "execution_count": 9,
      "outputs": []
    },
    {
      "cell_type": "code",
      "source": [
        "# Name Count\n",
        "\n",
        "df[\"NEW_NAME_COUNT\"] = df[\"NAME\"].str.len()"
      ],
      "metadata": {
        "execution": {
          "iopub.status.busy": "2023-07-23T22:10:11.506932Z",
          "iopub.execute_input": "2023-07-23T22:10:11.507261Z",
          "iopub.status.idle": "2023-07-23T22:10:11.519452Z",
          "shell.execute_reply.started": "2023-07-23T22:10:11.507233Z",
          "shell.execute_reply": "2023-07-23T22:10:11.518237Z"
        },
        "trusted": true,
        "id": "G6TWGa-Ku788"
      },
      "execution_count": 10,
      "outputs": []
    },
    {
      "cell_type": "code",
      "source": [
        "# Name Word Count\n",
        "\n",
        "df[\"NEW_NAME_WORD_COUNT\"] = df[\"NAME\"].apply(lambda x: len(str(x).split(\" \")))"
      ],
      "metadata": {
        "execution": {
          "iopub.status.busy": "2023-07-23T22:10:11.524613Z",
          "iopub.execute_input": "2023-07-23T22:10:11.525089Z",
          "iopub.status.idle": "2023-07-23T22:10:11.533532Z",
          "shell.execute_reply.started": "2023-07-23T22:10:11.52503Z",
          "shell.execute_reply": "2023-07-23T22:10:11.532365Z"
        },
        "trusted": true,
        "id": "YBx10kX-u789"
      },
      "execution_count": 11,
      "outputs": []
    },
    {
      "cell_type": "code",
      "source": [
        "# Name Dr\n",
        "\n",
        "df[\"NEW_NAME_DR\"] = df[\"NAME\"].apply(lambda x: len([x for x in x.split() if x.startswith(\"Dr\")]))"
      ],
      "metadata": {
        "execution": {
          "iopub.status.busy": "2023-07-23T22:10:11.535003Z",
          "iopub.execute_input": "2023-07-23T22:10:11.535711Z",
          "iopub.status.idle": "2023-07-23T22:10:11.545686Z",
          "shell.execute_reply.started": "2023-07-23T22:10:11.535671Z",
          "shell.execute_reply": "2023-07-23T22:10:11.544851Z"
        },
        "trusted": true,
        "id": "lsTvdMs6u789"
      },
      "execution_count": 12,
      "outputs": []
    },
    {
      "cell_type": "code",
      "source": [
        "# Name Title\n",
        "\n",
        "df[\"NEW_TITLE\"] = df.NAME.str.extract(\" ([A-Za-z]+)\\.\", expand=False)"
      ],
      "metadata": {
        "execution": {
          "iopub.status.busy": "2023-07-23T22:10:11.546886Z",
          "iopub.execute_input": "2023-07-23T22:10:11.547399Z",
          "iopub.status.idle": "2023-07-23T22:10:11.561825Z",
          "shell.execute_reply.started": "2023-07-23T22:10:11.547368Z",
          "shell.execute_reply": "2023-07-23T22:10:11.560525Z"
        },
        "trusted": true,
        "id": "adFjiUDvu789"
      },
      "execution_count": 13,
      "outputs": []
    },
    {
      "cell_type": "code",
      "source": [
        "# Family Size\n",
        "\n",
        "df[\"NEW_FAMILY_SIZE\"] = df[\"SIBSP\"] + df[\"PARCH\"] + 1"
      ],
      "metadata": {
        "execution": {
          "iopub.status.busy": "2023-07-23T22:10:11.563336Z",
          "iopub.execute_input": "2023-07-23T22:10:11.563683Z",
          "iopub.status.idle": "2023-07-23T22:10:11.576873Z",
          "shell.execute_reply.started": "2023-07-23T22:10:11.563652Z",
          "shell.execute_reply": "2023-07-23T22:10:11.576Z"
        },
        "trusted": true,
        "id": "snEfzvXpu789"
      },
      "execution_count": 14,
      "outputs": []
    },
    {
      "cell_type": "code",
      "source": [
        "# Age_Pclass\n",
        "\n",
        "df[\"NEW_AGE_PCLASS\"] = df[\"AGE\"] * df[\"PCLASS\"]"
      ],
      "metadata": {
        "execution": {
          "iopub.status.busy": "2023-07-23T22:10:11.578126Z",
          "iopub.execute_input": "2023-07-23T22:10:11.578611Z",
          "iopub.status.idle": "2023-07-23T22:10:11.589018Z",
          "shell.execute_reply.started": "2023-07-23T22:10:11.578582Z",
          "shell.execute_reply": "2023-07-23T22:10:11.587919Z"
        },
        "trusted": true,
        "id": "KMZySnccu789"
      },
      "execution_count": 15,
      "outputs": []
    },
    {
      "cell_type": "code",
      "source": [
        "# IS Alone\n",
        "\n",
        "df.loc[((df[\"SIBSP\"] + df[\"PARCH\"]) > 0), \"NEW_IS_ALONE\"] = \"NO\"\n",
        "df.loc[((df[\"SIBSP\"] + df[\"PARCH\"]) == 0), \"NEW_IS_ALONE\"] = \"YES\""
      ],
      "metadata": {
        "execution": {
          "iopub.status.busy": "2023-07-23T22:10:11.590133Z",
          "iopub.execute_input": "2023-07-23T22:10:11.590692Z",
          "iopub.status.idle": "2023-07-23T22:10:11.604322Z",
          "shell.execute_reply.started": "2023-07-23T22:10:11.590658Z",
          "shell.execute_reply": "2023-07-23T22:10:11.60337Z"
        },
        "trusted": true,
        "id": "Mwh14r09u789"
      },
      "execution_count": 16,
      "outputs": []
    },
    {
      "cell_type": "code",
      "source": [
        "# Age Level\n",
        "\n",
        "df.loc[(df[\"AGE\"] < 18), \"NEW_AGE_CAT\"] = \"young\"\n",
        "df.loc[(df[\"AGE\"] >= 18) & (df[\"AGE\"] < 56), \"NEW_AGE_CAT\"] = \"mature\"\n",
        "df.loc[(df[\"AGE\"] >= 56), \"NEW_AGE_CAT\"] = \"senior\""
      ],
      "metadata": {
        "execution": {
          "iopub.status.busy": "2023-07-23T22:10:11.605634Z",
          "iopub.execute_input": "2023-07-23T22:10:11.606276Z",
          "iopub.status.idle": "2023-07-23T22:10:11.616034Z",
          "shell.execute_reply.started": "2023-07-23T22:10:11.606242Z",
          "shell.execute_reply": "2023-07-23T22:10:11.614873Z"
        },
        "trusted": true,
        "id": "3_x5lwYju789"
      },
      "execution_count": 17,
      "outputs": []
    },
    {
      "cell_type": "code",
      "source": [
        "# sex x age\n",
        "\n",
        "df.loc[(df[\"SEX\"] == \"male\") & (df[\"AGE\"] <= 21), \"NEW_SEX_CAT\"] = \"youngmale\"\n",
        "df.loc[(df[\"SEX\"] == \"male\") & ((df[\"AGE\"] > 21) & (df[\"AGE\"]) <= 50), \"NEW_SEX_CAT\"] = \"maturemale\"\n",
        "df.loc[(df[\"SEX\"] == \"male\") & (df[\"AGE\"] > 50), \"NEW_SEX_CAT\"] = \"seniormale\"\n",
        "df.loc[(df[\"SEX\"] == \"female\") & (df[\"AGE\"] <= 21), \"NEW_SEX_CAT\"] = \"youngfemale\"\n",
        "df.loc[(df[\"SEX\"] == \"female\") & ((df[\"AGE\"] > 21) & (df[\"AGE\"]) <= 50), \"NEW_SEX_CAT\"] = \"maturefemale\"\n",
        "df.loc[(df[\"SEX\"] == \"female\") & (df[\"AGE\"] > 50), \"NEW_SEX_CAT\"] = \"seniorfemale\""
      ],
      "metadata": {
        "execution": {
          "iopub.status.busy": "2023-07-23T22:10:11.61721Z",
          "iopub.execute_input": "2023-07-23T22:10:11.618322Z",
          "iopub.status.idle": "2023-07-23T22:10:11.634679Z",
          "shell.execute_reply.started": "2023-07-23T22:10:11.618289Z",
          "shell.execute_reply": "2023-07-23T22:10:11.633632Z"
        },
        "trusted": true,
        "id": "mxk3zh8Mu78-"
      },
      "execution_count": 18,
      "outputs": []
    },
    {
      "cell_type": "code",
      "source": [
        "df.head()"
      ],
      "metadata": {
        "execution": {
          "iopub.status.busy": "2023-07-23T22:10:11.63691Z",
          "iopub.execute_input": "2023-07-23T22:10:11.637816Z",
          "iopub.status.idle": "2023-07-23T22:10:11.659506Z",
          "shell.execute_reply.started": "2023-07-23T22:10:11.637783Z",
          "shell.execute_reply": "2023-07-23T22:10:11.658363Z"
        },
        "trusted": true,
        "id": "uclEBC75u78-",
        "outputId": "3235d593-9528-44e5-f671-91d4ffbcb595",
        "colab": {
          "base_uri": "https://localhost:8080/",
          "height": 504
        }
      },
      "execution_count": 19,
      "outputs": [
        {
          "output_type": "execute_result",
          "data": {
            "text/plain": [
              "   PASSENGERID  SURVIVED  PCLASS                                               NAME     SEX    AGE  SIBSP  PARCH            TICKET   FARE CABIN EMBARKED  New_CABIN_BOOL  NEW_NAME_COUNT  NEW_NAME_WORD_COUNT  NEW_NAME_DR NEW_TITLE  NEW_FAMILY_SIZE  NEW_AGE_PCLASS NEW_IS_ALONE NEW_AGE_CAT   NEW_SEX_CAT\n",
              "0            1         0       3                            Braund, Mr. Owen Harris    male 22.000      1      0         A/5 21171  7.250   NaN        S               0              23                    4            0        Mr                2          66.000           NO      mature    maturemale\n",
              "1            2         1       1  Cumings, Mrs. John Bradley (Florence Briggs Th...  female 38.000      1      0          PC 17599 71.283   C85        C               1              51                    7            0       Mrs                2          38.000           NO      mature  maturefemale\n",
              "2            3         1       3                             Heikkinen, Miss. Laina  female 26.000      0      0  STON/O2. 3101282  7.925   NaN        S               0              22                    3            0      Miss                1          78.000          YES      mature  maturefemale\n",
              "3            4         1       1       Futrelle, Mrs. Jacques Heath (Lily May Peel)  female 35.000      1      0            113803 53.100  C123        S               1              44                    7            0       Mrs                2          35.000           NO      mature  maturefemale\n",
              "4            5         0       3                           Allen, Mr. William Henry    male 35.000      0      0            373450  8.050   NaN        S               0              24                    4            0        Mr                1         105.000          YES      mature    maturemale"
            ],
            "text/html": [
              "\n",
              "  <div id=\"df-eda5f7b5-b57a-438d-a1fb-9bb2944c787f\" class=\"colab-df-container\">\n",
              "    <div>\n",
              "<style scoped>\n",
              "    .dataframe tbody tr th:only-of-type {\n",
              "        vertical-align: middle;\n",
              "    }\n",
              "\n",
              "    .dataframe tbody tr th {\n",
              "        vertical-align: top;\n",
              "    }\n",
              "\n",
              "    .dataframe thead th {\n",
              "        text-align: right;\n",
              "    }\n",
              "</style>\n",
              "<table border=\"1\" class=\"dataframe\">\n",
              "  <thead>\n",
              "    <tr style=\"text-align: right;\">\n",
              "      <th></th>\n",
              "      <th>PASSENGERID</th>\n",
              "      <th>SURVIVED</th>\n",
              "      <th>PCLASS</th>\n",
              "      <th>NAME</th>\n",
              "      <th>SEX</th>\n",
              "      <th>AGE</th>\n",
              "      <th>SIBSP</th>\n",
              "      <th>PARCH</th>\n",
              "      <th>TICKET</th>\n",
              "      <th>FARE</th>\n",
              "      <th>CABIN</th>\n",
              "      <th>EMBARKED</th>\n",
              "      <th>New_CABIN_BOOL</th>\n",
              "      <th>NEW_NAME_COUNT</th>\n",
              "      <th>NEW_NAME_WORD_COUNT</th>\n",
              "      <th>NEW_NAME_DR</th>\n",
              "      <th>NEW_TITLE</th>\n",
              "      <th>NEW_FAMILY_SIZE</th>\n",
              "      <th>NEW_AGE_PCLASS</th>\n",
              "      <th>NEW_IS_ALONE</th>\n",
              "      <th>NEW_AGE_CAT</th>\n",
              "      <th>NEW_SEX_CAT</th>\n",
              "    </tr>\n",
              "  </thead>\n",
              "  <tbody>\n",
              "    <tr>\n",
              "      <th>0</th>\n",
              "      <td>1</td>\n",
              "      <td>0</td>\n",
              "      <td>3</td>\n",
              "      <td>Braund, Mr. Owen Harris</td>\n",
              "      <td>male</td>\n",
              "      <td>22.000</td>\n",
              "      <td>1</td>\n",
              "      <td>0</td>\n",
              "      <td>A/5 21171</td>\n",
              "      <td>7.250</td>\n",
              "      <td>NaN</td>\n",
              "      <td>S</td>\n",
              "      <td>0</td>\n",
              "      <td>23</td>\n",
              "      <td>4</td>\n",
              "      <td>0</td>\n",
              "      <td>Mr</td>\n",
              "      <td>2</td>\n",
              "      <td>66.000</td>\n",
              "      <td>NO</td>\n",
              "      <td>mature</td>\n",
              "      <td>maturemale</td>\n",
              "    </tr>\n",
              "    <tr>\n",
              "      <th>1</th>\n",
              "      <td>2</td>\n",
              "      <td>1</td>\n",
              "      <td>1</td>\n",
              "      <td>Cumings, Mrs. John Bradley (Florence Briggs Th...</td>\n",
              "      <td>female</td>\n",
              "      <td>38.000</td>\n",
              "      <td>1</td>\n",
              "      <td>0</td>\n",
              "      <td>PC 17599</td>\n",
              "      <td>71.283</td>\n",
              "      <td>C85</td>\n",
              "      <td>C</td>\n",
              "      <td>1</td>\n",
              "      <td>51</td>\n",
              "      <td>7</td>\n",
              "      <td>0</td>\n",
              "      <td>Mrs</td>\n",
              "      <td>2</td>\n",
              "      <td>38.000</td>\n",
              "      <td>NO</td>\n",
              "      <td>mature</td>\n",
              "      <td>maturefemale</td>\n",
              "    </tr>\n",
              "    <tr>\n",
              "      <th>2</th>\n",
              "      <td>3</td>\n",
              "      <td>1</td>\n",
              "      <td>3</td>\n",
              "      <td>Heikkinen, Miss. Laina</td>\n",
              "      <td>female</td>\n",
              "      <td>26.000</td>\n",
              "      <td>0</td>\n",
              "      <td>0</td>\n",
              "      <td>STON/O2. 3101282</td>\n",
              "      <td>7.925</td>\n",
              "      <td>NaN</td>\n",
              "      <td>S</td>\n",
              "      <td>0</td>\n",
              "      <td>22</td>\n",
              "      <td>3</td>\n",
              "      <td>0</td>\n",
              "      <td>Miss</td>\n",
              "      <td>1</td>\n",
              "      <td>78.000</td>\n",
              "      <td>YES</td>\n",
              "      <td>mature</td>\n",
              "      <td>maturefemale</td>\n",
              "    </tr>\n",
              "    <tr>\n",
              "      <th>3</th>\n",
              "      <td>4</td>\n",
              "      <td>1</td>\n",
              "      <td>1</td>\n",
              "      <td>Futrelle, Mrs. Jacques Heath (Lily May Peel)</td>\n",
              "      <td>female</td>\n",
              "      <td>35.000</td>\n",
              "      <td>1</td>\n",
              "      <td>0</td>\n",
              "      <td>113803</td>\n",
              "      <td>53.100</td>\n",
              "      <td>C123</td>\n",
              "      <td>S</td>\n",
              "      <td>1</td>\n",
              "      <td>44</td>\n",
              "      <td>7</td>\n",
              "      <td>0</td>\n",
              "      <td>Mrs</td>\n",
              "      <td>2</td>\n",
              "      <td>35.000</td>\n",
              "      <td>NO</td>\n",
              "      <td>mature</td>\n",
              "      <td>maturefemale</td>\n",
              "    </tr>\n",
              "    <tr>\n",
              "      <th>4</th>\n",
              "      <td>5</td>\n",
              "      <td>0</td>\n",
              "      <td>3</td>\n",
              "      <td>Allen, Mr. William Henry</td>\n",
              "      <td>male</td>\n",
              "      <td>35.000</td>\n",
              "      <td>0</td>\n",
              "      <td>0</td>\n",
              "      <td>373450</td>\n",
              "      <td>8.050</td>\n",
              "      <td>NaN</td>\n",
              "      <td>S</td>\n",
              "      <td>0</td>\n",
              "      <td>24</td>\n",
              "      <td>4</td>\n",
              "      <td>0</td>\n",
              "      <td>Mr</td>\n",
              "      <td>1</td>\n",
              "      <td>105.000</td>\n",
              "      <td>YES</td>\n",
              "      <td>mature</td>\n",
              "      <td>maturemale</td>\n",
              "    </tr>\n",
              "  </tbody>\n",
              "</table>\n",
              "</div>\n",
              "    <div class=\"colab-df-buttons\">\n",
              "\n",
              "  <div class=\"colab-df-container\">\n",
              "    <button class=\"colab-df-convert\" onclick=\"convertToInteractive('df-eda5f7b5-b57a-438d-a1fb-9bb2944c787f')\"\n",
              "            title=\"Convert this dataframe to an interactive table.\"\n",
              "            style=\"display:none;\">\n",
              "\n",
              "  <svg xmlns=\"http://www.w3.org/2000/svg\" height=\"24px\" viewBox=\"0 -960 960 960\">\n",
              "    <path d=\"M120-120v-720h720v720H120Zm60-500h600v-160H180v160Zm220 220h160v-160H400v160Zm0 220h160v-160H400v160ZM180-400h160v-160H180v160Zm440 0h160v-160H620v160ZM180-180h160v-160H180v160Zm440 0h160v-160H620v160Z\"/>\n",
              "  </svg>\n",
              "    </button>\n",
              "\n",
              "  <style>\n",
              "    .colab-df-container {\n",
              "      display:flex;\n",
              "      gap: 12px;\n",
              "    }\n",
              "\n",
              "    .colab-df-convert {\n",
              "      background-color: #E8F0FE;\n",
              "      border: none;\n",
              "      border-radius: 50%;\n",
              "      cursor: pointer;\n",
              "      display: none;\n",
              "      fill: #1967D2;\n",
              "      height: 32px;\n",
              "      padding: 0 0 0 0;\n",
              "      width: 32px;\n",
              "    }\n",
              "\n",
              "    .colab-df-convert:hover {\n",
              "      background-color: #E2EBFA;\n",
              "      box-shadow: 0px 1px 2px rgba(60, 64, 67, 0.3), 0px 1px 3px 1px rgba(60, 64, 67, 0.15);\n",
              "      fill: #174EA6;\n",
              "    }\n",
              "\n",
              "    .colab-df-buttons div {\n",
              "      margin-bottom: 4px;\n",
              "    }\n",
              "\n",
              "    [theme=dark] .colab-df-convert {\n",
              "      background-color: #3B4455;\n",
              "      fill: #D2E3FC;\n",
              "    }\n",
              "\n",
              "    [theme=dark] .colab-df-convert:hover {\n",
              "      background-color: #434B5C;\n",
              "      box-shadow: 0px 1px 3px 1px rgba(0, 0, 0, 0.15);\n",
              "      filter: drop-shadow(0px 1px 2px rgba(0, 0, 0, 0.3));\n",
              "      fill: #FFFFFF;\n",
              "    }\n",
              "  </style>\n",
              "\n",
              "    <script>\n",
              "      const buttonEl =\n",
              "        document.querySelector('#df-eda5f7b5-b57a-438d-a1fb-9bb2944c787f button.colab-df-convert');\n",
              "      buttonEl.style.display =\n",
              "        google.colab.kernel.accessAllowed ? 'block' : 'none';\n",
              "\n",
              "      async function convertToInteractive(key) {\n",
              "        const element = document.querySelector('#df-eda5f7b5-b57a-438d-a1fb-9bb2944c787f');\n",
              "        const dataTable =\n",
              "          await google.colab.kernel.invokeFunction('convertToInteractive',\n",
              "                                                    [key], {});\n",
              "        if (!dataTable) return;\n",
              "\n",
              "        const docLinkHtml = 'Like what you see? Visit the ' +\n",
              "          '<a target=\"_blank\" href=https://colab.research.google.com/notebooks/data_table.ipynb>data table notebook</a>'\n",
              "          + ' to learn more about interactive tables.';\n",
              "        element.innerHTML = '';\n",
              "        dataTable['output_type'] = 'display_data';\n",
              "        await google.colab.output.renderOutput(dataTable, element);\n",
              "        const docLink = document.createElement('div');\n",
              "        docLink.innerHTML = docLinkHtml;\n",
              "        element.appendChild(docLink);\n",
              "      }\n",
              "    </script>\n",
              "  </div>\n",
              "\n",
              "\n",
              "<div id=\"df-80c55c20-08d9-4dfe-8116-ee2b7c3671c0\">\n",
              "  <button class=\"colab-df-quickchart\" onclick=\"quickchart('df-80c55c20-08d9-4dfe-8116-ee2b7c3671c0')\"\n",
              "            title=\"Suggest charts\"\n",
              "            style=\"display:none;\">\n",
              "\n",
              "<svg xmlns=\"http://www.w3.org/2000/svg\" height=\"24px\"viewBox=\"0 0 24 24\"\n",
              "     width=\"24px\">\n",
              "    <g>\n",
              "        <path d=\"M19 3H5c-1.1 0-2 .9-2 2v14c0 1.1.9 2 2 2h14c1.1 0 2-.9 2-2V5c0-1.1-.9-2-2-2zM9 17H7v-7h2v7zm4 0h-2V7h2v10zm4 0h-2v-4h2v4z\"/>\n",
              "    </g>\n",
              "</svg>\n",
              "  </button>\n",
              "\n",
              "<style>\n",
              "  .colab-df-quickchart {\n",
              "      --bg-color: #E8F0FE;\n",
              "      --fill-color: #1967D2;\n",
              "      --hover-bg-color: #E2EBFA;\n",
              "      --hover-fill-color: #174EA6;\n",
              "      --disabled-fill-color: #AAA;\n",
              "      --disabled-bg-color: #DDD;\n",
              "  }\n",
              "\n",
              "  [theme=dark] .colab-df-quickchart {\n",
              "      --bg-color: #3B4455;\n",
              "      --fill-color: #D2E3FC;\n",
              "      --hover-bg-color: #434B5C;\n",
              "      --hover-fill-color: #FFFFFF;\n",
              "      --disabled-bg-color: #3B4455;\n",
              "      --disabled-fill-color: #666;\n",
              "  }\n",
              "\n",
              "  .colab-df-quickchart {\n",
              "    background-color: var(--bg-color);\n",
              "    border: none;\n",
              "    border-radius: 50%;\n",
              "    cursor: pointer;\n",
              "    display: none;\n",
              "    fill: var(--fill-color);\n",
              "    height: 32px;\n",
              "    padding: 0;\n",
              "    width: 32px;\n",
              "  }\n",
              "\n",
              "  .colab-df-quickchart:hover {\n",
              "    background-color: var(--hover-bg-color);\n",
              "    box-shadow: 0 1px 2px rgba(60, 64, 67, 0.3), 0 1px 3px 1px rgba(60, 64, 67, 0.15);\n",
              "    fill: var(--button-hover-fill-color);\n",
              "  }\n",
              "\n",
              "  .colab-df-quickchart-complete:disabled,\n",
              "  .colab-df-quickchart-complete:disabled:hover {\n",
              "    background-color: var(--disabled-bg-color);\n",
              "    fill: var(--disabled-fill-color);\n",
              "    box-shadow: none;\n",
              "  }\n",
              "\n",
              "  .colab-df-spinner {\n",
              "    border: 2px solid var(--fill-color);\n",
              "    border-color: transparent;\n",
              "    border-bottom-color: var(--fill-color);\n",
              "    animation:\n",
              "      spin 1s steps(1) infinite;\n",
              "  }\n",
              "\n",
              "  @keyframes spin {\n",
              "    0% {\n",
              "      border-color: transparent;\n",
              "      border-bottom-color: var(--fill-color);\n",
              "      border-left-color: var(--fill-color);\n",
              "    }\n",
              "    20% {\n",
              "      border-color: transparent;\n",
              "      border-left-color: var(--fill-color);\n",
              "      border-top-color: var(--fill-color);\n",
              "    }\n",
              "    30% {\n",
              "      border-color: transparent;\n",
              "      border-left-color: var(--fill-color);\n",
              "      border-top-color: var(--fill-color);\n",
              "      border-right-color: var(--fill-color);\n",
              "    }\n",
              "    40% {\n",
              "      border-color: transparent;\n",
              "      border-right-color: var(--fill-color);\n",
              "      border-top-color: var(--fill-color);\n",
              "    }\n",
              "    60% {\n",
              "      border-color: transparent;\n",
              "      border-right-color: var(--fill-color);\n",
              "    }\n",
              "    80% {\n",
              "      border-color: transparent;\n",
              "      border-right-color: var(--fill-color);\n",
              "      border-bottom-color: var(--fill-color);\n",
              "    }\n",
              "    90% {\n",
              "      border-color: transparent;\n",
              "      border-bottom-color: var(--fill-color);\n",
              "    }\n",
              "  }\n",
              "</style>\n",
              "\n",
              "  <script>\n",
              "    async function quickchart(key) {\n",
              "      const quickchartButtonEl =\n",
              "        document.querySelector('#' + key + ' button');\n",
              "      quickchartButtonEl.disabled = true;  // To prevent multiple clicks.\n",
              "      quickchartButtonEl.classList.add('colab-df-spinner');\n",
              "      try {\n",
              "        const charts = await google.colab.kernel.invokeFunction(\n",
              "            'suggestCharts', [key], {});\n",
              "      } catch (error) {\n",
              "        console.error('Error during call to suggestCharts:', error);\n",
              "      }\n",
              "      quickchartButtonEl.classList.remove('colab-df-spinner');\n",
              "      quickchartButtonEl.classList.add('colab-df-quickchart-complete');\n",
              "    }\n",
              "    (() => {\n",
              "      let quickchartButtonEl =\n",
              "        document.querySelector('#df-80c55c20-08d9-4dfe-8116-ee2b7c3671c0 button');\n",
              "      quickchartButtonEl.style.display =\n",
              "        google.colab.kernel.accessAllowed ? 'block' : 'none';\n",
              "    })();\n",
              "  </script>\n",
              "</div>\n",
              "\n",
              "    </div>\n",
              "  </div>\n"
            ],
            "application/vnd.google.colaboratory.intrinsic+json": {
              "type": "dataframe",
              "variable_name": "df"
            }
          },
          "metadata": {},
          "execution_count": 19
        }
      ]
    },
    {
      "cell_type": "code",
      "source": [
        "# Analysis of Variables.\n",
        "\n",
        "def grab_col_names(dataframe, cat_th=10, car_th=20):\n",
        "    \"\"\"\n",
        "\n",
        "    Returns the names of categorical, numeric and categorical but cardinal variables in the data set.\n",
        "    Note Categorical variables include categorical variables with numeric appearance.\n",
        "\n",
        "    Parameters\n",
        "    ------\n",
        "        dataframe: dataframe\n",
        "                Variable names of the dataframe to be taken\n",
        "        cat_th: int, optional\n",
        "                class threshold for numeric but categorical variables\n",
        "        car_th: int, optinal\n",
        "                class threshold for categorical but cardinal variables\n",
        "\n",
        "    Returns\n",
        "    ------\n",
        "        cat_cols: list\n",
        "                Categorical variable list\n",
        "        num_cols: list\n",
        "                Numeric variable list\n",
        "        cat_but_car: list\n",
        "                List of cardinal variables with categorical appearance\n",
        "\n",
        "    Examples\n",
        "    ------\n",
        "        import seaborn as sns\n",
        "        df = sns.load_dataset(\"iris\")\n",
        "        print(grab_col_names(df))\n",
        "\n",
        "\n",
        "    Notes\n",
        "    ------\n",
        "        cat_cols + num_cols + cat_but_car = total number of variables\n",
        "        num_but_cat is inside cat_cols.\n",
        "        The sum of the 3 return lists equals the total number of variables: cat_cols + num_cols + cat_but_car = number of variables\n",
        "\n",
        "    \"\"\"\n",
        "\n",
        "    # cat_cols, cat_but_car\n",
        "    cat_cols = [col for col in dataframe.columns if dataframe[col].dtypes == \"O\"]\n",
        "\n",
        "    num_but_cat = [col for col in dataframe.columns if dataframe[col].nunique() < cat_th and\n",
        "                   dataframe[col].dtypes != \"O\"]\n",
        "\n",
        "    cat_but_car = [col for col in dataframe.columns if dataframe[col].nunique() > car_th and\n",
        "                   dataframe[col].dtypes == \"O\"]\n",
        "\n",
        "    cat_cols = cat_cols + num_but_cat\n",
        "\n",
        "    cat_cols = [col for col in cat_cols if col not in cat_but_car]\n",
        "\n",
        "    num_cols = [col for col in dataframe.columns if dataframe[col].dtypes != \"O\"]\n",
        "\n",
        "    num_cols = [col for col in num_cols if col not in num_but_cat]\n",
        "\n",
        "    print(f\"Observations: {dataframe.shape[0]}\")\n",
        "    print(f\"Variables: {dataframe.shape[1]}\")\n",
        "    print(f'cat_cols: {len(cat_cols)}')\n",
        "    print(f'num_cols: {len(num_cols)}')\n",
        "    print(f'cat_but_car: {len(cat_but_car)}')\n",
        "    print(f'num_but_cat: {len(num_but_cat)}')\n",
        "\n",
        "\n",
        "    return cat_cols, num_cols, cat_but_car, num_but_cat"
      ],
      "metadata": {
        "execution": {
          "iopub.status.busy": "2023-07-23T22:10:11.66109Z",
          "iopub.execute_input": "2023-07-23T22:10:11.661631Z",
          "iopub.status.idle": "2023-07-23T22:10:11.673261Z",
          "shell.execute_reply.started": "2023-07-23T22:10:11.661599Z",
          "shell.execute_reply": "2023-07-23T22:10:11.672121Z"
        },
        "trusted": true,
        "id": "_xvxyPlau78-"
      },
      "execution_count": 20,
      "outputs": []
    },
    {
      "cell_type": "code",
      "source": [
        "cat_cols, num_cols, cat_but_car, num_but_cat = grab_col_names(df)"
      ],
      "metadata": {
        "execution": {
          "iopub.status.busy": "2023-07-23T22:10:11.674537Z",
          "iopub.execute_input": "2023-07-23T22:10:11.675426Z",
          "iopub.status.idle": "2023-07-23T22:10:11.703869Z",
          "shell.execute_reply.started": "2023-07-23T22:10:11.675377Z",
          "shell.execute_reply": "2023-07-23T22:10:11.702765Z"
        },
        "trusted": true,
        "id": "J4Ivp3KZu78-",
        "outputId": "b72dd2de-140c-46cf-e5be-a5693fd34c40",
        "colab": {
          "base_uri": "https://localhost:8080/"
        }
      },
      "execution_count": 21,
      "outputs": [
        {
          "output_type": "stream",
          "name": "stdout",
          "text": [
            "Observations: 891\n",
            "Variables: 22\n",
            "cat_cols: 14\n",
            "num_cols: 5\n",
            "cat_but_car: 3\n",
            "num_but_cat: 8\n"
          ]
        }
      ]
    },
    {
      "cell_type": "code",
      "source": [
        "cat_cols"
      ],
      "metadata": {
        "execution": {
          "iopub.status.busy": "2023-07-23T22:10:11.705561Z",
          "iopub.execute_input": "2023-07-23T22:10:11.706433Z",
          "iopub.status.idle": "2023-07-23T22:10:11.713069Z",
          "shell.execute_reply.started": "2023-07-23T22:10:11.706399Z",
          "shell.execute_reply": "2023-07-23T22:10:11.711755Z"
        },
        "trusted": true,
        "id": "pB7Tjyxau78-",
        "outputId": "466c6a81-2e23-48b3-9f16-85968eee5a1c",
        "colab": {
          "base_uri": "https://localhost:8080/"
        }
      },
      "execution_count": 22,
      "outputs": [
        {
          "output_type": "execute_result",
          "data": {
            "text/plain": [
              "['SEX',\n",
              " 'EMBARKED',\n",
              " 'NEW_TITLE',\n",
              " 'NEW_IS_ALONE',\n",
              " 'NEW_AGE_CAT',\n",
              " 'NEW_SEX_CAT',\n",
              " 'SURVIVED',\n",
              " 'PCLASS',\n",
              " 'SIBSP',\n",
              " 'PARCH',\n",
              " 'New_CABIN_BOOL',\n",
              " 'NEW_NAME_WORD_COUNT',\n",
              " 'NEW_NAME_DR',\n",
              " 'NEW_FAMILY_SIZE']"
            ]
          },
          "metadata": {},
          "execution_count": 22
        }
      ]
    },
    {
      "cell_type": "code",
      "source": [
        "num_cols"
      ],
      "metadata": {
        "execution": {
          "iopub.status.busy": "2023-07-23T22:10:11.714607Z",
          "iopub.execute_input": "2023-07-23T22:10:11.715091Z",
          "iopub.status.idle": "2023-07-23T22:10:11.727869Z",
          "shell.execute_reply.started": "2023-07-23T22:10:11.715032Z",
          "shell.execute_reply": "2023-07-23T22:10:11.726436Z"
        },
        "trusted": true,
        "id": "Fp2QUY2nu78-",
        "outputId": "4c5f3741-aacd-458a-ead1-3cc052091ff4",
        "colab": {
          "base_uri": "https://localhost:8080/"
        }
      },
      "execution_count": 23,
      "outputs": [
        {
          "output_type": "execute_result",
          "data": {
            "text/plain": [
              "['PASSENGERID', 'AGE', 'FARE', 'NEW_NAME_COUNT', 'NEW_AGE_PCLASS']"
            ]
          },
          "metadata": {},
          "execution_count": 23
        }
      ]
    },
    {
      "cell_type": "code",
      "source": [
        "num_cols = [col for col in num_cols if \"PASSENGERID\" not in col]"
      ],
      "metadata": {
        "execution": {
          "iopub.status.busy": "2023-07-23T22:10:11.731902Z",
          "iopub.execute_input": "2023-07-23T22:10:11.732354Z",
          "iopub.status.idle": "2023-07-23T22:10:11.740587Z",
          "shell.execute_reply.started": "2023-07-23T22:10:11.732322Z",
          "shell.execute_reply": "2023-07-23T22:10:11.739322Z"
        },
        "trusted": true,
        "id": "vnuHRdHVu78-"
      },
      "execution_count": 24,
      "outputs": []
    },
    {
      "cell_type": "code",
      "source": [
        "cat_but_car"
      ],
      "metadata": {
        "execution": {
          "iopub.status.busy": "2023-07-23T22:10:11.741953Z",
          "iopub.execute_input": "2023-07-23T22:10:11.74232Z",
          "iopub.status.idle": "2023-07-23T22:10:11.755328Z",
          "shell.execute_reply.started": "2023-07-23T22:10:11.742291Z",
          "shell.execute_reply": "2023-07-23T22:10:11.754076Z"
        },
        "trusted": true,
        "id": "dvTx86TFu78-",
        "outputId": "d83da559-d982-4d6e-b019-424cb3375962",
        "colab": {
          "base_uri": "https://localhost:8080/"
        }
      },
      "execution_count": 25,
      "outputs": [
        {
          "output_type": "execute_result",
          "data": {
            "text/plain": [
              "['NAME', 'TICKET', 'CABIN']"
            ]
          },
          "metadata": {},
          "execution_count": 25
        }
      ]
    },
    {
      "cell_type": "code",
      "source": [
        "num_but_cat"
      ],
      "metadata": {
        "execution": {
          "iopub.status.busy": "2023-07-23T22:10:11.756848Z",
          "iopub.execute_input": "2023-07-23T22:10:11.757189Z",
          "iopub.status.idle": "2023-07-23T22:10:11.769641Z",
          "shell.execute_reply.started": "2023-07-23T22:10:11.75716Z",
          "shell.execute_reply": "2023-07-23T22:10:11.768697Z"
        },
        "trusted": true,
        "id": "zchQwd3nu78_",
        "outputId": "6d2deab5-c55e-4ca2-82b0-8dde6a7b21f7",
        "colab": {
          "base_uri": "https://localhost:8080/"
        }
      },
      "execution_count": 26,
      "outputs": [
        {
          "output_type": "execute_result",
          "data": {
            "text/plain": [
              "['SURVIVED',\n",
              " 'PCLASS',\n",
              " 'SIBSP',\n",
              " 'PARCH',\n",
              " 'New_CABIN_BOOL',\n",
              " 'NEW_NAME_WORD_COUNT',\n",
              " 'NEW_NAME_DR',\n",
              " 'NEW_FAMILY_SIZE']"
            ]
          },
          "metadata": {},
          "execution_count": 26
        }
      ]
    },
    {
      "cell_type": "code",
      "source": [
        "# Categorical Summary Function\n",
        "\n",
        "def cat_summary(dataframe, col_name, plot=False):\n",
        "    if dataframe[col_name].dtypes == \"bool\":\n",
        "        dataframe[col_name] = dataframe[col_name].astype(int)\n",
        "\n",
        "        print(pd.DataFrame({col_name: dataframe[col_name].value_counts(),\n",
        "                            \"Ratio\": 100 * dataframe[col_name].value_counts() / len(dataframe)}))\n",
        "        print(\"##########################################\")\n",
        "\n",
        "        if plot:\n",
        "            sns.countplot(x=dataframe[col_name], data=dataframe)\n",
        "            plt.show(block=True)\n",
        "    else:\n",
        "        print(pd.DataFrame({col_name: dataframe[col_name].value_counts(),\n",
        "                            \"Ratio\": 100 * dataframe[col_name].value_counts() / len(dataframe)}))\n",
        "        print(\"##########################################\")\n",
        "\n",
        "        if plot:\n",
        "            sns.countplot(x=dataframe[col_name], data=dataframe)\n",
        "            plt.show(block=True)"
      ],
      "metadata": {
        "execution": {
          "iopub.status.busy": "2023-07-23T22:10:11.771166Z",
          "iopub.execute_input": "2023-07-23T22:10:11.772168Z",
          "iopub.status.idle": "2023-07-23T22:10:11.785335Z",
          "shell.execute_reply.started": "2023-07-23T22:10:11.772123Z",
          "shell.execute_reply": "2023-07-23T22:10:11.784227Z"
        },
        "trusted": true,
        "id": "mJPP_YHtu78_"
      },
      "execution_count": 27,
      "outputs": []
    },
    {
      "cell_type": "code",
      "source": [
        "for col in cat_cols:\n",
        "    cat_summary(df, col, plot=True)"
      ],
      "metadata": {
        "execution": {
          "iopub.status.busy": "2023-07-23T22:10:11.787773Z",
          "iopub.execute_input": "2023-07-23T22:10:11.788264Z",
          "iopub.status.idle": "2023-07-23T22:10:15.083625Z",
          "shell.execute_reply.started": "2023-07-23T22:10:11.788221Z",
          "shell.execute_reply": "2023-07-23T22:10:15.082019Z"
        },
        "trusted": true,
        "id": "qTWTYJOWu78_",
        "outputId": "cf7680b7-73f5-4ee0-938a-2022f06070ea",
        "colab": {
          "base_uri": "https://localhost:8080/",
          "height": 1000
        }
      },
      "execution_count": 28,
      "outputs": [
        {
          "output_type": "stream",
          "name": "stdout",
          "text": [
            "        SEX  Ratio\n",
            "SEX               \n",
            "male    577 64.759\n",
            "female  314 35.241\n",
            "##########################################\n"
          ]
        },
        {
          "output_type": "display_data",
          "data": {
            "text/plain": [
              "<Figure size 640x480 with 1 Axes>"
            ],
            "image/png": "[encoded data removed]"
          },
          "metadata": {}
        },
        {
          "output_type": "stream",
          "name": "stdout",
          "text": [
            "          EMBARKED  Ratio\n",
            "EMBARKED                 \n",
            "S              644 72.278\n",
            "C              168 18.855\n",
            "Q               77  8.642\n",
            "##########################################\n"
          ]
        },
        {
          "output_type": "display_data",
          "data": {
            "text/plain": [
              "<Figure size 640x480 with 1 Axes>"
            ],
            "image/png": "[encoded data removed]"
          },
          "metadata": {}
        },
        {
          "output_type": "stream",
          "name": "stdout",
          "text": [
            "           NEW_TITLE  Ratio\n",
            "NEW_TITLE                  \n",
            "Mr               517 58.025\n",
            "Miss             182 20.426\n",
            "Mrs              125 14.029\n",
            "Master            40  4.489\n",
            "Dr                 7  0.786\n",
            "Rev                6  0.673\n",
            "Mlle               2  0.224\n",
            "Major              2  0.224\n",
            "Col                2  0.224\n",
            "Countess           1  0.112\n",
            "Capt               1  0.112\n",
            "Ms                 1  0.112\n",
            "Sir                1  0.112\n",
            "Lady               1  0.112\n",
            "Mme                1  0.112\n",
            "Don                1  0.112\n",
            "Jonkheer           1  0.112\n",
            "##########################################\n"
          ]
        },
        {
          "output_type": "display_data",
          "data": {
            "text/plain": [
              "<Figure size 640x480 with 1 Axes>"
            ],
            "image/png": "[encoded data removed]"
          },
          "metadata": {}
        },
        {
          "output_type": "stream",
          "name": "stdout",
          "text": [
            "              NEW_IS_ALONE  Ratio\n",
            "NEW_IS_ALONE                     \n",
            "YES                    537 60.269\n",
            "NO                     354 39.731\n",
            "##########################################\n"
          ]
        },
        {
          "output_type": "display_data",
          "data": {
            "text/plain": [
              "<Figure size 640x480 with 1 Axes>"
            ],
            "image/png": "[encoded data removed]"
          },
          "metadata": {}
        },
        {
          "output_type": "stream",
          "name": "stdout",
          "text": [
            "             NEW_AGE_CAT  Ratio\n",
            "NEW_AGE_CAT                    \n",
            "mature               562 63.075\n",
            "young                113 12.682\n",
            "senior                39  4.377\n",
            "##########################################\n"
          ]
        },
        {
          "output_type": "display_data",
          "data": {
            "text/plain": [
              "<Figure size 640x480 with 1 Axes>"
            ],
            "image/png": "[encoded data removed]"
          },
          "metadata": {}
        },
        {
          "output_type": "stream",
          "name": "stdout",
          "text": [
            "              NEW_SEX_CAT  Ratio\n",
            "NEW_SEX_CAT                     \n",
            "maturemale            530 59.484\n",
            "maturefemale          297 33.333\n",
            "seniormale             47  5.275\n",
            "seniorfemale           17  1.908\n",
            "##########################################\n"
          ]
        },
        {
          "output_type": "display_data",
          "data": {
            "text/plain": [
              "<Figure size 640x480 with 1 Axes>"
            ],
            "image/png": "[encoded data removed]"
          },
          "metadata": {}
        },
        {
          "output_type": "stream",
          "name": "stdout",
          "text": [
            "          SURVIVED  Ratio\n",
            "SURVIVED                 \n",
            "0              549 61.616\n",
            "1              342 38.384\n",
            "##########################################\n"
          ]
        },
        {
          "output_type": "display_data",
          "data": {
            "text/plain": [
              "<Figure size 640x480 with 1 Axes>"
            ],
            "image/png": "[encoded data removed]"
          },
          "metadata": {}
        },
        {
          "output_type": "stream",
          "name": "stdout",
          "text": [
            "        PCLASS  Ratio\n",
            "PCLASS               \n",
            "3          491 55.107\n",
            "1          216 24.242\n",
            "2          184 20.651\n",
            "##########################################\n"
          ]
        },
        {
          "output_type": "display_data",
          "data": {
            "text/plain": [
              "<Figure size 640x480 with 1 Axes>"
            ],
            "image/png": "[encoded data removed]"
          },
          "metadata": {}
        },
        {
          "output_type": "stream",
          "name": "stdout",
          "text": [
            "       SIBSP  Ratio\n",
            "SIBSP              \n",
            "0        608 68.238\n",
            "1        209 23.457\n",
            "2         28  3.143\n",
            "4         18  2.020\n",
            "3         16  1.796\n",
            "8          7  0.786\n",
            "5          5  0.561\n",
            "##########################################\n"
          ]
        },
        {
          "output_type": "display_data",
          "data": {
            "text/plain": [
              "<Figure size 640x480 with 1 Axes>"
            ],
            "image/png": "[encoded data removed]"
          },
          "metadata": {}
        },
        {
          "output_type": "stream",
          "name": "stdout",
          "text": [
            "       PARCH  Ratio\n",
            "PARCH              \n",
            "0        678 76.094\n",
            "1        118 13.244\n",
            "2         80  8.979\n",
            "5          5  0.561\n",
            "3          5  0.561\n",
            "4          4  0.449\n",
            "6          1  0.112\n",
            "##########################################\n"
          ]
        },
        {
          "output_type": "display_data",
          "data": {
            "text/plain": [
              "<Figure size 640x480 with 1 Axes>"
            ],
            "image/png": "[encoded data removed]"
          },
          "metadata": {}
        },
        {
          "output_type": "stream",
          "name": "stdout",
          "text": [
            "                New_CABIN_BOOL  Ratio\n",
            "New_CABIN_BOOL                       \n",
            "0                          687 77.104\n",
            "1                          204 22.896\n",
            "##########################################\n"
          ]
        },
        {
          "output_type": "display_data",
          "data": {
            "text/plain": [
              "<Figure size 640x480 with 1 Axes>"
            ],
            "image/png": "[encoded data removed]"
          },
          "metadata": {}
        },
        {
          "output_type": "stream",
          "name": "stdout",
          "text": [
            "                     NEW_NAME_WORD_COUNT  Ratio\n",
            "NEW_NAME_WORD_COUNT                            \n",
            "4                                    388 43.547\n",
            "3                                    305 34.231\n",
            "5                                     96 10.774\n",
            "6                                     53  5.948\n",
            "7                                     38  4.265\n",
            "8                                      9  1.010\n",
            "14                                     1  0.112\n",
            "9                                      1  0.112\n",
            "##########################################\n"
          ]
        },
        {
          "output_type": "display_data",
          "data": {
            "text/plain": [
              "<Figure size 640x480 with 1 Axes>"
            ],
            "image/png": "[encoded data removed]"
          },
          "metadata": {}
        },
        {
          "output_type": "stream",
          "name": "stdout",
          "text": [
            "             NEW_NAME_DR  Ratio\n",
            "NEW_NAME_DR                    \n",
            "0                    881 98.878\n",
            "1                     10  1.122\n",
            "##########################################\n"
          ]
        },
        {
          "output_type": "display_data",
          "data": {
            "text/plain": [
              "<Figure size 640x480 with 1 Axes>"
            ],
            "image/png": "[encoded data removed]"
          },
          "metadata": {}
        },
        {
          "output_type": "stream",
          "name": "stdout",
          "text": [
            "                 NEW_FAMILY_SIZE  Ratio\n",
            "NEW_FAMILY_SIZE                        \n",
            "1                            537 60.269\n",
            "2                            161 18.070\n",
            "3                            102 11.448\n",
            "4                             29  3.255\n",
            "6                             22  2.469\n",
            "5                             15  1.684\n",
            "7                             12  1.347\n",
            "11                             7  0.786\n",
            "8                              6  0.673\n",
            "##########################################\n"
          ]
        },
        {
          "output_type": "display_data",
          "data": {
            "text/plain": [
              "<Figure size 640x480 with 1 Axes>"
            ],
            "image/png": "[encoded data removed]"
          },
          "metadata": {}
        }
      ]
    },
    {
      "cell_type": "code",
      "source": [
        "# Numerical Summary Function\n",
        "\n",
        "def num_summary(dataframe, numerical_col, plot=False):\n",
        "    quantiles = [0.05, 0.10, 0.20, 0.30, 0.40, 0.50, 0.60, 0.70, 0.80, 0.90, 0.95, 0.99]\n",
        "    print(dataframe[numerical_col].describe(quantiles).T)\n",
        "\n",
        "    if plot:\n",
        "        dataframe[numerical_col].hist()\n",
        "        plt.xlabel(numerical_col)\n",
        "        plt.title(numerical_col)\n",
        "        plt.show(block=True)"
      ],
      "metadata": {
        "execution": {
          "iopub.status.busy": "2023-07-23T22:10:15.094183Z",
          "iopub.execute_input": "2023-07-23T22:10:15.094625Z",
          "iopub.status.idle": "2023-07-23T22:10:15.103381Z",
          "shell.execute_reply.started": "2023-07-23T22:10:15.094594Z",
          "shell.execute_reply": "2023-07-23T22:10:15.101757Z"
        },
        "trusted": true,
        "id": "ySrPXI_uu78_"
      },
      "execution_count": 29,
      "outputs": []
    },
    {
      "cell_type": "code",
      "source": [
        "for col in num_cols:\n",
        "    num_summary(df, col, plot=True)"
      ],
      "metadata": {
        "execution": {
          "iopub.status.busy": "2023-07-23T22:10:15.105135Z",
          "iopub.execute_input": "2023-07-23T22:10:15.10557Z",
          "iopub.status.idle": "2023-07-23T22:10:16.548016Z",
          "shell.execute_reply.started": "2023-07-23T22:10:15.105531Z",
          "shell.execute_reply": "2023-07-23T22:10:16.54686Z"
        },
        "trusted": true,
        "id": "kZecbLAxu78_",
        "outputId": "a46d7b0d-0062-4ee4-acc2-f353a56748c3",
        "colab": {
          "base_uri": "https://localhost:8080/",
          "height": 1000
        }
      },
      "execution_count": 30,
      "outputs": [
        {
          "output_type": "stream",
          "name": "stdout",
          "text": [
            "count   714.000\n",
            "mean     29.699\n",
            "std      14.526\n",
            "min       0.420\n",
            "5%        4.000\n",
            "10%      14.000\n",
            "20%      19.000\n",
            "30%      22.000\n",
            "40%      25.000\n",
            "50%      28.000\n",
            "60%      31.800\n",
            "70%      36.000\n",
            "80%      41.000\n",
            "90%      50.000\n",
            "95%      56.000\n",
            "99%      65.870\n",
            "max      80.000\n",
            "Name: AGE, dtype: float64\n"
          ]
        },
        {
          "output_type": "display_data",
          "data": {
            "text/plain": [
              "<Figure size 640x480 with 1 Axes>"
            ],
            "image/png": "[encoded data removed]"
          },
          "metadata": {}
        },
        {
          "output_type": "stream",
          "name": "stdout",
          "text": [
            "count   891.000\n",
            "mean     32.204\n",
            "std      49.693\n",
            "min       0.000\n",
            "5%        7.225\n",
            "10%       7.550\n",
            "20%       7.854\n",
            "30%       8.050\n",
            "40%      10.500\n",
            "50%      14.454\n",
            "60%      21.679\n",
            "70%      27.000\n",
            "80%      39.688\n",
            "90%      77.958\n",
            "95%     112.079\n",
            "99%     249.006\n",
            "max     512.329\n",
            "Name: FARE, dtype: float64\n"
          ]
        },
        {
          "output_type": "display_data",
          "data": {
            "text/plain": [
              "<Figure size 640x480 with 1 Axes>"
            ],
            "image/png": "[encoded data removed]"
          },
          "metadata": {}
        },
        {
          "output_type": "stream",
          "name": "stdout",
          "text": [
            "count   891.000\n",
            "mean     26.965\n",
            "std       9.282\n",
            "min      12.000\n",
            "5%       16.000\n",
            "10%      17.000\n",
            "20%      19.000\n",
            "30%      21.000\n",
            "40%      23.000\n",
            "50%      25.000\n",
            "60%      27.000\n",
            "70%      29.000\n",
            "80%      32.000\n",
            "90%      41.000\n",
            "95%      47.000\n",
            "99%      55.100\n",
            "max      82.000\n",
            "Name: NEW_NAME_COUNT, dtype: float64\n"
          ]
        },
        {
          "output_type": "display_data",
          "data": {
            "text/plain": [
              "<Figure size 640x480 with 1 Axes>"
            ],
            "image/png": "[encoded data removed]"
          },
          "metadata": {}
        },
        {
          "output_type": "stream",
          "name": "stdout",
          "text": [
            "count   714.000\n",
            "mean     61.938\n",
            "std      34.380\n",
            "min       0.920\n",
            "5%       12.000\n",
            "10%      21.000\n",
            "20%      34.600\n",
            "30%      44.900\n",
            "40%      51.000\n",
            "50%      58.000\n",
            "60%      65.000\n",
            "70%      75.000\n",
            "80%      87.000\n",
            "90%     108.000\n",
            "95%     124.700\n",
            "99%     153.000\n",
            "max     222.000\n",
            "Name: NEW_AGE_PCLASS, dtype: float64\n"
          ]
        },
        {
          "output_type": "display_data",
          "data": {
            "text/plain": [
              "<Figure size 640x480 with 1 Axes>"
            ],
            "image/png": "[encoded data removed]"
          },
          "metadata": {}
        }
      ]
    },
    {
      "cell_type": "markdown",
      "source": [
        "# 6. Outliers"
      ],
      "metadata": {
        "id": "2PvTjTy8u78_"
      }
    },
    {
      "cell_type": "code",
      "source": [
        "# Outlier Threshold Calculation Function\n",
        "\n",
        "def outlier_thresholds(dataframe, col_name, q1=0.05, q3=0.95):\n",
        "    quartile1 = dataframe[col_name].quantile(q1)\n",
        "    quartile3 = dataframe[col_name].quantile(q3)\n",
        "    interquantile_range = quartile3 - quartile1\n",
        "    up_limit = quartile3 + 1.5 * interquantile_range\n",
        "    low_limit = quartile1 - 1.5 * interquantile_range\n",
        "    return low_limit, up_limit"
      ],
      "metadata": {
        "execution": {
          "iopub.status.busy": "2023-07-23T22:10:16.549187Z",
          "iopub.execute_input": "2023-07-23T22:10:16.549495Z",
          "iopub.status.idle": "2023-07-23T22:10:16.555696Z",
          "shell.execute_reply.started": "2023-07-23T22:10:16.549468Z",
          "shell.execute_reply": "2023-07-23T22:10:16.55437Z"
        },
        "trusted": true,
        "id": "1RTMm4zfu79D"
      },
      "execution_count": 31,
      "outputs": []
    },
    {
      "cell_type": "code",
      "source": [
        "# Outlier Check Function\n",
        "\n",
        "def check_outlier(dataframe, col_name):\n",
        "    low_limit, up_limit = outlier_thresholds(dataframe, col_name)\n",
        "    if dataframe[(dataframe[col_name] > up_limit) | (dataframe[col_name] < low_limit)].any(axis=None):\n",
        "        return True\n",
        "    else:\n",
        "        return False"
      ],
      "metadata": {
        "execution": {
          "iopub.status.busy": "2023-07-23T22:10:16.557527Z",
          "iopub.execute_input": "2023-07-23T22:10:16.557963Z",
          "iopub.status.idle": "2023-07-23T22:10:16.570079Z",
          "shell.execute_reply.started": "2023-07-23T22:10:16.557922Z",
          "shell.execute_reply": "2023-07-23T22:10:16.568864Z"
        },
        "trusted": true,
        "id": "l6v_0i3gu79D"
      },
      "execution_count": 32,
      "outputs": []
    },
    {
      "cell_type": "code",
      "source": [
        "# Replace Outliers with Thresholds\n",
        "\n",
        "def replace_with_thresholds(dataframe, variable):\n",
        "    low_limit, up_limit = outlier_thresholds(dataframe, variable)\n",
        "    dataframe.loc[(dataframe[variable] < low_limit), variable] = low_limit\n",
        "    dataframe.loc[(dataframe[variable] > up_limit), variable] = up_limit"
      ],
      "metadata": {
        "execution": {
          "iopub.status.busy": "2023-07-23T22:10:16.571784Z",
          "iopub.execute_input": "2023-07-23T22:10:16.57226Z",
          "iopub.status.idle": "2023-07-23T22:10:16.58682Z",
          "shell.execute_reply.started": "2023-07-23T22:10:16.572219Z",
          "shell.execute_reply": "2023-07-23T22:10:16.585863Z"
        },
        "trusted": true,
        "id": "9wujR3vQu79D"
      },
      "execution_count": 33,
      "outputs": []
    },
    {
      "cell_type": "code",
      "source": [
        "# Visualizing Outliers in a Boxplot\n",
        "\n",
        "def boxplot_outliers(dataframe, col_name):\n",
        "    plt.figure(figsize=(5, 5))\n",
        "    sns.boxplot(x=dataframe[col_name])\n",
        "    plt.show(block=True)"
      ],
      "metadata": {
        "execution": {
          "iopub.status.busy": "2023-07-23T22:10:16.588024Z",
          "iopub.execute_input": "2023-07-23T22:10:16.588403Z",
          "iopub.status.idle": "2023-07-23T22:10:16.599238Z",
          "shell.execute_reply.started": "2023-07-23T22:10:16.588374Z",
          "shell.execute_reply": "2023-07-23T22:10:16.598225Z"
        },
        "trusted": true,
        "id": "n3vENNaGu79D"
      },
      "execution_count": 34,
      "outputs": []
    },
    {
      "cell_type": "code",
      "source": [
        "for col in num_cols:\n",
        "    print(col, check_outlier(df, col))"
      ],
      "metadata": {
        "execution": {
          "iopub.status.busy": "2023-07-23T22:10:16.600464Z",
          "iopub.execute_input": "2023-07-23T22:10:16.600818Z",
          "iopub.status.idle": "2023-07-23T22:10:16.63061Z",
          "shell.execute_reply.started": "2023-07-23T22:10:16.600787Z",
          "shell.execute_reply": "2023-07-23T22:10:16.629688Z"
        },
        "trusted": true,
        "id": "5eLJu4rlu79D",
        "outputId": "a6f1a0db-8065-4903-d05e-fa6caafa6d98",
        "colab": {
          "base_uri": "https://localhost:8080/"
        }
      },
      "execution_count": 35,
      "outputs": [
        {
          "output_type": "stream",
          "name": "stdout",
          "text": [
            "AGE False\n",
            "FARE True\n",
            "NEW_NAME_COUNT False\n",
            "NEW_AGE_PCLASS False\n"
          ]
        }
      ]
    },
    {
      "cell_type": "code",
      "source": [
        "for col in num_cols:\n",
        "    print(col, replace_with_thresholds(df, col))"
      ],
      "metadata": {
        "execution": {
          "iopub.status.busy": "2023-07-23T22:10:16.631879Z",
          "iopub.execute_input": "2023-07-23T22:10:16.632559Z",
          "iopub.status.idle": "2023-07-23T22:10:16.654385Z",
          "shell.execute_reply.started": "2023-07-23T22:10:16.632527Z",
          "shell.execute_reply": "2023-07-23T22:10:16.653142Z"
        },
        "trusted": true,
        "id": "qGfSCAJHu79E",
        "outputId": "b69bcd90-5b70-4b13-8007-63f6ba97d517",
        "colab": {
          "base_uri": "https://localhost:8080/"
        }
      },
      "execution_count": 36,
      "outputs": [
        {
          "output_type": "stream",
          "name": "stdout",
          "text": [
            "AGE None\n",
            "FARE None\n",
            "NEW_NAME_COUNT None\n",
            "NEW_AGE_PCLASS None\n"
          ]
        }
      ]
    },
    {
      "cell_type": "code",
      "source": [
        "for col in num_cols:\n",
        "    print(col, check_outlier(df, col))"
      ],
      "metadata": {
        "execution": {
          "iopub.status.busy": "2023-07-23T22:10:16.656345Z",
          "iopub.execute_input": "2023-07-23T22:10:16.657081Z",
          "iopub.status.idle": "2023-07-23T22:10:16.682686Z",
          "shell.execute_reply.started": "2023-07-23T22:10:16.657008Z",
          "shell.execute_reply": "2023-07-23T22:10:16.68126Z"
        },
        "trusted": true,
        "id": "JphVku-8u79E",
        "outputId": "4ea9662a-e25c-40e1-a9e3-43e64cc49a6e",
        "colab": {
          "base_uri": "https://localhost:8080/"
        }
      },
      "execution_count": 37,
      "outputs": [
        {
          "output_type": "stream",
          "name": "stdout",
          "text": [
            "AGE False\n",
            "FARE False\n",
            "NEW_NAME_COUNT False\n",
            "NEW_AGE_PCLASS False\n"
          ]
        }
      ]
    },
    {
      "cell_type": "code",
      "source": [
        "for col in num_cols:\n",
        "    print(col, boxplot_outliers(df, col))"
      ],
      "metadata": {
        "execution": {
          "iopub.status.busy": "2023-07-23T22:10:16.684469Z",
          "iopub.execute_input": "2023-07-23T22:10:16.685494Z",
          "iopub.status.idle": "2023-07-23T22:10:17.498426Z",
          "shell.execute_reply.started": "2023-07-23T22:10:16.685458Z",
          "shell.execute_reply": "2023-07-23T22:10:17.497243Z"
        },
        "trusted": true,
        "id": "We9wvngqu79E",
        "outputId": "5a95b3f7-7ce7-42f4-fe2a-d3bb57b82cad",
        "colab": {
          "base_uri": "https://localhost:8080/",
          "height": 1000
        }
      },
      "execution_count": 38,
      "outputs": [
        {
          "output_type": "display_data",
          "data": {
            "text/plain": [
              "<Figure size 500x500 with 1 Axes>"
            ],
            "image/png": "[encoded data removed]"
          },
          "metadata": {}
        },
        {
          "output_type": "stream",
          "name": "stdout",
          "text": [
            "AGE None\n"
          ]
        },
        {
          "output_type": "display_data",
          "data": {
            "text/plain": [
              "<Figure size 500x500 with 1 Axes>"
            ],
            "image/png": "[encoded data removed]"
          },
          "metadata": {}
        },
        {
          "output_type": "stream",
          "name": "stdout",
          "text": [
            "FARE None\n"
          ]
        },
        {
          "output_type": "display_data",
          "data": {
            "text/plain": [
              "<Figure size 500x500 with 1 Axes>"
            ],
            "image/png": "[encoded data removed]"
          },
          "metadata": {}
        },
        {
          "output_type": "stream",
          "name": "stdout",
          "text": [
            "NEW_NAME_COUNT None\n"
          ]
        },
        {
          "output_type": "display_data",
          "data": {
            "text/plain": [
              "<Figure size 500x500 with 1 Axes>"
            ],
            "image/png": "[encoded data removed]"
          },
          "metadata": {}
        },
        {
          "output_type": "stream",
          "name": "stdout",
          "text": [
            "NEW_AGE_PCLASS None\n"
          ]
        }
      ]
    },
    {
      "cell_type": "markdown",
      "source": [
        "# 7. Missing Values"
      ],
      "metadata": {
        "id": "bLwev0Puu79E"
      }
    },
    {
      "cell_type": "code",
      "source": [
        "# Analyzing Missing Values in a DataFrame\n",
        "\n",
        "def missing_values_table(dataframe, na_name=False):\n",
        "    na_columns = [col for col in dataframe.columns if dataframe[col].isnull().sum() > 0]\n",
        "\n",
        "    n_miss = dataframe[na_columns].isnull().sum().sort_values(ascending=False)\n",
        "    ratio = (dataframe[na_columns].isnull().sum() / dataframe.shape[0] * 100).sort_values(ascending=False)\n",
        "    missing_df = pd.concat([n_miss, np.round(ratio, 2)], axis=1, keys=['n_miss', 'ratio'])\n",
        "    print(missing_df, end='\\n')\n",
        "\n",
        "    if na_name:\n",
        "        return na_columns"
      ],
      "metadata": {
        "execution": {
          "iopub.status.busy": "2023-07-23T22:10:17.499649Z",
          "iopub.execute_input": "2023-07-23T22:10:17.499963Z",
          "iopub.status.idle": "2023-07-23T22:10:17.507698Z",
          "shell.execute_reply.started": "2023-07-23T22:10:17.499936Z",
          "shell.execute_reply": "2023-07-23T22:10:17.506807Z"
        },
        "trusted": true,
        "id": "jvFJeZu6u79E"
      },
      "execution_count": 39,
      "outputs": []
    },
    {
      "cell_type": "code",
      "source": [
        "missing_values_table(df, na_name=False)"
      ],
      "metadata": {
        "execution": {
          "iopub.status.busy": "2023-07-23T22:10:17.508882Z",
          "iopub.execute_input": "2023-07-23T22:10:17.509865Z",
          "iopub.status.idle": "2023-07-23T22:10:17.539578Z",
          "shell.execute_reply.started": "2023-07-23T22:10:17.509831Z",
          "shell.execute_reply": "2023-07-23T22:10:17.53814Z"
        },
        "trusted": true,
        "id": "PqrFL67Su79E",
        "outputId": "c52f17ec-8644-4702-f948-d11d0c42c932",
        "colab": {
          "base_uri": "https://localhost:8080/"
        }
      },
      "execution_count": 40,
      "outputs": [
        {
          "output_type": "stream",
          "name": "stdout",
          "text": [
            "                n_miss  ratio\n",
            "CABIN              687 77.100\n",
            "AGE                177 19.870\n",
            "NEW_AGE_PCLASS     177 19.870\n",
            "NEW_AGE_CAT        177 19.870\n",
            "EMBARKED             2  0.220\n"
          ]
        }
      ]
    },
    {
      "cell_type": "code",
      "source": [
        "df.drop(\"CABIN\", inplace=True, axis=1)"
      ],
      "metadata": {
        "execution": {
          "iopub.status.busy": "2023-07-23T22:10:17.540846Z",
          "iopub.execute_input": "2023-07-23T22:10:17.541248Z",
          "iopub.status.idle": "2023-07-23T22:10:17.547322Z",
          "shell.execute_reply.started": "2023-07-23T22:10:17.541213Z",
          "shell.execute_reply": "2023-07-23T22:10:17.546493Z"
        },
        "trusted": true,
        "id": "kFzwOT4Vu79E"
      },
      "execution_count": 41,
      "outputs": []
    },
    {
      "cell_type": "code",
      "source": [
        "missing_values_table(df, na_name=False)"
      ],
      "metadata": {
        "execution": {
          "iopub.status.busy": "2023-07-23T22:10:17.548586Z",
          "iopub.execute_input": "2023-07-23T22:10:17.548928Z",
          "iopub.status.idle": "2023-07-23T22:10:17.577085Z",
          "shell.execute_reply.started": "2023-07-23T22:10:17.548899Z",
          "shell.execute_reply": "2023-07-23T22:10:17.576201Z"
        },
        "trusted": true,
        "id": "8UuF84D0u79E",
        "outputId": "008aad9c-509d-4412-b09b-0a6025585cb7",
        "colab": {
          "base_uri": "https://localhost:8080/"
        }
      },
      "execution_count": 42,
      "outputs": [
        {
          "output_type": "stream",
          "name": "stdout",
          "text": [
            "                n_miss  ratio\n",
            "AGE                177 19.870\n",
            "NEW_AGE_PCLASS     177 19.870\n",
            "NEW_AGE_CAT        177 19.870\n",
            "EMBARKED             2  0.220\n"
          ]
        }
      ]
    },
    {
      "cell_type": "code",
      "source": [
        "remove_cols = [\"TICKET\", \"NAME\"]"
      ],
      "metadata": {
        "execution": {
          "iopub.status.busy": "2023-07-23T22:10:17.578396Z",
          "iopub.execute_input": "2023-07-23T22:10:17.578757Z",
          "iopub.status.idle": "2023-07-23T22:10:17.589836Z",
          "shell.execute_reply.started": "2023-07-23T22:10:17.578727Z",
          "shell.execute_reply": "2023-07-23T22:10:17.588554Z"
        },
        "trusted": true,
        "id": "2yPJiJDru79E"
      },
      "execution_count": 43,
      "outputs": []
    },
    {
      "cell_type": "code",
      "source": [
        "df.drop(remove_cols, inplace=True, axis=1)"
      ],
      "metadata": {
        "execution": {
          "iopub.status.busy": "2023-07-23T22:10:17.591555Z",
          "iopub.execute_input": "2023-07-23T22:10:17.592275Z",
          "iopub.status.idle": "2023-07-23T22:10:17.6031Z",
          "shell.execute_reply.started": "2023-07-23T22:10:17.592236Z",
          "shell.execute_reply": "2023-07-23T22:10:17.602116Z"
        },
        "trusted": true,
        "id": "SXS-DdMNu79E"
      },
      "execution_count": 44,
      "outputs": []
    },
    {
      "cell_type": "code",
      "source": [
        "missing_values_table(df, na_name=False)"
      ],
      "metadata": {
        "execution": {
          "iopub.status.busy": "2023-07-23T22:10:17.604557Z",
          "iopub.execute_input": "2023-07-23T22:10:17.605185Z",
          "iopub.status.idle": "2023-07-23T22:10:17.629315Z",
          "shell.execute_reply.started": "2023-07-23T22:10:17.60515Z",
          "shell.execute_reply": "2023-07-23T22:10:17.628398Z"
        },
        "trusted": true,
        "id": "noSqVX5Ru79F",
        "outputId": "0327b7f6-09b8-4d53-e25e-c57365dd52b4",
        "colab": {
          "base_uri": "https://localhost:8080/"
        }
      },
      "execution_count": 45,
      "outputs": [
        {
          "output_type": "stream",
          "name": "stdout",
          "text": [
            "                n_miss  ratio\n",
            "AGE                177 19.870\n",
            "NEW_AGE_PCLASS     177 19.870\n",
            "NEW_AGE_CAT        177 19.870\n",
            "EMBARKED             2  0.220\n"
          ]
        }
      ]
    },
    {
      "cell_type": "code",
      "source": [
        "df[\"AGE\"] = df[\"AGE\"].fillna(df.groupby(\"NEW_TITLE\")[\"AGE\"].transform(\"median\"))"
      ],
      "metadata": {
        "execution": {
          "iopub.status.busy": "2023-07-23T22:10:17.630607Z",
          "iopub.execute_input": "2023-07-23T22:10:17.630942Z",
          "iopub.status.idle": "2023-07-23T22:10:17.640358Z",
          "shell.execute_reply.started": "2023-07-23T22:10:17.630912Z",
          "shell.execute_reply": "2023-07-23T22:10:17.63923Z"
        },
        "trusted": true,
        "id": "Ok7-nnbou79F"
      },
      "execution_count": 46,
      "outputs": []
    },
    {
      "cell_type": "code",
      "source": [
        "missing_values_table(df, na_name=False)"
      ],
      "metadata": {
        "execution": {
          "iopub.status.busy": "2023-07-23T22:10:17.641629Z",
          "iopub.execute_input": "2023-07-23T22:10:17.641978Z",
          "iopub.status.idle": "2023-07-23T22:10:17.664465Z",
          "shell.execute_reply.started": "2023-07-23T22:10:17.641949Z",
          "shell.execute_reply": "2023-07-23T22:10:17.662971Z"
        },
        "trusted": true,
        "id": "8f_hQf9wu79F",
        "outputId": "c417622c-4637-49a8-cc5b-105f046361d5",
        "colab": {
          "base_uri": "https://localhost:8080/"
        }
      },
      "execution_count": 47,
      "outputs": [
        {
          "output_type": "stream",
          "name": "stdout",
          "text": [
            "                n_miss  ratio\n",
            "NEW_AGE_PCLASS     177 19.870\n",
            "NEW_AGE_CAT        177 19.870\n",
            "EMBARKED             2  0.220\n"
          ]
        }
      ]
    },
    {
      "cell_type": "code",
      "source": [
        "df[\"NEW_AGE_PCLASS\"] = df[\"AGE\"] * df[\"PCLASS\"]"
      ],
      "metadata": {
        "execution": {
          "iopub.status.busy": "2023-07-23T22:10:17.668113Z",
          "iopub.execute_input": "2023-07-23T22:10:17.668511Z",
          "iopub.status.idle": "2023-07-23T22:10:17.678582Z",
          "shell.execute_reply.started": "2023-07-23T22:10:17.668481Z",
          "shell.execute_reply": "2023-07-23T22:10:17.677318Z"
        },
        "trusted": true,
        "id": "sPduKyayu79F"
      },
      "execution_count": 48,
      "outputs": []
    },
    {
      "cell_type": "code",
      "source": [
        "df.loc[(df[\"AGE\"] < 18), \"NEW_AGE_CAT\"] = \"young\"\n",
        "df.loc[(df[\"AGE\"] >= 18) & (df[\"AGE\"] < 56), \"NEW_AGE_CAT\"] = \"mature\"\n",
        "df.loc[(df[\"AGE\"] >= 56), \"NEW_AGE_CAT\"] = \"senior\""
      ],
      "metadata": {
        "execution": {
          "iopub.status.busy": "2023-07-23T22:10:17.680345Z",
          "iopub.execute_input": "2023-07-23T22:10:17.680822Z",
          "iopub.status.idle": "2023-07-23T22:10:17.693675Z",
          "shell.execute_reply.started": "2023-07-23T22:10:17.680779Z",
          "shell.execute_reply": "2023-07-23T22:10:17.692365Z"
        },
        "trusted": true,
        "id": "cgYNDUV3u79F"
      },
      "execution_count": 49,
      "outputs": []
    },
    {
      "cell_type": "code",
      "source": [
        "df.loc[(df[\"SEX\"] == \"male\") & (df[\"AGE\"] <= 21), \"NEW_SEX_CAT\"] = \"youngmale\"\n",
        "df.loc[(df[\"SEX\"] == \"male\") & ((df[\"AGE\"] > 21) & (df[\"AGE\"]) <= 50), \"NEW_SEX_CAT\"] = \"maturemale\"\n",
        "df.loc[(df[\"SEX\"] == \"male\") & (df[\"AGE\"] > 50), \"NEW_SEX_CAT\"] = \"seniormale\"\n",
        "df.loc[(df[\"SEX\"] == \"female\") & (df[\"AGE\"] <= 21), \"NEW_SEX_CAT\"] = \"youngfemale\"\n",
        "df.loc[(df[\"SEX\"] == \"female\") & ((df[\"AGE\"] > 21) & (df[\"AGE\"]) <= 50), \"NEW_SEX_CAT\"] = \"maturefemale\"\n",
        "df.loc[(df[\"SEX\"] == \"female\") & (df[\"AGE\"] > 50), \"NEW_SEX_CAT\"] = \"seniorfemale\""
      ],
      "metadata": {
        "execution": {
          "iopub.status.busy": "2023-07-23T22:10:17.695181Z",
          "iopub.execute_input": "2023-07-23T22:10:17.696289Z",
          "iopub.status.idle": "2023-07-23T22:10:17.719429Z",
          "shell.execute_reply.started": "2023-07-23T22:10:17.696254Z",
          "shell.execute_reply": "2023-07-23T22:10:17.717966Z"
        },
        "trusted": true,
        "id": "IUKu1cU0u79F"
      },
      "execution_count": 50,
      "outputs": []
    },
    {
      "cell_type": "code",
      "source": [
        "missing_values_table(df, na_name=False)"
      ],
      "metadata": {
        "execution": {
          "iopub.status.busy": "2023-07-23T22:10:17.721007Z",
          "iopub.execute_input": "2023-07-23T22:10:17.721698Z",
          "iopub.status.idle": "2023-07-23T22:10:17.738691Z",
          "shell.execute_reply.started": "2023-07-23T22:10:17.721665Z",
          "shell.execute_reply": "2023-07-23T22:10:17.737879Z"
        },
        "trusted": true,
        "id": "xgmaKT4Du79F",
        "outputId": "02742422-a216-4a31-8ccd-e05d2f08e668",
        "colab": {
          "base_uri": "https://localhost:8080/"
        }
      },
      "execution_count": 51,
      "outputs": [
        {
          "output_type": "stream",
          "name": "stdout",
          "text": [
            "          n_miss  ratio\n",
            "EMBARKED       2  0.220\n"
          ]
        }
      ]
    },
    {
      "cell_type": "code",
      "source": [
        "df = df.apply(lambda x: x.fillna(x.mode()[0]) if (x.dtype == \"O\" and len(x.unique()) <= 10) else x, axis=0)"
      ],
      "metadata": {
        "execution": {
          "iopub.status.busy": "2023-07-23T22:10:17.739834Z",
          "iopub.execute_input": "2023-07-23T22:10:17.740798Z",
          "iopub.status.idle": "2023-07-23T22:10:17.753953Z",
          "shell.execute_reply.started": "2023-07-23T22:10:17.740764Z",
          "shell.execute_reply": "2023-07-23T22:10:17.753003Z"
        },
        "trusted": true,
        "id": "hq_Qo3IYu79G"
      },
      "execution_count": 52,
      "outputs": []
    },
    {
      "cell_type": "code",
      "source": [
        "missing_values_table(df, na_name=False)"
      ],
      "metadata": {
        "execution": {
          "iopub.status.busy": "2023-07-23T22:10:17.755252Z",
          "iopub.execute_input": "2023-07-23T22:10:17.756092Z",
          "iopub.status.idle": "2023-07-23T22:10:17.773751Z",
          "shell.execute_reply.started": "2023-07-23T22:10:17.756031Z",
          "shell.execute_reply": "2023-07-23T22:10:17.772718Z"
        },
        "trusted": true,
        "id": "KaChU6s6u79G",
        "outputId": "06c5d302-080c-4038-851b-2ca0b67e146d",
        "colab": {
          "base_uri": "https://localhost:8080/"
        }
      },
      "execution_count": 53,
      "outputs": [
        {
          "output_type": "stream",
          "name": "stdout",
          "text": [
            "Empty DataFrame\n",
            "Columns: [n_miss, ratio]\n",
            "Index: []\n"
          ]
        }
      ]
    },
    {
      "cell_type": "markdown",
      "source": [
        "# 8. Label Encoding"
      ],
      "metadata": {
        "id": "_SVxuX7Uu79G"
      }
    },
    {
      "cell_type": "code",
      "source": [
        "# Label Encoding Function\n",
        "\n",
        "def label_encoder(dataframe, binary_col):\n",
        "    labelencoder = LabelEncoder()\n",
        "    dataframe[binary_col] = labelencoder.fit_transform(dataframe[binary_col])\n",
        "    return dataframe"
      ],
      "metadata": {
        "execution": {
          "iopub.status.busy": "2023-07-23T22:10:17.774991Z",
          "iopub.execute_input": "2023-07-23T22:10:17.775363Z",
          "iopub.status.idle": "2023-07-23T22:10:17.780997Z",
          "shell.execute_reply.started": "2023-07-23T22:10:17.775332Z",
          "shell.execute_reply": "2023-07-23T22:10:17.780132Z"
        },
        "trusted": true,
        "id": "ixortN5Qu79G"
      },
      "execution_count": 54,
      "outputs": []
    },
    {
      "cell_type": "code",
      "source": [
        "binary_cols = [col for col in df.columns if df[col].dtype not in [int, float] and df[col].nunique() == 2]"
      ],
      "metadata": {
        "execution": {
          "iopub.status.busy": "2023-07-23T22:10:17.782234Z",
          "iopub.execute_input": "2023-07-23T22:10:17.782998Z",
          "iopub.status.idle": "2023-07-23T22:10:17.793935Z",
          "shell.execute_reply.started": "2023-07-23T22:10:17.782966Z",
          "shell.execute_reply": "2023-07-23T22:10:17.793024Z"
        },
        "trusted": true,
        "id": "dNnVAdREu79G"
      },
      "execution_count": 55,
      "outputs": []
    },
    {
      "cell_type": "code",
      "source": [
        "for col in binary_cols:\n",
        "    df = label_encoder(df, col)"
      ],
      "metadata": {
        "execution": {
          "iopub.status.busy": "2023-07-23T22:10:17.795322Z",
          "iopub.execute_input": "2023-07-23T22:10:17.79601Z",
          "iopub.status.idle": "2023-07-23T22:10:17.805931Z",
          "shell.execute_reply.started": "2023-07-23T22:10:17.795975Z",
          "shell.execute_reply": "2023-07-23T22:10:17.805034Z"
        },
        "trusted": true,
        "id": "Rqc6zvRcu79G"
      },
      "execution_count": 56,
      "outputs": []
    },
    {
      "cell_type": "code",
      "source": [
        "df.head()"
      ],
      "metadata": {
        "execution": {
          "iopub.status.busy": "2023-07-23T22:10:17.807244Z",
          "iopub.execute_input": "2023-07-23T22:10:17.807602Z",
          "iopub.status.idle": "2023-07-23T22:10:17.83098Z",
          "shell.execute_reply.started": "2023-07-23T22:10:17.80757Z",
          "shell.execute_reply": "2023-07-23T22:10:17.83014Z"
        },
        "trusted": true,
        "id": "JT2J4BG8u79G",
        "outputId": "664b4749-3420-476b-d7a8-eaabe767a5fa",
        "colab": {
          "base_uri": "https://localhost:8080/",
          "height": 206
        }
      },
      "execution_count": 57,
      "outputs": [
        {
          "output_type": "execute_result",
          "data": {
            "text/plain": [
              "   PASSENGERID  SURVIVED  PCLASS  SEX    AGE  SIBSP  PARCH   FARE EMBARKED  New_CABIN_BOOL  NEW_NAME_COUNT  NEW_NAME_WORD_COUNT  NEW_NAME_DR NEW_TITLE  NEW_FAMILY_SIZE  NEW_AGE_PCLASS  NEW_IS_ALONE NEW_AGE_CAT   NEW_SEX_CAT\n",
              "0            1         0       3    1 22.000      1      0  7.250        S               0          23.000                    4            0        Mr                2          66.000             0      mature    maturemale\n",
              "1            2         1       1    0 38.000      1      0 71.283        C               1          51.000                    7            0       Mrs                2          38.000             0      mature  maturefemale\n",
              "2            3         1       3    0 26.000      0      0  7.925        S               0          22.000                    3            0      Miss                1          78.000             1      mature  maturefemale\n",
              "3            4         1       1    0 35.000      1      0 53.100        S               1          44.000                    7            0       Mrs                2          35.000             0      mature  maturefemale\n",
              "4            5         0       3    1 35.000      0      0  8.050        S               0          24.000                    4            0        Mr                1         105.000             1      mature    maturemale"
            ],
            "text/html": [
              "\n",
              "  <div id=\"df-f233ce47-42b1-40d7-9cef-acb48dbfe4f9\" class=\"colab-df-container\">\n",
              "    <div>\n",
              "<style scoped>\n",
              "    .dataframe tbody tr th:only-of-type {\n",
              "        vertical-align: middle;\n",
              "    }\n",
              "\n",
              "    .dataframe tbody tr th {\n",
              "        vertical-align: top;\n",
              "    }\n",
              "\n",
              "    .dataframe thead th {\n",
              "        text-align: right;\n",
              "    }\n",
              "</style>\n",
              "<table border=\"1\" class=\"dataframe\">\n",
              "  <thead>\n",
              "    <tr style=\"text-align: right;\">\n",
              "      <th></th>\n",
              "      <th>PASSENGERID</th>\n",
              "      <th>SURVIVED</th>\n",
              "      <th>PCLASS</th>\n",
              "      <th>SEX</th>\n",
              "      <th>AGE</th>\n",
              "      <th>SIBSP</th>\n",
              "      <th>PARCH</th>\n",
              "      <th>FARE</th>\n",
              "      <th>EMBARKED</th>\n",
              "      <th>New_CABIN_BOOL</th>\n",
              "      <th>NEW_NAME_COUNT</th>\n",
              "      <th>NEW_NAME_WORD_COUNT</th>\n",
              "      <th>NEW_NAME_DR</th>\n",
              "      <th>NEW_TITLE</th>\n",
              "      <th>NEW_FAMILY_SIZE</th>\n",
              "      <th>NEW_AGE_PCLASS</th>\n",
              "      <th>NEW_IS_ALONE</th>\n",
              "      <th>NEW_AGE_CAT</th>\n",
              "      <th>NEW_SEX_CAT</th>\n",
              "    </tr>\n",
              "  </thead>\n",
              "  <tbody>\n",
              "    <tr>\n",
              "      <th>0</th>\n",
              "      <td>1</td>\n",
              "      <td>0</td>\n",
              "      <td>3</td>\n",
              "      <td>1</td>\n",
              "      <td>22.000</td>\n",
              "      <td>1</td>\n",
              "      <td>0</td>\n",
              "      <td>7.250</td>\n",
              "      <td>S</td>\n",
              "      <td>0</td>\n",
              "      <td>23.000</td>\n",
              "      <td>4</td>\n",
              "      <td>0</td>\n",
              "      <td>Mr</td>\n",
              "      <td>2</td>\n",
              "      <td>66.000</td>\n",
              "      <td>0</td>\n",
              "      <td>mature</td>\n",
              "      <td>maturemale</td>\n",
              "    </tr>\n",
              "    <tr>\n",
              "      <th>1</th>\n",
              "      <td>2</td>\n",
              "      <td>1</td>\n",
              "      <td>1</td>\n",
              "      <td>0</td>\n",
              "      <td>38.000</td>\n",
              "      <td>1</td>\n",
              "      <td>0</td>\n",
              "      <td>71.283</td>\n",
              "      <td>C</td>\n",
              "      <td>1</td>\n",
              "      <td>51.000</td>\n",
              "      <td>7</td>\n",
              "      <td>0</td>\n",
              "      <td>Mrs</td>\n",
              "      <td>2</td>\n",
              "      <td>38.000</td>\n",
              "      <td>0</td>\n",
              "      <td>mature</td>\n",
              "      <td>maturefemale</td>\n",
              "    </tr>\n",
              "    <tr>\n",
              "      <th>2</th>\n",
              "      <td>3</td>\n",
              "      <td>1</td>\n",
              "      <td>3</td>\n",
              "      <td>0</td>\n",
              "      <td>26.000</td>\n",
              "      <td>0</td>\n",
              "      <td>0</td>\n",
              "      <td>7.925</td>\n",
              "      <td>S</td>\n",
              "      <td>0</td>\n",
              "      <td>22.000</td>\n",
              "      <td>3</td>\n",
              "      <td>0</td>\n",
              "      <td>Miss</td>\n",
              "      <td>1</td>\n",
              "      <td>78.000</td>\n",
              "      <td>1</td>\n",
              "      <td>mature</td>\n",
              "      <td>maturefemale</td>\n",
              "    </tr>\n",
              "    <tr>\n",
              "      <th>3</th>\n",
              "      <td>4</td>\n",
              "      <td>1</td>\n",
              "      <td>1</td>\n",
              "      <td>0</td>\n",
              "      <td>35.000</td>\n",
              "      <td>1</td>\n",
              "      <td>0</td>\n",
              "      <td>53.100</td>\n",
              "      <td>S</td>\n",
              "      <td>1</td>\n",
              "      <td>44.000</td>\n",
              "      <td>7</td>\n",
              "      <td>0</td>\n",
              "      <td>Mrs</td>\n",
              "      <td>2</td>\n",
              "      <td>35.000</td>\n",
              "      <td>0</td>\n",
              "      <td>mature</td>\n",
              "      <td>maturefemale</td>\n",
              "    </tr>\n",
              "    <tr>\n",
              "      <th>4</th>\n",
              "      <td>5</td>\n",
              "      <td>0</td>\n",
              "      <td>3</td>\n",
              "      <td>1</td>\n",
              "      <td>35.000</td>\n",
              "      <td>0</td>\n",
              "      <td>0</td>\n",
              "      <td>8.050</td>\n",
              "      <td>S</td>\n",
              "      <td>0</td>\n",
              "      <td>24.000</td>\n",
              "      <td>4</td>\n",
              "      <td>0</td>\n",
              "      <td>Mr</td>\n",
              "      <td>1</td>\n",
              "      <td>105.000</td>\n",
              "      <td>1</td>\n",
              "      <td>mature</td>\n",
              "      <td>maturemale</td>\n",
              "    </tr>\n",
              "  </tbody>\n",
              "</table>\n",
              "</div>\n",
              "    <div class=\"colab-df-buttons\">\n",
              "\n",
              "  <div class=\"colab-df-container\">\n",
              "    <button class=\"colab-df-convert\" onclick=\"convertToInteractive('df-f233ce47-42b1-40d7-9cef-acb48dbfe4f9')\"\n",
              "            title=\"Convert this dataframe to an interactive table.\"\n",
              "            style=\"display:none;\">\n",
              "\n",
              "  <svg xmlns=\"http://www.w3.org/2000/svg\" height=\"24px\" viewBox=\"0 -960 960 960\">\n",
              "    <path d=\"M120-120v-720h720v720H120Zm60-500h600v-160H180v160Zm220 220h160v-160H400v160Zm0 220h160v-160H400v160ZM180-400h160v-160H180v160Zm440 0h160v-160H620v160ZM180-180h160v-160H180v160Zm440 0h160v-160H620v160Z\"/>\n",
              "  </svg>\n",
              "    </button>\n",
              "\n",
              "  <style>\n",
              "    .colab-df-container {\n",
              "      display:flex;\n",
              "      gap: 12px;\n",
              "    }\n",
              "\n",
              "    .colab-df-convert {\n",
              "      background-color: #E8F0FE;\n",
              "      border: none;\n",
              "      border-radius: 50%;\n",
              "      cursor: pointer;\n",
              "      display: none;\n",
              "      fill: #1967D2;\n",
              "      height: 32px;\n",
              "      padding: 0 0 0 0;\n",
              "      width: 32px;\n",
              "    }\n",
              "\n",
              "    .colab-df-convert:hover {\n",
              "      background-color: #E2EBFA;\n",
              "      box-shadow: 0px 1px 2px rgba(60, 64, 67, 0.3), 0px 1px 3px 1px rgba(60, 64, 67, 0.15);\n",
              "      fill: #174EA6;\n",
              "    }\n",
              "\n",
              "    .colab-df-buttons div {\n",
              "      margin-bottom: 4px;\n",
              "    }\n",
              "\n",
              "    [theme=dark] .colab-df-convert {\n",
              "      background-color: #3B4455;\n",
              "      fill: #D2E3FC;\n",
              "    }\n",
              "\n",
              "    [theme=dark] .colab-df-convert:hover {\n",
              "      background-color: #434B5C;\n",
              "      box-shadow: 0px 1px 3px 1px rgba(0, 0, 0, 0.15);\n",
              "      filter: drop-shadow(0px 1px 2px rgba(0, 0, 0, 0.3));\n",
              "      fill: #FFFFFF;\n",
              "    }\n",
              "  </style>\n",
              "\n",
              "    <script>\n",
              "      const buttonEl =\n",
              "        document.querySelector('#df-f233ce47-42b1-40d7-9cef-acb48dbfe4f9 button.colab-df-convert');\n",
              "      buttonEl.style.display =\n",
              "        google.colab.kernel.accessAllowed ? 'block' : 'none';\n",
              "\n",
              "      async function convertToInteractive(key) {\n",
              "        const element = document.querySelector('#df-f233ce47-42b1-40d7-9cef-acb48dbfe4f9');\n",
              "        const dataTable =\n",
              "          await google.colab.kernel.invokeFunction('convertToInteractive',\n",
              "                                                    [key], {});\n",
              "        if (!dataTable) return;\n",
              "\n",
              "        const docLinkHtml = 'Like what you see? Visit the ' +\n",
              "          '<a target=\"_blank\" href=https://colab.research.google.com/notebooks/data_table.ipynb>data table notebook</a>'\n",
              "          + ' to learn more about interactive tables.';\n",
              "        element.innerHTML = '';\n",
              "        dataTable['output_type'] = 'display_data';\n",
              "        await google.colab.output.renderOutput(dataTable, element);\n",
              "        const docLink = document.createElement('div');\n",
              "        docLink.innerHTML = docLinkHtml;\n",
              "        element.appendChild(docLink);\n",
              "      }\n",
              "    </script>\n",
              "  </div>\n",
              "\n",
              "\n",
              "<div id=\"df-4101ad51-ace4-47cd-9ed3-8cfa18bf16fc\">\n",
              "  <button class=\"colab-df-quickchart\" onclick=\"quickchart('df-4101ad51-ace4-47cd-9ed3-8cfa18bf16fc')\"\n",
              "            title=\"Suggest charts\"\n",
              "            style=\"display:none;\">\n",
              "\n",
              "<svg xmlns=\"http://www.w3.org/2000/svg\" height=\"24px\"viewBox=\"0 0 24 24\"\n",
              "     width=\"24px\">\n",
              "    <g>\n",
              "        <path d=\"M19 3H5c-1.1 0-2 .9-2 2v14c0 1.1.9 2 2 2h14c1.1 0 2-.9 2-2V5c0-1.1-.9-2-2-2zM9 17H7v-7h2v7zm4 0h-2V7h2v10zm4 0h-2v-4h2v4z\"/>\n",
              "    </g>\n",
              "</svg>\n",
              "  </button>\n",
              "\n",
              "<style>\n",
              "  .colab-df-quickchart {\n",
              "      --bg-color: #E8F0FE;\n",
              "      --fill-color: #1967D2;\n",
              "      --hover-bg-color: #E2EBFA;\n",
              "      --hover-fill-color: #174EA6;\n",
              "      --disabled-fill-color: #AAA;\n",
              "      --disabled-bg-color: #DDD;\n",
              "  }\n",
              "\n",
              "  [theme=dark] .colab-df-quickchart {\n",
              "      --bg-color: #3B4455;\n",
              "      --fill-color: #D2E3FC;\n",
              "      --hover-bg-color: #434B5C;\n",
              "      --hover-fill-color: #FFFFFF;\n",
              "      --disabled-bg-color: #3B4455;\n",
              "      --disabled-fill-color: #666;\n",
              "  }\n",
              "\n",
              "  .colab-df-quickchart {\n",
              "    background-color: var(--bg-color);\n",
              "    border: none;\n",
              "    border-radius: 50%;\n",
              "    cursor: pointer;\n",
              "    display: none;\n",
              "    fill: var(--fill-color);\n",
              "    height: 32px;\n",
              "    padding: 0;\n",
              "    width: 32px;\n",
              "  }\n",
              "\n",
              "  .colab-df-quickchart:hover {\n",
              "    background-color: var(--hover-bg-color);\n",
              "    box-shadow: 0 1px 2px rgba(60, 64, 67, 0.3), 0 1px 3px 1px rgba(60, 64, 67, 0.15);\n",
              "    fill: var(--button-hover-fill-color);\n",
              "  }\n",
              "\n",
              "  .colab-df-quickchart-complete:disabled,\n",
              "  .colab-df-quickchart-complete:disabled:hover {\n",
              "    background-color: var(--disabled-bg-color);\n",
              "    fill: var(--disabled-fill-color);\n",
              "    box-shadow: none;\n",
              "  }\n",
              "\n",
              "  .colab-df-spinner {\n",
              "    border: 2px solid var(--fill-color);\n",
              "    border-color: transparent;\n",
              "    border-bottom-color: var(--fill-color);\n",
              "    animation:\n",
              "      spin 1s steps(1) infinite;\n",
              "  }\n",
              "\n",
              "  @keyframes spin {\n",
              "    0% {\n",
              "      border-color: transparent;\n",
              "      border-bottom-color: var(--fill-color);\n",
              "      border-left-color: var(--fill-color);\n",
              "    }\n",
              "    20% {\n",
              "      border-color: transparent;\n",
              "      border-left-color: var(--fill-color);\n",
              "      border-top-color: var(--fill-color);\n",
              "    }\n",
              "    30% {\n",
              "      border-color: transparent;\n",
              "      border-left-color: var(--fill-color);\n",
              "      border-top-color: var(--fill-color);\n",
              "      border-right-color: var(--fill-color);\n",
              "    }\n",
              "    40% {\n",
              "      border-color: transparent;\n",
              "      border-right-color: var(--fill-color);\n",
              "      border-top-color: var(--fill-color);\n",
              "    }\n",
              "    60% {\n",
              "      border-color: transparent;\n",
              "      border-right-color: var(--fill-color);\n",
              "    }\n",
              "    80% {\n",
              "      border-color: transparent;\n",
              "      border-right-color: var(--fill-color);\n",
              "      border-bottom-color: var(--fill-color);\n",
              "    }\n",
              "    90% {\n",
              "      border-color: transparent;\n",
              "      border-bottom-color: var(--fill-color);\n",
              "    }\n",
              "  }\n",
              "</style>\n",
              "\n",
              "  <script>\n",
              "    async function quickchart(key) {\n",
              "      const quickchartButtonEl =\n",
              "        document.querySelector('#' + key + ' button');\n",
              "      quickchartButtonEl.disabled = true;  // To prevent multiple clicks.\n",
              "      quickchartButtonEl.classList.add('colab-df-spinner');\n",
              "      try {\n",
              "        const charts = await google.colab.kernel.invokeFunction(\n",
              "            'suggestCharts', [key], {});\n",
              "      } catch (error) {\n",
              "        console.error('Error during call to suggestCharts:', error);\n",
              "      }\n",
              "      quickchartButtonEl.classList.remove('colab-df-spinner');\n",
              "      quickchartButtonEl.classList.add('colab-df-quickchart-complete');\n",
              "    }\n",
              "    (() => {\n",
              "      let quickchartButtonEl =\n",
              "        document.querySelector('#df-4101ad51-ace4-47cd-9ed3-8cfa18bf16fc button');\n",
              "      quickchartButtonEl.style.display =\n",
              "        google.colab.kernel.accessAllowed ? 'block' : 'none';\n",
              "    })();\n",
              "  </script>\n",
              "</div>\n",
              "\n",
              "    </div>\n",
              "  </div>\n"
            ],
            "application/vnd.google.colaboratory.intrinsic+json": {
              "type": "dataframe",
              "variable_name": "df",
              "summary": "{\n  \"name\": \"df\",\n  \"rows\": 891,\n  \"fields\": [\n    {\n      \"column\": \"PASSENGERID\",\n      \"properties\": {\n        \"dtype\": \"number\",\n        \"std\": 257,\n        \"min\": 1,\n        \"max\": 891,\n        \"num_unique_values\": 891,\n        \"samples\": [\n          710,\n          440,\n          841\n        ],\n        \"semantic_type\": \"\",\n        \"description\": \"\"\n      }\n    },\n    {\n      \"column\": \"SURVIVED\",\n      \"properties\": {\n        \"dtype\": \"number\",\n        \"std\": 0,\n        \"min\": 0,\n        \"max\": 1,\n        \"num_unique_values\": 2,\n        \"samples\": [\n          1,\n          0\n        ],\n        \"semantic_type\": \"\",\n        \"description\": \"\"\n      }\n    },\n    {\n      \"column\": \"PCLASS\",\n      \"properties\": {\n        \"dtype\": \"number\",\n        \"std\": 0,\n        \"min\": 1,\n        \"max\": 3,\n        \"num_unique_values\": 3,\n        \"samples\": [\n          3,\n          1\n        ],\n        \"semantic_type\": \"\",\n        \"description\": \"\"\n      }\n    },\n    {\n      \"column\": \"SEX\",\n      \"properties\": {\n        \"dtype\": \"number\",\n        \"std\": 0,\n        \"min\": 0,\n        \"max\": 1,\n        \"num_unique_values\": 2,\n        \"samples\": [\n          0,\n          1\n        ],\n        \"semantic_type\": \"\",\n        \"description\": \"\"\n      }\n    },\n    {\n      \"column\": \"AGE\",\n      \"properties\": {\n        \"dtype\": \"number\",\n        \"std\": 13.265321985344809,\n        \"min\": 0.42,\n        \"max\": 80.0,\n        \"num_unique_values\": 90,\n        \"samples\": [\n          33.0,\n          66.0\n        ],\n        \"semantic_type\": \"\",\n        \"description\": \"\"\n      }\n    },\n    {\n      \"column\": \"SIBSP\",\n      \"properties\": {\n        \"dtype\": \"number\",\n        \"std\": 1,\n        \"min\": 0,\n        \"max\": 8,\n        \"num_unique_values\": 7,\n        \"samples\": [\n          1,\n          0\n        ],\n        \"semantic_type\": \"\",\n        \"description\": \"\"\n      }\n    },\n    {\n      \"column\": \"PARCH\",\n      \"properties\": {\n        \"dtype\": \"number\",\n        \"std\": 0,\n        \"min\": 0,\n        \"max\": 6,\n        \"num_unique_values\": 7,\n        \"samples\": [\n          0,\n          1\n        ],\n        \"semantic_type\": \"\",\n        \"description\": \"\"\n      }\n    },\n    {\n      \"column\": \"FARE\",\n      \"properties\": {\n        \"dtype\": \"number\",\n        \"std\": 43.37414455278699,\n        \"min\": 0.0,\n        \"max\": 269.360375,\n        \"num_unique_values\": 248,\n        \"samples\": [\n          11.2417,\n          51.8625\n        ],\n        \"semantic_type\": \"\",\n        \"description\": \"\"\n      }\n    },\n    {\n      \"column\": \"EMBARKED\",\n      \"properties\": {\n        \"dtype\": \"category\",\n        \"num_unique_values\": 3,\n        \"samples\": [\n          \"S\",\n          \"C\"\n        ],\n        \"semantic_type\": \"\",\n        \"description\": \"\"\n      }\n    },\n    {\n      \"column\": \"New_CABIN_BOOL\",\n      \"properties\": {\n        \"dtype\": \"number\",\n        \"std\": 0,\n        \"min\": 0,\n        \"max\": 1,\n        \"num_unique_values\": 2,\n        \"samples\": [\n          1,\n          0\n        ],\n        \"semantic_type\": \"\",\n        \"description\": \"\"\n      }\n    },\n    {\n      \"column\": \"NEW_NAME_COUNT\",\n      \"properties\": {\n        \"dtype\": \"number\",\n        \"std\": 9.281606883145022,\n        \"min\": 12.0,\n        \"max\": 82.0,\n        \"num_unique_values\": 50,\n        \"samples\": [\n          20.0,\n          42.0\n        ],\n        \"semantic_type\": \"\",\n        \"description\": \"\"\n      }\n    },\n    {\n      \"column\": \"NEW_NAME_WORD_COUNT\",\n      \"properties\": {\n        \"dtype\": \"number\",\n        \"std\": 1,\n        \"min\": 3,\n        \"max\": 14,\n        \"num_unique_values\": 8,\n        \"samples\": [\n          7,\n          8\n        ],\n        \"semantic_type\": \"\",\n        \"description\": \"\"\n      }\n    },\n    {\n      \"column\": \"NEW_NAME_DR\",\n      \"properties\": {\n        \"dtype\": \"number\",\n        \"std\": 0,\n        \"min\": 0,\n        \"max\": 1,\n        \"num_unique_values\": 2,\n        \"samples\": [\n          1,\n          0\n        ],\n        \"semantic_type\": \"\",\n        \"description\": \"\"\n      }\n    },\n    {\n      \"column\": \"NEW_TITLE\",\n      \"properties\": {\n        \"dtype\": \"category\",\n        \"num_unique_values\": 17,\n        \"samples\": [\n          \"Mr\",\n          \"Mrs\"\n        ],\n        \"semantic_type\": \"\",\n        \"description\": \"\"\n      }\n    },\n    {\n      \"column\": \"NEW_FAMILY_SIZE\",\n      \"properties\": {\n        \"dtype\": \"number\",\n        \"std\": 1,\n        \"min\": 1,\n        \"max\": 11,\n        \"num_unique_values\": 9,\n        \"samples\": [\n          8,\n          1\n        ],\n        \"semantic_type\": \"\",\n        \"description\": \"\"\n      }\n    },\n    {\n      \"column\": \"NEW_AGE_PCLASS\",\n      \"properties\": {\n        \"dtype\": \"number\",\n        \"std\": 32.950984012955296,\n        \"min\": 0.92,\n        \"max\": 222.0,\n        \"num_unique_values\": 130,\n        \"samples\": [\n          36.0,\n          75.0\n        ],\n        \"semantic_type\": \"\",\n        \"description\": \"\"\n      }\n    },\n    {\n      \"column\": \"NEW_IS_ALONE\",\n      \"properties\": {\n        \"dtype\": \"number\",\n        \"std\": 0,\n        \"min\": 0,\n        \"max\": 1,\n        \"num_unique_values\": 2,\n        \"samples\": [\n          1,\n          0\n        ],\n        \"semantic_type\": \"\",\n        \"description\": \"\"\n      }\n    },\n    {\n      \"column\": \"NEW_AGE_CAT\",\n      \"properties\": {\n        \"dtype\": \"category\",\n        \"num_unique_values\": 3,\n        \"samples\": [\n          \"mature\",\n          \"young\"\n        ],\n        \"semantic_type\": \"\",\n        \"description\": \"\"\n      }\n    },\n    {\n      \"column\": \"NEW_SEX_CAT\",\n      \"properties\": {\n        \"dtype\": \"category\",\n        \"num_unique_values\": 4,\n        \"samples\": [\n          \"maturefemale\",\n          \"seniorfemale\"\n        ],\n        \"semantic_type\": \"\",\n        \"description\": \"\"\n      }\n    }\n  ]\n}"
            }
          },
          "metadata": {},
          "execution_count": 57
        }
      ]
    },
    {
      "cell_type": "markdown",
      "source": [
        "# 9. Rare Encoding"
      ],
      "metadata": {
        "id": "QJV8dDVhu79G"
      }
    },
    {
      "cell_type": "code",
      "source": [
        "# Rare Category Analysis Function\n",
        "\n",
        "def rare_analyser(dataframe, target, cat_cols):\n",
        "    for col in cat_cols:\n",
        "        print(col, \":\", len(dataframe[col].value_counts()))\n",
        "        print(pd.DataFrame({\"COUNT\": dataframe[col].value_counts(),\n",
        "                            \"RATIO\": dataframe[col].value_counts() / len(dataframe),\n",
        "                            \"TARGET_MEAN\": dataframe.groupby(col)[target].mean()}), end=\"\\n\\n\\n\")"
      ],
      "metadata": {
        "execution": {
          "iopub.status.busy": "2023-07-23T22:10:17.832127Z",
          "iopub.execute_input": "2023-07-23T22:10:17.832876Z",
          "iopub.status.idle": "2023-07-23T22:10:17.839696Z",
          "shell.execute_reply.started": "2023-07-23T22:10:17.832841Z",
          "shell.execute_reply": "2023-07-23T22:10:17.838527Z"
        },
        "trusted": true,
        "id": "zI0DJeEtu79H"
      },
      "execution_count": 58,
      "outputs": []
    },
    {
      "cell_type": "code",
      "source": [
        "rare_analyser(df, \"SURVIVED\", cat_cols)"
      ],
      "metadata": {
        "execution": {
          "iopub.status.busy": "2023-07-23T22:10:17.841498Z",
          "iopub.execute_input": "2023-07-23T22:10:17.842243Z",
          "iopub.status.idle": "2023-07-23T22:10:17.926272Z",
          "shell.execute_reply.started": "2023-07-23T22:10:17.8422Z",
          "shell.execute_reply": "2023-07-23T22:10:17.924992Z"
        },
        "trusted": true,
        "id": "q6Lthp2Vu79H",
        "outputId": "9a0dcf20-8d4d-4ee6-d062-6a07a688b98b",
        "colab": {
          "base_uri": "https://localhost:8080/"
        }
      },
      "execution_count": 59,
      "outputs": [
        {
          "output_type": "stream",
          "name": "stdout",
          "text": [
            "SEX : 2\n",
            "     COUNT  RATIO  TARGET_MEAN\n",
            "SEX                           \n",
            "0      314  0.352        0.742\n",
            "1      577  0.648        0.189\n",
            "\n",
            "\n",
            "EMBARKED : 3\n",
            "          COUNT  RATIO  TARGET_MEAN\n",
            "EMBARKED                           \n",
            "C           168  0.189        0.554\n",
            "Q            77  0.086        0.390\n",
            "S           646  0.725        0.339\n",
            "\n",
            "\n",
            "NEW_TITLE : 17\n",
            "           COUNT  RATIO  TARGET_MEAN\n",
            "NEW_TITLE                           \n",
            "Capt           1  0.001        0.000\n",
            "Col            2  0.002        0.500\n",
            "Countess       1  0.001        1.000\n",
            "Don            1  0.001        0.000\n",
            "Dr             7  0.008        0.429\n",
            "Jonkheer       1  0.001        0.000\n",
            "Lady           1  0.001        1.000\n",
            "Major          2  0.002        0.500\n",
            "Master        40  0.045        0.575\n",
            "Miss         182  0.204        0.698\n",
            "Mlle           2  0.002        1.000\n",
            "Mme            1  0.001        1.000\n",
            "Mr           517  0.580        0.157\n",
            "Mrs          125  0.140        0.792\n",
            "Ms             1  0.001        1.000\n",
            "Rev            6  0.007        0.000\n",
            "Sir            1  0.001        1.000\n",
            "\n",
            "\n",
            "NEW_IS_ALONE : 2\n",
            "              COUNT  RATIO  TARGET_MEAN\n",
            "NEW_IS_ALONE                           \n",
            "0               354  0.397        0.506\n",
            "1               537  0.603        0.304\n",
            "\n",
            "\n",
            "NEW_AGE_CAT : 3\n",
            "             COUNT  RATIO  TARGET_MEAN\n",
            "NEW_AGE_CAT                           \n",
            "mature         735  0.825        0.363\n",
            "senior          39  0.044        0.308\n",
            "young          117  0.131        0.538\n",
            "\n",
            "\n",
            "NEW_SEX_CAT : 4\n",
            "              COUNT  RATIO  TARGET_MEAN\n",
            "NEW_SEX_CAT                            \n",
            "maturefemale    297  0.333        0.731\n",
            "maturemale      530  0.595        0.194\n",
            "seniorfemale     17  0.019        0.941\n",
            "seniormale       47  0.053        0.128\n",
            "\n",
            "\n",
            "SURVIVED : 2\n",
            "          COUNT  RATIO  TARGET_MEAN\n",
            "SURVIVED                           \n",
            "0           549  0.616        0.000\n",
            "1           342  0.384        1.000\n",
            "\n",
            "\n",
            "PCLASS : 3\n",
            "        COUNT  RATIO  TARGET_MEAN\n",
            "PCLASS                           \n",
            "1         216  0.242        0.630\n",
            "2         184  0.207        0.473\n",
            "3         491  0.551        0.242\n",
            "\n",
            "\n",
            "SIBSP : 7\n",
            "       COUNT  RATIO  TARGET_MEAN\n",
            "SIBSP                           \n",
            "0        608  0.682        0.345\n",
            "1        209  0.235        0.536\n",
            "2         28  0.031        0.464\n",
            "3         16  0.018        0.250\n",
            "4         18  0.020        0.167\n",
            "5          5  0.006        0.000\n",
            "8          7  0.008        0.000\n",
            "\n",
            "\n",
            "PARCH : 7\n",
            "       COUNT  RATIO  TARGET_MEAN\n",
            "PARCH                           \n",
            "0        678  0.761        0.344\n",
            "1        118  0.132        0.551\n",
            "2         80  0.090        0.500\n",
            "3          5  0.006        0.600\n",
            "4          4  0.004        0.000\n",
            "5          5  0.006        0.200\n",
            "6          1  0.001        0.000\n",
            "\n",
            "\n",
            "New_CABIN_BOOL : 2\n",
            "                COUNT  RATIO  TARGET_MEAN\n",
            "New_CABIN_BOOL                           \n",
            "0                 687  0.771        0.300\n",
            "1                 204  0.229        0.667\n",
            "\n",
            "\n",
            "NEW_NAME_WORD_COUNT : 8\n",
            "                     COUNT  RATIO  TARGET_MEAN\n",
            "NEW_NAME_WORD_COUNT                           \n",
            "3                      305  0.342        0.292\n",
            "4                      388  0.435        0.340\n",
            "5                       96  0.108        0.427\n",
            "6                       53  0.059        0.774\n",
            "7                       38  0.043        0.842\n",
            "8                        9  0.010        0.556\n",
            "9                        1  0.001        1.000\n",
            "14                       1  0.001        1.000\n",
            "\n",
            "\n",
            "NEW_NAME_DR : 2\n",
            "             COUNT  RATIO  TARGET_MEAN\n",
            "NEW_NAME_DR                           \n",
            "0              881  0.989        0.383\n",
            "1               10  0.011        0.500\n",
            "\n",
            "\n",
            "NEW_FAMILY_SIZE : 9\n",
            "                 COUNT  RATIO  TARGET_MEAN\n",
            "NEW_FAMILY_SIZE                           \n",
            "1                  537  0.603        0.304\n",
            "2                  161  0.181        0.553\n",
            "3                  102  0.114        0.578\n",
            "4                   29  0.033        0.724\n",
            "5                   15  0.017        0.200\n",
            "6                   22  0.025        0.136\n",
            "7                   12  0.013        0.333\n",
            "8                    6  0.007        0.000\n",
            "11                   7  0.008        0.000\n",
            "\n",
            "\n"
          ]
        }
      ]
    },
    {
      "cell_type": "code",
      "source": [
        "# Rare Encoder Function\n",
        "\n",
        "def rare_encoder(dataframe, rare_perc):\n",
        "    temp_df = dataframe.copy()\n",
        "\n",
        "    rare_columns = [col for col in temp_df.columns if temp_df[col].dtypes == 'O'\n",
        "                    and (temp_df[col].value_counts() / len(temp_df) < rare_perc).any(axis=None)]\n",
        "\n",
        "    for var in rare_columns:\n",
        "        tmp = temp_df[var].value_counts() / len(temp_df)\n",
        "        rare_labels = tmp[tmp < rare_perc].index\n",
        "        temp_df[var] = np.where(temp_df[var].isin(rare_labels), 'Rare', temp_df[var])\n",
        "\n",
        "    return temp_df"
      ],
      "metadata": {
        "execution": {
          "iopub.status.busy": "2023-07-23T22:10:17.927823Z",
          "iopub.execute_input": "2023-07-23T22:10:17.928289Z",
          "iopub.status.idle": "2023-07-23T22:10:17.936426Z",
          "shell.execute_reply.started": "2023-07-23T22:10:17.928245Z",
          "shell.execute_reply": "2023-07-23T22:10:17.935135Z"
        },
        "trusted": true,
        "id": "u0HLOdTiu79H"
      },
      "execution_count": 60,
      "outputs": []
    },
    {
      "cell_type": "code",
      "source": [
        "df = rare_encoder(df, 0.01)"
      ],
      "metadata": {
        "execution": {
          "iopub.status.busy": "2023-07-23T22:10:17.938003Z",
          "iopub.execute_input": "2023-07-23T22:10:17.938536Z",
          "iopub.status.idle": "2023-07-23T22:10:17.9611Z",
          "shell.execute_reply.started": "2023-07-23T22:10:17.938493Z",
          "shell.execute_reply": "2023-07-23T22:10:17.959596Z"
        },
        "trusted": true,
        "id": "MAWLNGBcu79H"
      },
      "execution_count": 61,
      "outputs": []
    },
    {
      "cell_type": "code",
      "source": [
        "df[\"NEW_TITLE\"].value_counts()"
      ],
      "metadata": {
        "execution": {
          "iopub.status.busy": "2023-07-23T22:10:17.962355Z",
          "iopub.execute_input": "2023-07-23T22:10:17.962677Z",
          "iopub.status.idle": "2023-07-23T22:10:17.973821Z",
          "shell.execute_reply.started": "2023-07-23T22:10:17.962649Z",
          "shell.execute_reply": "2023-07-23T22:10:17.972386Z"
        },
        "trusted": true,
        "id": "xUGoKsjou79H",
        "outputId": "0098a4d7-3175-44e5-806e-36f76d11ff8c",
        "colab": {
          "base_uri": "https://localhost:8080/"
        }
      },
      "execution_count": 62,
      "outputs": [
        {
          "output_type": "execute_result",
          "data": {
            "text/plain": [
              "NEW_TITLE\n",
              "Mr        517\n",
              "Miss      182\n",
              "Mrs       125\n",
              "Master     40\n",
              "Rare       27\n",
              "Name: count, dtype: int64"
            ]
          },
          "metadata": {},
          "execution_count": 62
        }
      ]
    },
    {
      "cell_type": "markdown",
      "source": [
        "# 10. One-Hot Encoding"
      ],
      "metadata": {
        "id": "rG73ilLOu79H"
      }
    },
    {
      "cell_type": "code",
      "source": [
        "# One-Hot Encoder Funtion\n",
        "\n",
        "def one_hot_encoder(dataframe, categorical_cols, drop_first=True):\n",
        "    dataframe = pd.get_dummies(dataframe, columns=categorical_cols, drop_first=drop_first)\n",
        "    return dataframe"
      ],
      "metadata": {
        "execution": {
          "iopub.status.busy": "2023-07-23T22:10:17.975473Z",
          "iopub.execute_input": "2023-07-23T22:10:17.975814Z",
          "iopub.status.idle": "2023-07-23T22:10:17.982781Z",
          "shell.execute_reply.started": "2023-07-23T22:10:17.975785Z",
          "shell.execute_reply": "2023-07-23T22:10:17.981857Z"
        },
        "trusted": true,
        "id": "IVIXhQ2Ju79H"
      },
      "execution_count": 63,
      "outputs": []
    },
    {
      "cell_type": "code",
      "source": [
        "ohe_cols = [col for col in df.columns if 10 >= df[col].nunique() > 2]"
      ],
      "metadata": {
        "execution": {
          "iopub.status.busy": "2023-07-23T22:10:17.984809Z",
          "iopub.execute_input": "2023-07-23T22:10:17.985979Z",
          "iopub.status.idle": "2023-07-23T22:10:17.997143Z",
          "shell.execute_reply.started": "2023-07-23T22:10:17.985931Z",
          "shell.execute_reply": "2023-07-23T22:10:17.99595Z"
        },
        "trusted": true,
        "id": "-E3Bzj9Ju79H"
      },
      "execution_count": 64,
      "outputs": []
    },
    {
      "cell_type": "code",
      "source": [
        "df = one_hot_encoder(df, ohe_cols)"
      ],
      "metadata": {
        "execution": {
          "iopub.status.busy": "2023-07-23T22:10:17.998875Z",
          "iopub.execute_input": "2023-07-23T22:10:17.999964Z",
          "iopub.status.idle": "2023-07-23T22:10:18.017529Z",
          "shell.execute_reply.started": "2023-07-23T22:10:17.999923Z",
          "shell.execute_reply": "2023-07-23T22:10:18.016215Z"
        },
        "trusted": true,
        "id": "gu1IuKwwu79I"
      },
      "execution_count": 65,
      "outputs": []
    },
    {
      "cell_type": "code",
      "source": [
        "df.head()"
      ],
      "metadata": {
        "execution": {
          "iopub.status.busy": "2023-07-23T22:10:18.019175Z",
          "iopub.execute_input": "2023-07-23T22:10:18.019875Z",
          "iopub.status.idle": "2023-07-23T22:10:18.052097Z",
          "shell.execute_reply.started": "2023-07-23T22:10:18.019839Z",
          "shell.execute_reply": "2023-07-23T22:10:18.050988Z"
        },
        "trusted": true,
        "id": "i7oqvHeiu79I",
        "outputId": "11b15600-5923-4199-ebc9-dd344f9d9a5f",
        "colab": {
          "base_uri": "https://localhost:8080/",
          "height": 226
        }
      },
      "execution_count": 66,
      "outputs": [
        {
          "output_type": "execute_result",
          "data": {
            "text/plain": [
              "   PASSENGERID  SURVIVED  SEX    AGE   FARE  New_CABIN_BOOL  NEW_NAME_COUNT  NEW_NAME_DR  NEW_AGE_PCLASS  NEW_IS_ALONE  PCLASS_2  PCLASS_3  SIBSP_1  SIBSP_2  SIBSP_3  SIBSP_4  SIBSP_5  SIBSP_8  PARCH_1  PARCH_2  PARCH_3  PARCH_4  PARCH_5  PARCH_6  EMBARKED_Q  EMBARKED_S  NEW_NAME_WORD_COUNT_4  NEW_NAME_WORD_COUNT_5  NEW_NAME_WORD_COUNT_6  NEW_NAME_WORD_COUNT_7  NEW_NAME_WORD_COUNT_8  NEW_NAME_WORD_COUNT_9  NEW_NAME_WORD_COUNT_14  NEW_TITLE_Miss  NEW_TITLE_Mr  NEW_TITLE_Mrs  NEW_TITLE_Rare  \\\n",
              "0            1         0    1 22.000  7.250               0          23.000            0          66.000             0     False      True     True    False    False    False    False    False    False    False    False    False    False    False       False        True                   True                  False                  False                  False                  False                  False                   False           False          True          False           False   \n",
              "1            2         1    0 38.000 71.283               1          51.000            0          38.000             0     False     False     True    False    False    False    False    False    False    False    False    False    False    False       False       False                  False                  False                  False                   True                  False                  False                   False           False         False           True           False   \n",
              "2            3         1    0 26.000  7.925               0          22.000            0          78.000             1     False      True    False    False    False    False    False    False    False    False    False    False    False    False       False        True                  False                  False                  False                  False                  False                  False                   False            True         False          False           False   \n",
              "3            4         1    0 35.000 53.100               1          44.000            0          35.000             0     False     False     True    False    False    False    False    False    False    False    False    False    False    False       False        True                  False                  False                  False                   True                  False                  False                   False           False         False           True           False   \n",
              "4            5         0    1 35.000  8.050               0          24.000            0         105.000             1     False      True    False    False    False    False    False    False    False    False    False    False    False    False       False        True                   True                  False                  False                  False                  False                  False                   False           False          True          False           False   \n",
              "\n",
              "   NEW_FAMILY_SIZE_2  NEW_FAMILY_SIZE_3  NEW_FAMILY_SIZE_4  NEW_FAMILY_SIZE_5  NEW_FAMILY_SIZE_6  NEW_FAMILY_SIZE_7  NEW_FAMILY_SIZE_8  NEW_FAMILY_SIZE_11  NEW_AGE_CAT_senior  NEW_AGE_CAT_young  NEW_SEX_CAT_maturemale  NEW_SEX_CAT_seniorfemale  NEW_SEX_CAT_seniormale  \n",
              "0               True              False              False              False              False              False              False               False               False              False                    True                     False                   False  \n",
              "1               True              False              False              False              False              False              False               False               False              False                   False                     False                   False  \n",
              "2              False              False              False              False              False              False              False               False               False              False                   False                     False                   False  \n",
              "3               True              False              False              False              False              False              False               False               False              False                   False                     False                   False  \n",
              "4              False              False              False              False              False              False              False               False               False              False                    True                     False                   False  "
            ],
            "text/html": [
              "\n",
              "  <div id=\"df-e7cb2216-7df6-4806-9595-4095b261497a\" class=\"colab-df-container\">\n",
              "    <div>\n",
              "<style scoped>\n",
              "    .dataframe tbody tr th:only-of-type {\n",
              "        vertical-align: middle;\n",
              "    }\n",
              "\n",
              "    .dataframe tbody tr th {\n",
              "        vertical-align: top;\n",
              "    }\n",
              "\n",
              "    .dataframe thead th {\n",
              "        text-align: right;\n",
              "    }\n",
              "</style>\n",
              "<table border=\"1\" class=\"dataframe\">\n",
              "  <thead>\n",
              "    <tr style=\"text-align: right;\">\n",
              "      <th></th>\n",
              "      <th>PASSENGERID</th>\n",
              "      <th>SURVIVED</th>\n",
              "      <th>SEX</th>\n",
              "      <th>AGE</th>\n",
              "      <th>FARE</th>\n",
              "      <th>New_CABIN_BOOL</th>\n",
              "      <th>NEW_NAME_COUNT</th>\n",
              "      <th>NEW_NAME_DR</th>\n",
              "      <th>NEW_AGE_PCLASS</th>\n",
              "      <th>NEW_IS_ALONE</th>\n",
              "      <th>PCLASS_2</th>\n",
              "      <th>PCLASS_3</th>\n",
              "      <th>SIBSP_1</th>\n",
              "      <th>SIBSP_2</th>\n",
              "      <th>SIBSP_3</th>\n",
              "      <th>SIBSP_4</th>\n",
              "      <th>SIBSP_5</th>\n",
              "      <th>SIBSP_8</th>\n",
              "      <th>PARCH_1</th>\n",
              "      <th>PARCH_2</th>\n",
              "      <th>PARCH_3</th>\n",
              "      <th>PARCH_4</th>\n",
              "      <th>PARCH_5</th>\n",
              "      <th>PARCH_6</th>\n",
              "      <th>EMBARKED_Q</th>\n",
              "      <th>EMBARKED_S</th>\n",
              "      <th>NEW_NAME_WORD_COUNT_4</th>\n",
              "      <th>NEW_NAME_WORD_COUNT_5</th>\n",
              "      <th>NEW_NAME_WORD_COUNT_6</th>\n",
              "      <th>NEW_NAME_WORD_COUNT_7</th>\n",
              "      <th>NEW_NAME_WORD_COUNT_8</th>\n",
              "      <th>NEW_NAME_WORD_COUNT_9</th>\n",
              "      <th>NEW_NAME_WORD_COUNT_14</th>\n",
              "      <th>NEW_TITLE_Miss</th>\n",
              "      <th>NEW_TITLE_Mr</th>\n",
              "      <th>NEW_TITLE_Mrs</th>\n",
              "      <th>NEW_TITLE_Rare</th>\n",
              "      <th>NEW_FAMILY_SIZE_2</th>\n",
              "      <th>NEW_FAMILY_SIZE_3</th>\n",
              "      <th>NEW_FAMILY_SIZE_4</th>\n",
              "      <th>NEW_FAMILY_SIZE_5</th>\n",
              "      <th>NEW_FAMILY_SIZE_6</th>\n",
              "      <th>NEW_FAMILY_SIZE_7</th>\n",
              "      <th>NEW_FAMILY_SIZE_8</th>\n",
              "      <th>NEW_FAMILY_SIZE_11</th>\n",
              "      <th>NEW_AGE_CAT_senior</th>\n",
              "      <th>NEW_AGE_CAT_young</th>\n",
              "      <th>NEW_SEX_CAT_maturemale</th>\n",
              "      <th>NEW_SEX_CAT_seniorfemale</th>\n",
              "      <th>NEW_SEX_CAT_seniormale</th>\n",
              "    </tr>\n",
              "  </thead>\n",
              "  <tbody>\n",
              "    <tr>\n",
              "      <th>0</th>\n",
              "      <td>1</td>\n",
              "      <td>0</td>\n",
              "      <td>1</td>\n",
              "      <td>22.000</td>\n",
              "      <td>7.250</td>\n",
              "      <td>0</td>\n",
              "      <td>23.000</td>\n",
              "      <td>0</td>\n",
              "      <td>66.000</td>\n",
              "      <td>0</td>\n",
              "      <td>False</td>\n",
              "      <td>True</td>\n",
              "      <td>True</td>\n",
              "      <td>False</td>\n",
              "      <td>False</td>\n",
              "      <td>False</td>\n",
              "      <td>False</td>\n",
              "      <td>False</td>\n",
              "      <td>False</td>\n",
              "      <td>False</td>\n",
              "      <td>False</td>\n",
              "      <td>False</td>\n",
              "      <td>False</td>\n",
              "      <td>False</td>\n",
              "      <td>False</td>\n",
              "      <td>True</td>\n",
              "      <td>True</td>\n",
              "      <td>False</td>\n",
              "      <td>False</td>\n",
              "      <td>False</td>\n",
              "      <td>False</td>\n",
              "      <td>False</td>\n",
              "      <td>False</td>\n",
              "      <td>False</td>\n",
              "      <td>True</td>\n",
              "      <td>False</td>\n",
              "      <td>False</td>\n",
              "      <td>True</td>\n",
              "      <td>False</td>\n",
              "      <td>False</td>\n",
              "      <td>False</td>\n",
              "      <td>False</td>\n",
              "      <td>False</td>\n",
              "      <td>False</td>\n",
              "      <td>False</td>\n",
              "      <td>False</td>\n",
              "      <td>False</td>\n",
              "      <td>True</td>\n",
              "      <td>False</td>\n",
              "      <td>False</td>\n",
              "    </tr>\n",
              "    <tr>\n",
              "      <th>1</th>\n",
              "      <td>2</td>\n",
              "      <td>1</td>\n",
              "      <td>0</td>\n",
              "      <td>38.000</td>\n",
              "      <td>71.283</td>\n",
              "      <td>1</td>\n",
              "      <td>51.000</td>\n",
              "      <td>0</td>\n",
              "      <td>38.000</td>\n",
              "      <td>0</td>\n",
              "      <td>False</td>\n",
              "      <td>False</td>\n",
              "      <td>True</td>\n",
              "      <td>False</td>\n",
              "      <td>False</td>\n",
              "      <td>False</td>\n",
              "      <td>False</td>\n",
              "      <td>False</td>\n",
              "      <td>False</td>\n",
              "      <td>False</td>\n",
              "      <td>False</td>\n",
              "      <td>False</td>\n",
              "      <td>False</td>\n",
              "      <td>False</td>\n",
              "      <td>False</td>\n",
              "      <td>False</td>\n",
              "      <td>False</td>\n",
              "      <td>False</td>\n",
              "      <td>False</td>\n",
              "      <td>True</td>\n",
              "      <td>False</td>\n",
              "      <td>False</td>\n",
              "      <td>False</td>\n",
              "      <td>False</td>\n",
              "      <td>False</td>\n",
              "      <td>True</td>\n",
              "      <td>False</td>\n",
              "      <td>True</td>\n",
              "      <td>False</td>\n",
              "      <td>False</td>\n",
              "      <td>False</td>\n",
              "      <td>False</td>\n",
              "      <td>False</td>\n",
              "      <td>False</td>\n",
              "      <td>False</td>\n",
              "      <td>False</td>\n",
              "      <td>False</td>\n",
              "      <td>False</td>\n",
              "      <td>False</td>\n",
              "      <td>False</td>\n",
              "    </tr>\n",
              "    <tr>\n",
              "      <th>2</th>\n",
              "      <td>3</td>\n",
              "      <td>1</td>\n",
              "      <td>0</td>\n",
              "      <td>26.000</td>\n",
              "      <td>7.925</td>\n",
              "      <td>0</td>\n",
              "      <td>22.000</td>\n",
              "      <td>0</td>\n",
              "      <td>78.000</td>\n",
              "      <td>1</td>\n",
              "      <td>False</td>\n",
              "      <td>True</td>\n",
              "      <td>False</td>\n",
              "      <td>False</td>\n",
              "      <td>False</td>\n",
              "      <td>False</td>\n",
              "      <td>False</td>\n",
              "      <td>False</td>\n",
              "      <td>False</td>\n",
              "      <td>False</td>\n",
              "      <td>False</td>\n",
              "      <td>False</td>\n",
              "      <td>False</td>\n",
              "      <td>False</td>\n",
              "      <td>False</td>\n",
              "      <td>True</td>\n",
              "      <td>False</td>\n",
              "      <td>False</td>\n",
              "      <td>False</td>\n",
              "      <td>False</td>\n",
              "      <td>False</td>\n",
              "      <td>False</td>\n",
              "      <td>False</td>\n",
              "      <td>True</td>\n",
              "      <td>False</td>\n",
              "      <td>False</td>\n",
              "      <td>False</td>\n",
              "      <td>False</td>\n",
              "      <td>False</td>\n",
              "      <td>False</td>\n",
              "      <td>False</td>\n",
              "      <td>False</td>\n",
              "      <td>False</td>\n",
              "      <td>False</td>\n",
              "      <td>False</td>\n",
              "      <td>False</td>\n",
              "      <td>False</td>\n",
              "      <td>False</td>\n",
              "      <td>False</td>\n",
              "      <td>False</td>\n",
              "    </tr>\n",
              "    <tr>\n",
              "      <th>3</th>\n",
              "      <td>4</td>\n",
              "      <td>1</td>\n",
              "      <td>0</td>\n",
              "      <td>35.000</td>\n",
              "      <td>53.100</td>\n",
              "      <td>1</td>\n",
              "      <td>44.000</td>\n",
              "      <td>0</td>\n",
              "      <td>35.000</td>\n",
              "      <td>0</td>\n",
              "      <td>False</td>\n",
              "      <td>False</td>\n",
              "      <td>True</td>\n",
              "      <td>False</td>\n",
              "      <td>False</td>\n",
              "      <td>False</td>\n",
              "      <td>False</td>\n",
              "      <td>False</td>\n",
              "      <td>False</td>\n",
              "      <td>False</td>\n",
              "      <td>False</td>\n",
              "      <td>False</td>\n",
              "      <td>False</td>\n",
              "      <td>False</td>\n",
              "      <td>False</td>\n",
              "      <td>True</td>\n",
              "      <td>False</td>\n",
              "      <td>False</td>\n",
              "      <td>False</td>\n",
              "      <td>True</td>\n",
              "      <td>False</td>\n",
              "      <td>False</td>\n",
              "      <td>False</td>\n",
              "      <td>False</td>\n",
              "      <td>False</td>\n",
              "      <td>True</td>\n",
              "      <td>False</td>\n",
              "      <td>True</td>\n",
              "      <td>False</td>\n",
              "      <td>False</td>\n",
              "      <td>False</td>\n",
              "      <td>False</td>\n",
              "      <td>False</td>\n",
              "      <td>False</td>\n",
              "      <td>False</td>\n",
              "      <td>False</td>\n",
              "      <td>False</td>\n",
              "      <td>False</td>\n",
              "      <td>False</td>\n",
              "      <td>False</td>\n",
              "    </tr>\n",
              "    <tr>\n",
              "      <th>4</th>\n",
              "      <td>5</td>\n",
              "      <td>0</td>\n",
              "      <td>1</td>\n",
              "      <td>35.000</td>\n",
              "      <td>8.050</td>\n",
              "      <td>0</td>\n",
              "      <td>24.000</td>\n",
              "      <td>0</td>\n",
              "      <td>105.000</td>\n",
              "      <td>1</td>\n",
              "      <td>False</td>\n",
              "      <td>True</td>\n",
              "      <td>False</td>\n",
              "      <td>False</td>\n",
              "      <td>False</td>\n",
              "      <td>False</td>\n",
              "      <td>False</td>\n",
              "      <td>False</td>\n",
              "      <td>False</td>\n",
              "      <td>False</td>\n",
              "      <td>False</td>\n",
              "      <td>False</td>\n",
              "      <td>False</td>\n",
              "      <td>False</td>\n",
              "      <td>False</td>\n",
              "      <td>True</td>\n",
              "      <td>True</td>\n",
              "      <td>False</td>\n",
              "      <td>False</td>\n",
              "      <td>False</td>\n",
              "      <td>False</td>\n",
              "      <td>False</td>\n",
              "      <td>False</td>\n",
              "      <td>False</td>\n",
              "      <td>True</td>\n",
              "      <td>False</td>\n",
              "      <td>False</td>\n",
              "      <td>False</td>\n",
              "      <td>False</td>\n",
              "      <td>False</td>\n",
              "      <td>False</td>\n",
              "      <td>False</td>\n",
              "      <td>False</td>\n",
              "      <td>False</td>\n",
              "      <td>False</td>\n",
              "      <td>False</td>\n",
              "      <td>False</td>\n",
              "      <td>True</td>\n",
              "      <td>False</td>\n",
              "      <td>False</td>\n",
              "    </tr>\n",
              "  </tbody>\n",
              "</table>\n",
              "</div>\n",
              "    <div class=\"colab-df-buttons\">\n",
              "\n",
              "  <div class=\"colab-df-container\">\n",
              "    <button class=\"colab-df-convert\" onclick=\"convertToInteractive('df-e7cb2216-7df6-4806-9595-4095b261497a')\"\n",
              "            title=\"Convert this dataframe to an interactive table.\"\n",
              "            style=\"display:none;\">\n",
              "\n",
              "  <svg xmlns=\"http://www.w3.org/2000/svg\" height=\"24px\" viewBox=\"0 -960 960 960\">\n",
              "    <path d=\"M120-120v-720h720v720H120Zm60-500h600v-160H180v160Zm220 220h160v-160H400v160Zm0 220h160v-160H400v160ZM180-400h160v-160H180v160Zm440 0h160v-160H620v160ZM180-180h160v-160H180v160Zm440 0h160v-160H620v160Z\"/>\n",
              "  </svg>\n",
              "    </button>\n",
              "\n",
              "  <style>\n",
              "    .colab-df-container {\n",
              "      display:flex;\n",
              "      gap: 12px;\n",
              "    }\n",
              "\n",
              "    .colab-df-convert {\n",
              "      background-color: #E8F0FE;\n",
              "      border: none;\n",
              "      border-radius: 50%;\n",
              "      cursor: pointer;\n",
              "      display: none;\n",
              "      fill: #1967D2;\n",
              "      height: 32px;\n",
              "      padding: 0 0 0 0;\n",
              "      width: 32px;\n",
              "    }\n",
              "\n",
              "    .colab-df-convert:hover {\n",
              "      background-color: #E2EBFA;\n",
              "      box-shadow: 0px 1px 2px rgba(60, 64, 67, 0.3), 0px 1px 3px 1px rgba(60, 64, 67, 0.15);\n",
              "      fill: #174EA6;\n",
              "    }\n",
              "\n",
              "    .colab-df-buttons div {\n",
              "      margin-bottom: 4px;\n",
              "    }\n",
              "\n",
              "    [theme=dark] .colab-df-convert {\n",
              "      background-color: #3B4455;\n",
              "      fill: #D2E3FC;\n",
              "    }\n",
              "\n",
              "    [theme=dark] .colab-df-convert:hover {\n",
              "      background-color: #434B5C;\n",
              "      box-shadow: 0px 1px 3px 1px rgba(0, 0, 0, 0.15);\n",
              "      filter: drop-shadow(0px 1px 2px rgba(0, 0, 0, 0.3));\n",
              "      fill: #FFFFFF;\n",
              "    }\n",
              "  </style>\n",
              "\n",
              "    <script>\n",
              "      const buttonEl =\n",
              "        document.querySelector('#df-e7cb2216-7df6-4806-9595-4095b261497a button.colab-df-convert');\n",
              "      buttonEl.style.display =\n",
              "        google.colab.kernel.accessAllowed ? 'block' : 'none';\n",
              "\n",
              "      async function convertToInteractive(key) {\n",
              "        const element = document.querySelector('#df-e7cb2216-7df6-4806-9595-4095b261497a');\n",
              "        const dataTable =\n",
              "          await google.colab.kernel.invokeFunction('convertToInteractive',\n",
              "                                                    [key], {});\n",
              "        if (!dataTable) return;\n",
              "\n",
              "        const docLinkHtml = 'Like what you see? Visit the ' +\n",
              "          '<a target=\"_blank\" href=https://colab.research.google.com/notebooks/data_table.ipynb>data table notebook</a>'\n",
              "          + ' to learn more about interactive tables.';\n",
              "        element.innerHTML = '';\n",
              "        dataTable['output_type'] = 'display_data';\n",
              "        await google.colab.output.renderOutput(dataTable, element);\n",
              "        const docLink = document.createElement('div');\n",
              "        docLink.innerHTML = docLinkHtml;\n",
              "        element.appendChild(docLink);\n",
              "      }\n",
              "    </script>\n",
              "  </div>\n",
              "\n",
              "\n",
              "<div id=\"df-5fa84784-bea8-46f9-a4d0-80e082dc4de9\">\n",
              "  <button class=\"colab-df-quickchart\" onclick=\"quickchart('df-5fa84784-bea8-46f9-a4d0-80e082dc4de9')\"\n",
              "            title=\"Suggest charts\"\n",
              "            style=\"display:none;\">\n",
              "\n",
              "<svg xmlns=\"http://www.w3.org/2000/svg\" height=\"24px\"viewBox=\"0 0 24 24\"\n",
              "     width=\"24px\">\n",
              "    <g>\n",
              "        <path d=\"M19 3H5c-1.1 0-2 .9-2 2v14c0 1.1.9 2 2 2h14c1.1 0 2-.9 2-2V5c0-1.1-.9-2-2-2zM9 17H7v-7h2v7zm4 0h-2V7h2v10zm4 0h-2v-4h2v4z\"/>\n",
              "    </g>\n",
              "</svg>\n",
              "  </button>\n",
              "\n",
              "<style>\n",
              "  .colab-df-quickchart {\n",
              "      --bg-color: #E8F0FE;\n",
              "      --fill-color: #1967D2;\n",
              "      --hover-bg-color: #E2EBFA;\n",
              "      --hover-fill-color: #174EA6;\n",
              "      --disabled-fill-color: #AAA;\n",
              "      --disabled-bg-color: #DDD;\n",
              "  }\n",
              "\n",
              "  [theme=dark] .colab-df-quickchart {\n",
              "      --bg-color: #3B4455;\n",
              "      --fill-color: #D2E3FC;\n",
              "      --hover-bg-color: #434B5C;\n",
              "      --hover-fill-color: #FFFFFF;\n",
              "      --disabled-bg-color: #3B4455;\n",
              "      --disabled-fill-color: #666;\n",
              "  }\n",
              "\n",
              "  .colab-df-quickchart {\n",
              "    background-color: var(--bg-color);\n",
              "    border: none;\n",
              "    border-radius: 50%;\n",
              "    cursor: pointer;\n",
              "    display: none;\n",
              "    fill: var(--fill-color);\n",
              "    height: 32px;\n",
              "    padding: 0;\n",
              "    width: 32px;\n",
              "  }\n",
              "\n",
              "  .colab-df-quickchart:hover {\n",
              "    background-color: var(--hover-bg-color);\n",
              "    box-shadow: 0 1px 2px rgba(60, 64, 67, 0.3), 0 1px 3px 1px rgba(60, 64, 67, 0.15);\n",
              "    fill: var(--button-hover-fill-color);\n",
              "  }\n",
              "\n",
              "  .colab-df-quickchart-complete:disabled,\n",
              "  .colab-df-quickchart-complete:disabled:hover {\n",
              "    background-color: var(--disabled-bg-color);\n",
              "    fill: var(--disabled-fill-color);\n",
              "    box-shadow: none;\n",
              "  }\n",
              "\n",
              "  .colab-df-spinner {\n",
              "    border: 2px solid var(--fill-color);\n",
              "    border-color: transparent;\n",
              "    border-bottom-color: var(--fill-color);\n",
              "    animation:\n",
              "      spin 1s steps(1) infinite;\n",
              "  }\n",
              "\n",
              "  @keyframes spin {\n",
              "    0% {\n",
              "      border-color: transparent;\n",
              "      border-bottom-color: var(--fill-color);\n",
              "      border-left-color: var(--fill-color);\n",
              "    }\n",
              "    20% {\n",
              "      border-color: transparent;\n",
              "      border-left-color: var(--fill-color);\n",
              "      border-top-color: var(--fill-color);\n",
              "    }\n",
              "    30% {\n",
              "      border-color: transparent;\n",
              "      border-left-color: var(--fill-color);\n",
              "      border-top-color: var(--fill-color);\n",
              "      border-right-color: var(--fill-color);\n",
              "    }\n",
              "    40% {\n",
              "      border-color: transparent;\n",
              "      border-right-color: var(--fill-color);\n",
              "      border-top-color: var(--fill-color);\n",
              "    }\n",
              "    60% {\n",
              "      border-color: transparent;\n",
              "      border-right-color: var(--fill-color);\n",
              "    }\n",
              "    80% {\n",
              "      border-color: transparent;\n",
              "      border-right-color: var(--fill-color);\n",
              "      border-bottom-color: var(--fill-color);\n",
              "    }\n",
              "    90% {\n",
              "      border-color: transparent;\n",
              "      border-bottom-color: var(--fill-color);\n",
              "    }\n",
              "  }\n",
              "</style>\n",
              "\n",
              "  <script>\n",
              "    async function quickchart(key) {\n",
              "      const quickchartButtonEl =\n",
              "        document.querySelector('#' + key + ' button');\n",
              "      quickchartButtonEl.disabled = true;  // To prevent multiple clicks.\n",
              "      quickchartButtonEl.classList.add('colab-df-spinner');\n",
              "      try {\n",
              "        const charts = await google.colab.kernel.invokeFunction(\n",
              "            'suggestCharts', [key], {});\n",
              "      } catch (error) {\n",
              "        console.error('Error during call to suggestCharts:', error);\n",
              "      }\n",
              "      quickchartButtonEl.classList.remove('colab-df-spinner');\n",
              "      quickchartButtonEl.classList.add('colab-df-quickchart-complete');\n",
              "    }\n",
              "    (() => {\n",
              "      let quickchartButtonEl =\n",
              "        document.querySelector('#df-5fa84784-bea8-46f9-a4d0-80e082dc4de9 button');\n",
              "      quickchartButtonEl.style.display =\n",
              "        google.colab.kernel.accessAllowed ? 'block' : 'none';\n",
              "    })();\n",
              "  </script>\n",
              "</div>\n",
              "\n",
              "    </div>\n",
              "  </div>\n"
            ],
            "application/vnd.google.colaboratory.intrinsic+json": {
              "type": "dataframe",
              "variable_name": "df"
            }
          },
          "metadata": {},
          "execution_count": 66
        }
      ]
    },
    {
      "cell_type": "code",
      "source": [
        "df.shape"
      ],
      "metadata": {
        "execution": {
          "iopub.status.busy": "2023-07-23T22:10:18.053688Z",
          "iopub.execute_input": "2023-07-23T22:10:18.054106Z",
          "iopub.status.idle": "2023-07-23T22:10:18.065244Z",
          "shell.execute_reply.started": "2023-07-23T22:10:18.054065Z",
          "shell.execute_reply": "2023-07-23T22:10:18.064143Z"
        },
        "trusted": true,
        "id": "qSWXyl4qu79I",
        "outputId": "4a5f10af-b949-4a03-ed5d-456844177911",
        "colab": {
          "base_uri": "https://localhost:8080/"
        }
      },
      "execution_count": 67,
      "outputs": [
        {
          "output_type": "execute_result",
          "data": {
            "text/plain": [
              "(891, 50)"
            ]
          },
          "metadata": {},
          "execution_count": 67
        }
      ]
    },
    {
      "cell_type": "code",
      "source": [
        "# Analysis of Variables.\n",
        "\n",
        "def grab_col_names(dataframe, cat_th=10, car_th=20):\n",
        "    \"\"\"\n",
        "    Veri setindeki kategorik, numerik ve kategorik fakat kardinal değişkenlerin isimlerini verir.\n",
        "    Not: Kategorik değişkenlerin içerisine numerik görünümlü kategorik değişkenler de dahildir.\n",
        "    Parameters\n",
        "    ------\n",
        "        dataframe: dataframe\n",
        "                Değişken isimleri alınmak istenilen dataframe\n",
        "        cat_th: int, optional\n",
        "                numerik fakat kategorik olan değişkenler için sınıf eşik değeri\n",
        "        car_th: int, optinal\n",
        "                kategorik fakat kardinal değişkenler için sınıf eşik değeri\n",
        "    Returns\n",
        "    ------\n",
        "        cat_cols: list\n",
        "                Kategorik değişken listesi\n",
        "        num_cols: list\n",
        "                Numerik değişken listesi\n",
        "        cat_but_car: list\n",
        "                Kategorik görünümlü kardinal değişken listesi\n",
        "    Examples\n",
        "    ------\n",
        "        import seaborn as sns\n",
        "        df = sns.load_dataset(\"iris\")\n",
        "        print(grab_col_names(df))\n",
        "    Notes\n",
        "    ------\n",
        "        cat_cols + num_cols + cat_but_car = toplam değişken sayısı\n",
        "        num_but_cat cat_cols'un içerisinde.\n",
        "        Return olan 3 liste toplamı toplam değişken sayısına eşittir: cat_cols + num_cols + cat_but_car = değişken sayısı\n",
        "    \"\"\"\n",
        "\n",
        "    # cat_cols, cat_but_car\n",
        "    cat_cols = [col for col in dataframe.columns if dataframe[col].dtypes == 'O']\n",
        "    num_but_cat = [col for col in dataframe.columns if dataframe[col].nunique() < cat_th and\n",
        "                   dataframe[col].dtypes != 'O']\n",
        "    cat_but_car = [col for col in dataframe.columns if dataframe[col].nunique() > car_th and\n",
        "                   dataframe[col].dtypes == 'O']\n",
        "    cat_cols = cat_cols + num_but_cat\n",
        "    cat_cols = [col for col in cat_cols if col not in cat_but_car]\n",
        "\n",
        "    # num_cols\n",
        "    num_cols = [col for col in dataframe.columns if dataframe[col].dtypes != 'O']\n",
        "    num_cols = [col for col in num_cols if col not in num_but_cat]\n",
        "\n",
        "    print(f'Observations: {dataframe.shape[0]}')\n",
        "    print(f'Variables: {dataframe.shape[1]}')\n",
        "    print(f'cat_cols: {len(cat_cols)}')\n",
        "    print(f'num_cols: {len(num_cols)}')\n",
        "    print(f'cat_but_car: {len(cat_but_car)}')\n",
        "    print(f'num_but_cat: {len(num_but_cat)}')\n",
        "    return cat_cols, num_cols, cat_but_car, num_but_cat"
      ],
      "metadata": {
        "execution": {
          "iopub.status.busy": "2023-07-23T22:10:18.066649Z",
          "iopub.execute_input": "2023-07-23T22:10:18.067023Z",
          "iopub.status.idle": "2023-07-23T22:10:18.082184Z",
          "shell.execute_reply.started": "2023-07-23T22:10:18.066994Z",
          "shell.execute_reply": "2023-07-23T22:10:18.080804Z"
        },
        "trusted": true,
        "id": "faMB_eLQu79I"
      },
      "execution_count": 68,
      "outputs": []
    },
    {
      "cell_type": "code",
      "source": [
        "cat_cols, num_cols, cat_but_car, num_but_cat = grab_col_names(df)"
      ],
      "metadata": {
        "execution": {
          "iopub.status.busy": "2023-07-23T22:10:18.083727Z",
          "iopub.execute_input": "2023-07-23T22:10:18.084144Z",
          "iopub.status.idle": "2023-07-23T22:10:18.111905Z",
          "shell.execute_reply.started": "2023-07-23T22:10:18.084089Z",
          "shell.execute_reply": "2023-07-23T22:10:18.110584Z"
        },
        "trusted": true,
        "id": "eF3x4eYeu79I",
        "outputId": "16995412-29d0-4915-a61e-b739a14347af",
        "colab": {
          "base_uri": "https://localhost:8080/"
        }
      },
      "execution_count": 69,
      "outputs": [
        {
          "output_type": "stream",
          "name": "stdout",
          "text": [
            "Observations: 891\n",
            "Variables: 50\n",
            "cat_cols: 45\n",
            "num_cols: 5\n",
            "cat_but_car: 0\n",
            "num_but_cat: 45\n"
          ]
        }
      ]
    },
    {
      "cell_type": "code",
      "source": [
        "num_cols = [col for col in num_cols if \"PASSENGERID\" not in col]"
      ],
      "metadata": {
        "execution": {
          "iopub.status.busy": "2023-07-23T22:10:18.113705Z",
          "iopub.execute_input": "2023-07-23T22:10:18.114235Z",
          "iopub.status.idle": "2023-07-23T22:10:18.11998Z",
          "shell.execute_reply.started": "2023-07-23T22:10:18.114191Z",
          "shell.execute_reply": "2023-07-23T22:10:18.118827Z"
        },
        "trusted": true,
        "id": "R-qJ5hjBu79I"
      },
      "execution_count": 70,
      "outputs": []
    },
    {
      "cell_type": "code",
      "source": [
        "num_cols"
      ],
      "metadata": {
        "execution": {
          "iopub.status.busy": "2023-07-23T22:10:18.121246Z",
          "iopub.execute_input": "2023-07-23T22:10:18.121676Z",
          "iopub.status.idle": "2023-07-23T22:10:18.136324Z",
          "shell.execute_reply.started": "2023-07-23T22:10:18.121635Z",
          "shell.execute_reply": "2023-07-23T22:10:18.135288Z"
        },
        "trusted": true,
        "id": "ewKBn9slu79I",
        "outputId": "4f580661-1ae1-44ae-c02e-32e3dbd8ac38",
        "colab": {
          "base_uri": "https://localhost:8080/"
        }
      },
      "execution_count": 71,
      "outputs": [
        {
          "output_type": "execute_result",
          "data": {
            "text/plain": [
              "['AGE', 'FARE', 'NEW_NAME_COUNT', 'NEW_AGE_PCLASS']"
            ]
          },
          "metadata": {},
          "execution_count": 71
        }
      ]
    },
    {
      "cell_type": "code",
      "source": [
        "rare_analyser(df, \"SURVIVED\", cat_cols)"
      ],
      "metadata": {
        "execution": {
          "iopub.status.busy": "2023-07-23T22:10:18.137687Z",
          "iopub.execute_input": "2023-07-23T22:10:18.138052Z",
          "iopub.status.idle": "2023-07-23T22:10:18.335643Z",
          "shell.execute_reply.started": "2023-07-23T22:10:18.138003Z",
          "shell.execute_reply": "2023-07-23T22:10:18.334377Z"
        },
        "trusted": true,
        "id": "XgtZwcMhu79I",
        "outputId": "066acbe4-9bd4-4841-fe30-5437b2aec75f",
        "colab": {
          "base_uri": "https://localhost:8080/"
        }
      },
      "execution_count": 72,
      "outputs": [
        {
          "output_type": "stream",
          "name": "stdout",
          "text": [
            "SURVIVED : 2\n",
            "          COUNT  RATIO  TARGET_MEAN\n",
            "SURVIVED                           \n",
            "0           549  0.616        0.000\n",
            "1           342  0.384        1.000\n",
            "\n",
            "\n",
            "SEX : 2\n",
            "     COUNT  RATIO  TARGET_MEAN\n",
            "SEX                           \n",
            "0      314  0.352        0.742\n",
            "1      577  0.648        0.189\n",
            "\n",
            "\n",
            "New_CABIN_BOOL : 2\n",
            "                COUNT  RATIO  TARGET_MEAN\n",
            "New_CABIN_BOOL                           \n",
            "0                 687  0.771        0.300\n",
            "1                 204  0.229        0.667\n",
            "\n",
            "\n",
            "NEW_NAME_DR : 2\n",
            "             COUNT  RATIO  TARGET_MEAN\n",
            "NEW_NAME_DR                           \n",
            "0              881  0.989        0.383\n",
            "1               10  0.011        0.500\n",
            "\n",
            "\n",
            "NEW_IS_ALONE : 2\n",
            "              COUNT  RATIO  TARGET_MEAN\n",
            "NEW_IS_ALONE                           \n",
            "0               354  0.397        0.506\n",
            "1               537  0.603        0.304\n",
            "\n",
            "\n",
            "PCLASS_2 : 2\n",
            "          COUNT  RATIO  TARGET_MEAN\n",
            "PCLASS_2                           \n",
            "False       707  0.793        0.361\n",
            "True        184  0.207        0.473\n",
            "\n",
            "\n",
            "PCLASS_3 : 2\n",
            "          COUNT  RATIO  TARGET_MEAN\n",
            "PCLASS_3                           \n",
            "False       400  0.449        0.557\n",
            "True        491  0.551        0.242\n",
            "\n",
            "\n",
            "SIBSP_1 : 2\n",
            "         COUNT  RATIO  TARGET_MEAN\n",
            "SIBSP_1                           \n",
            "False      682  0.765        0.337\n",
            "True       209  0.235        0.536\n",
            "\n",
            "\n",
            "SIBSP_2 : 2\n",
            "         COUNT  RATIO  TARGET_MEAN\n",
            "SIBSP_2                           \n",
            "False      863  0.969        0.381\n",
            "True        28  0.031        0.464\n",
            "\n",
            "\n",
            "SIBSP_3 : 2\n",
            "         COUNT  RATIO  TARGET_MEAN\n",
            "SIBSP_3                           \n",
            "False      875  0.982        0.386\n",
            "True        16  0.018        0.250\n",
            "\n",
            "\n",
            "SIBSP_4 : 2\n",
            "         COUNT  RATIO  TARGET_MEAN\n",
            "SIBSP_4                           \n",
            "False      873  0.980        0.388\n",
            "True        18  0.020        0.167\n",
            "\n",
            "\n",
            "SIBSP_5 : 2\n",
            "         COUNT  RATIO  TARGET_MEAN\n",
            "SIBSP_5                           \n",
            "False      886  0.994        0.386\n",
            "True         5  0.006        0.000\n",
            "\n",
            "\n",
            "SIBSP_8 : 2\n",
            "         COUNT  RATIO  TARGET_MEAN\n",
            "SIBSP_8                           \n",
            "False      884  0.992        0.387\n",
            "True         7  0.008        0.000\n",
            "\n",
            "\n",
            "PARCH_1 : 2\n",
            "         COUNT  RATIO  TARGET_MEAN\n",
            "PARCH_1                           \n",
            "False      773  0.868        0.358\n",
            "True       118  0.132        0.551\n",
            "\n",
            "\n",
            "PARCH_2 : 2\n",
            "         COUNT  RATIO  TARGET_MEAN\n",
            "PARCH_2                           \n",
            "False      811  0.910        0.372\n",
            "True        80  0.090        0.500\n",
            "\n",
            "\n",
            "PARCH_3 : 2\n",
            "         COUNT  RATIO  TARGET_MEAN\n",
            "PARCH_3                           \n",
            "False      886  0.994        0.383\n",
            "True         5  0.006        0.600\n",
            "\n",
            "\n",
            "PARCH_4 : 2\n",
            "         COUNT  RATIO  TARGET_MEAN\n",
            "PARCH_4                           \n",
            "False      887  0.996        0.386\n",
            "True         4  0.004        0.000\n",
            "\n",
            "\n",
            "PARCH_5 : 2\n",
            "         COUNT  RATIO  TARGET_MEAN\n",
            "PARCH_5                           \n",
            "False      886  0.994        0.385\n",
            "True         5  0.006        0.200\n",
            "\n",
            "\n",
            "PARCH_6 : 2\n",
            "         COUNT  RATIO  TARGET_MEAN\n",
            "PARCH_6                           \n",
            "False      890  0.999        0.384\n",
            "True         1  0.001        0.000\n",
            "\n",
            "\n",
            "EMBARKED_Q : 2\n",
            "            COUNT  RATIO  TARGET_MEAN\n",
            "EMBARKED_Q                           \n",
            "False         814  0.914        0.383\n",
            "True           77  0.086        0.390\n",
            "\n",
            "\n",
            "EMBARKED_S : 2\n",
            "            COUNT  RATIO  TARGET_MEAN\n",
            "EMBARKED_S                           \n",
            "False         245  0.275        0.502\n",
            "True          646  0.725        0.339\n",
            "\n",
            "\n",
            "NEW_NAME_WORD_COUNT_4 : 2\n",
            "                       COUNT  RATIO  TARGET_MEAN\n",
            "NEW_NAME_WORD_COUNT_4                           \n",
            "False                    503  0.565        0.417\n",
            "True                     388  0.435        0.340\n",
            "\n",
            "\n",
            "NEW_NAME_WORD_COUNT_5 : 2\n",
            "                       COUNT  RATIO  TARGET_MEAN\n",
            "NEW_NAME_WORD_COUNT_5                           \n",
            "False                    795  0.892        0.379\n",
            "True                      96  0.108        0.427\n",
            "\n",
            "\n",
            "NEW_NAME_WORD_COUNT_6 : 2\n",
            "                       COUNT  RATIO  TARGET_MEAN\n",
            "NEW_NAME_WORD_COUNT_6                           \n",
            "False                    838  0.941        0.359\n",
            "True                      53  0.059        0.774\n",
            "\n",
            "\n",
            "NEW_NAME_WORD_COUNT_7 : 2\n",
            "                       COUNT  RATIO  TARGET_MEAN\n",
            "NEW_NAME_WORD_COUNT_7                           \n",
            "False                    853  0.957        0.363\n",
            "True                      38  0.043        0.842\n",
            "\n",
            "\n",
            "NEW_NAME_WORD_COUNT_8 : 2\n",
            "                       COUNT  RATIO  TARGET_MEAN\n",
            "NEW_NAME_WORD_COUNT_8                           \n",
            "False                    882  0.990        0.382\n",
            "True                       9  0.010        0.556\n",
            "\n",
            "\n",
            "NEW_NAME_WORD_COUNT_9 : 2\n",
            "                       COUNT  RATIO  TARGET_MEAN\n",
            "NEW_NAME_WORD_COUNT_9                           \n",
            "False                    890  0.999        0.383\n",
            "True                       1  0.001        1.000\n",
            "\n",
            "\n",
            "NEW_NAME_WORD_COUNT_14 : 2\n",
            "                        COUNT  RATIO  TARGET_MEAN\n",
            "NEW_NAME_WORD_COUNT_14                           \n",
            "False                     890  0.999        0.383\n",
            "True                        1  0.001        1.000\n",
            "\n",
            "\n",
            "NEW_TITLE_Miss : 2\n",
            "                COUNT  RATIO  TARGET_MEAN\n",
            "NEW_TITLE_Miss                           \n",
            "False             709  0.796        0.303\n",
            "True              182  0.204        0.698\n",
            "\n",
            "\n",
            "NEW_TITLE_Mr : 2\n",
            "              COUNT  RATIO  TARGET_MEAN\n",
            "NEW_TITLE_Mr                           \n",
            "False           374  0.420        0.698\n",
            "True            517  0.580        0.157\n",
            "\n",
            "\n",
            "NEW_TITLE_Mrs : 2\n",
            "               COUNT  RATIO  TARGET_MEAN\n",
            "NEW_TITLE_Mrs                           \n",
            "False            766  0.860        0.317\n",
            "True             125  0.140        0.792\n",
            "\n",
            "\n",
            "NEW_TITLE_Rare : 2\n",
            "                COUNT  RATIO  TARGET_MEAN\n",
            "NEW_TITLE_Rare                           \n",
            "False             864  0.970        0.382\n",
            "True               27  0.030        0.444\n",
            "\n",
            "\n",
            "NEW_FAMILY_SIZE_2 : 2\n",
            "                   COUNT  RATIO  TARGET_MEAN\n",
            "NEW_FAMILY_SIZE_2                           \n",
            "False                730  0.819        0.347\n",
            "True                 161  0.181        0.553\n",
            "\n",
            "\n",
            "NEW_FAMILY_SIZE_3 : 2\n",
            "                   COUNT  RATIO  TARGET_MEAN\n",
            "NEW_FAMILY_SIZE_3                           \n",
            "False                789  0.886        0.359\n",
            "True                 102  0.114        0.578\n",
            "\n",
            "\n",
            "NEW_FAMILY_SIZE_4 : 2\n",
            "                   COUNT  RATIO  TARGET_MEAN\n",
            "NEW_FAMILY_SIZE_4                           \n",
            "False                862  0.967        0.372\n",
            "True                  29  0.033        0.724\n",
            "\n",
            "\n",
            "NEW_FAMILY_SIZE_5 : 2\n",
            "                   COUNT  RATIO  TARGET_MEAN\n",
            "NEW_FAMILY_SIZE_5                           \n",
            "False                876  0.983        0.387\n",
            "True                  15  0.017        0.200\n",
            "\n",
            "\n",
            "NEW_FAMILY_SIZE_6 : 2\n",
            "                   COUNT  RATIO  TARGET_MEAN\n",
            "NEW_FAMILY_SIZE_6                           \n",
            "False                869  0.975        0.390\n",
            "True                  22  0.025        0.136\n",
            "\n",
            "\n",
            "NEW_FAMILY_SIZE_7 : 2\n",
            "                   COUNT  RATIO  TARGET_MEAN\n",
            "NEW_FAMILY_SIZE_7                           \n",
            "False                879  0.987        0.385\n",
            "True                  12  0.013        0.333\n",
            "\n",
            "\n",
            "NEW_FAMILY_SIZE_8 : 2\n",
            "                   COUNT  RATIO  TARGET_MEAN\n",
            "NEW_FAMILY_SIZE_8                           \n",
            "False                885  0.993        0.386\n",
            "True                   6  0.007        0.000\n",
            "\n",
            "\n",
            "NEW_FAMILY_SIZE_11 : 2\n",
            "                    COUNT  RATIO  TARGET_MEAN\n",
            "NEW_FAMILY_SIZE_11                           \n",
            "False                 884  0.992        0.387\n",
            "True                    7  0.008        0.000\n",
            "\n",
            "\n",
            "NEW_AGE_CAT_senior : 2\n",
            "                    COUNT  RATIO  TARGET_MEAN\n",
            "NEW_AGE_CAT_senior                           \n",
            "False                 852  0.956        0.387\n",
            "True                   39  0.044        0.308\n",
            "\n",
            "\n",
            "NEW_AGE_CAT_young : 2\n",
            "                   COUNT  RATIO  TARGET_MEAN\n",
            "NEW_AGE_CAT_young                           \n",
            "False                774  0.869        0.360\n",
            "True                 117  0.131        0.538\n",
            "\n",
            "\n",
            "NEW_SEX_CAT_maturemale : 2\n",
            "                        COUNT  RATIO  TARGET_MEAN\n",
            "NEW_SEX_CAT_maturemale                           \n",
            "False                     361  0.405        0.662\n",
            "True                      530  0.595        0.194\n",
            "\n",
            "\n",
            "NEW_SEX_CAT_seniorfemale : 2\n",
            "                          COUNT  RATIO  TARGET_MEAN\n",
            "NEW_SEX_CAT_seniorfemale                           \n",
            "False                       874  0.981        0.373\n",
            "True                         17  0.019        0.941\n",
            "\n",
            "\n",
            "NEW_SEX_CAT_seniormale : 2\n",
            "                        COUNT  RATIO  TARGET_MEAN\n",
            "NEW_SEX_CAT_seniormale                           \n",
            "False                     844  0.947        0.398\n",
            "True                       47  0.053        0.128\n",
            "\n",
            "\n"
          ]
        }
      ]
    },
    {
      "cell_type": "code",
      "source": [
        "uselses_cols = [col for col in df.columns if df[col].nunique() == 2 and\n",
        "                (df[col].value_counts() / len(df) < 0.01).any(axis=None)]"
      ],
      "metadata": {
        "execution": {
          "iopub.status.busy": "2023-07-23T22:10:18.337511Z",
          "iopub.execute_input": "2023-07-23T22:10:18.338004Z",
          "iopub.status.idle": "2023-07-23T22:10:18.384474Z",
          "shell.execute_reply.started": "2023-07-23T22:10:18.337962Z",
          "shell.execute_reply": "2023-07-23T22:10:18.383126Z"
        },
        "trusted": true,
        "id": "LfOWujrZu79J"
      },
      "execution_count": 73,
      "outputs": []
    },
    {
      "cell_type": "code",
      "source": [
        "# if we want to drop this list \"uselses_cols\" we use this cod \"df.drop(useless_cols,axis=1, inplace=True)\""
      ],
      "metadata": {
        "execution": {
          "iopub.status.busy": "2023-07-23T22:10:18.38593Z",
          "iopub.execute_input": "2023-07-23T22:10:18.386305Z",
          "iopub.status.idle": "2023-07-23T22:10:18.39161Z",
          "shell.execute_reply.started": "2023-07-23T22:10:18.386267Z",
          "shell.execute_reply": "2023-07-23T22:10:18.390305Z"
        },
        "trusted": true,
        "id": "hRa5AoNAu79J"
      },
      "execution_count": 74,
      "outputs": []
    },
    {
      "cell_type": "markdown",
      "source": [
        "# 11. Standardization"
      ],
      "metadata": {
        "id": "dhOFdOpXu79J"
      }
    },
    {
      "cell_type": "code",
      "source": [
        "scaler = StandardScaler()"
      ],
      "metadata": {
        "execution": {
          "iopub.status.busy": "2023-07-23T22:10:18.393094Z",
          "iopub.execute_input": "2023-07-23T22:10:18.393424Z",
          "iopub.status.idle": "2023-07-23T22:10:18.403017Z",
          "shell.execute_reply.started": "2023-07-23T22:10:18.393395Z",
          "shell.execute_reply": "2023-07-23T22:10:18.401662Z"
        },
        "trusted": true,
        "id": "IEt6Sr_Cu79J"
      },
      "execution_count": 75,
      "outputs": []
    },
    {
      "cell_type": "code",
      "source": [
        "df[num_cols] = scaler.fit_transform(df[num_cols])"
      ],
      "metadata": {
        "execution": {
          "iopub.status.busy": "2023-07-23T22:10:18.405392Z",
          "iopub.execute_input": "2023-07-23T22:10:18.405924Z",
          "iopub.status.idle": "2023-07-23T22:10:18.423021Z",
          "shell.execute_reply.started": "2023-07-23T22:10:18.405879Z",
          "shell.execute_reply": "2023-07-23T22:10:18.421783Z"
        },
        "trusted": true,
        "id": "F8RGaxR8u79J"
      },
      "execution_count": 76,
      "outputs": []
    },
    {
      "cell_type": "code",
      "source": [
        "df[num_cols].head()"
      ],
      "metadata": {
        "execution": {
          "iopub.status.busy": "2023-07-23T22:10:18.424219Z",
          "iopub.execute_input": "2023-07-23T22:10:18.424623Z",
          "iopub.status.idle": "2023-07-23T22:10:18.438506Z",
          "shell.execute_reply.started": "2023-07-23T22:10:18.424586Z",
          "shell.execute_reply": "2023-07-23T22:10:18.437332Z"
        },
        "trusted": true,
        "id": "08HBGYLsu79J",
        "outputId": "d5381262-704b-49d8-f3ed-185f91daedf9",
        "colab": {
          "base_uri": "https://localhost:8080/",
          "height": 206
        }
      },
      "execution_count": 77,
      "outputs": [
        {
          "output_type": "execute_result",
          "data": {
            "text/plain": [
              "     AGE   FARE  NEW_NAME_COUNT  NEW_AGE_PCLASS\n",
              "0 -0.557 -0.557          -0.427           0.063\n",
              "1  0.649  0.920           2.591          -0.787\n",
              "2 -0.256 -0.541          -0.535           0.427\n",
              "3  0.423  0.501           1.836          -0.878\n",
              "4  0.423 -0.538          -0.320           1.247"
            ],
            "text/html": [
              "\n",
              "  <div id=\"df-f058508d-5cbd-4bb4-bf4f-6da119187137\" class=\"colab-df-container\">\n",
              "    <div>\n",
              "<style scoped>\n",
              "    .dataframe tbody tr th:only-of-type {\n",
              "        vertical-align: middle;\n",
              "    }\n",
              "\n",
              "    .dataframe tbody tr th {\n",
              "        vertical-align: top;\n",
              "    }\n",
              "\n",
              "    .dataframe thead th {\n",
              "        text-align: right;\n",
              "    }\n",
              "</style>\n",
              "<table border=\"1\" class=\"dataframe\">\n",
              "  <thead>\n",
              "    <tr style=\"text-align: right;\">\n",
              "      <th></th>\n",
              "      <th>AGE</th>\n",
              "      <th>FARE</th>\n",
              "      <th>NEW_NAME_COUNT</th>\n",
              "      <th>NEW_AGE_PCLASS</th>\n",
              "    </tr>\n",
              "  </thead>\n",
              "  <tbody>\n",
              "    <tr>\n",
              "      <th>0</th>\n",
              "      <td>-0.557</td>\n",
              "      <td>-0.557</td>\n",
              "      <td>-0.427</td>\n",
              "      <td>0.063</td>\n",
              "    </tr>\n",
              "    <tr>\n",
              "      <th>1</th>\n",
              "      <td>0.649</td>\n",
              "      <td>0.920</td>\n",
              "      <td>2.591</td>\n",
              "      <td>-0.787</td>\n",
              "    </tr>\n",
              "    <tr>\n",
              "      <th>2</th>\n",
              "      <td>-0.256</td>\n",
              "      <td>-0.541</td>\n",
              "      <td>-0.535</td>\n",
              "      <td>0.427</td>\n",
              "    </tr>\n",
              "    <tr>\n",
              "      <th>3</th>\n",
              "      <td>0.423</td>\n",
              "      <td>0.501</td>\n",
              "      <td>1.836</td>\n",
              "      <td>-0.878</td>\n",
              "    </tr>\n",
              "    <tr>\n",
              "      <th>4</th>\n",
              "      <td>0.423</td>\n",
              "      <td>-0.538</td>\n",
              "      <td>-0.320</td>\n",
              "      <td>1.247</td>\n",
              "    </tr>\n",
              "  </tbody>\n",
              "</table>\n",
              "</div>\n",
              "    <div class=\"colab-df-buttons\">\n",
              "\n",
              "  <div class=\"colab-df-container\">\n",
              "    <button class=\"colab-df-convert\" onclick=\"convertToInteractive('df-f058508d-5cbd-4bb4-bf4f-6da119187137')\"\n",
              "            title=\"Convert this dataframe to an interactive table.\"\n",
              "            style=\"display:none;\">\n",
              "\n",
              "  <svg xmlns=\"http://www.w3.org/2000/svg\" height=\"24px\" viewBox=\"0 -960 960 960\">\n",
              "    <path d=\"M120-120v-720h720v720H120Zm60-500h600v-160H180v160Zm220 220h160v-160H400v160Zm0 220h160v-160H400v160ZM180-400h160v-160H180v160Zm440 0h160v-160H620v160ZM180-180h160v-160H180v160Zm440 0h160v-160H620v160Z\"/>\n",
              "  </svg>\n",
              "    </button>\n",
              "\n",
              "  <style>\n",
              "    .colab-df-container {\n",
              "      display:flex;\n",
              "      gap: 12px;\n",
              "    }\n",
              "\n",
              "    .colab-df-convert {\n",
              "      background-color: #E8F0FE;\n",
              "      border: none;\n",
              "      border-radius: 50%;\n",
              "      cursor: pointer;\n",
              "      display: none;\n",
              "      fill: #1967D2;\n",
              "      height: 32px;\n",
              "      padding: 0 0 0 0;\n",
              "      width: 32px;\n",
              "    }\n",
              "\n",
              "    .colab-df-convert:hover {\n",
              "      background-color: #E2EBFA;\n",
              "      box-shadow: 0px 1px 2px rgba(60, 64, 67, 0.3), 0px 1px 3px 1px rgba(60, 64, 67, 0.15);\n",
              "      fill: #174EA6;\n",
              "    }\n",
              "\n",
              "    .colab-df-buttons div {\n",
              "      margin-bottom: 4px;\n",
              "    }\n",
              "\n",
              "    [theme=dark] .colab-df-convert {\n",
              "      background-color: #3B4455;\n",
              "      fill: #D2E3FC;\n",
              "    }\n",
              "\n",
              "    [theme=dark] .colab-df-convert:hover {\n",
              "      background-color: #434B5C;\n",
              "      box-shadow: 0px 1px 3px 1px rgba(0, 0, 0, 0.15);\n",
              "      filter: drop-shadow(0px 1px 2px rgba(0, 0, 0, 0.3));\n",
              "      fill: #FFFFFF;\n",
              "    }\n",
              "  </style>\n",
              "\n",
              "    <script>\n",
              "      const buttonEl =\n",
              "        document.querySelector('#df-f058508d-5cbd-4bb4-bf4f-6da119187137 button.colab-df-convert');\n",
              "      buttonEl.style.display =\n",
              "        google.colab.kernel.accessAllowed ? 'block' : 'none';\n",
              "\n",
              "      async function convertToInteractive(key) {\n",
              "        const element = document.querySelector('#df-f058508d-5cbd-4bb4-bf4f-6da119187137');\n",
              "        const dataTable =\n",
              "          await google.colab.kernel.invokeFunction('convertToInteractive',\n",
              "                                                    [key], {});\n",
              "        if (!dataTable) return;\n",
              "\n",
              "        const docLinkHtml = 'Like what you see? Visit the ' +\n",
              "          '<a target=\"_blank\" href=https://colab.research.google.com/notebooks/data_table.ipynb>data table notebook</a>'\n",
              "          + ' to learn more about interactive tables.';\n",
              "        element.innerHTML = '';\n",
              "        dataTable['output_type'] = 'display_data';\n",
              "        await google.colab.output.renderOutput(dataTable, element);\n",
              "        const docLink = document.createElement('div');\n",
              "        docLink.innerHTML = docLinkHtml;\n",
              "        element.appendChild(docLink);\n",
              "      }\n",
              "    </script>\n",
              "  </div>\n",
              "\n",
              "\n",
              "<div id=\"df-97a07687-3846-47a9-9e45-b1e3e9ca3435\">\n",
              "  <button class=\"colab-df-quickchart\" onclick=\"quickchart('df-97a07687-3846-47a9-9e45-b1e3e9ca3435')\"\n",
              "            title=\"Suggest charts\"\n",
              "            style=\"display:none;\">\n",
              "\n",
              "<svg xmlns=\"http://www.w3.org/2000/svg\" height=\"24px\"viewBox=\"0 0 24 24\"\n",
              "     width=\"24px\">\n",
              "    <g>\n",
              "        <path d=\"M19 3H5c-1.1 0-2 .9-2 2v14c0 1.1.9 2 2 2h14c1.1 0 2-.9 2-2V5c0-1.1-.9-2-2-2zM9 17H7v-7h2v7zm4 0h-2V7h2v10zm4 0h-2v-4h2v4z\"/>\n",
              "    </g>\n",
              "</svg>\n",
              "  </button>\n",
              "\n",
              "<style>\n",
              "  .colab-df-quickchart {\n",
              "      --bg-color: #E8F0FE;\n",
              "      --fill-color: #1967D2;\n",
              "      --hover-bg-color: #E2EBFA;\n",
              "      --hover-fill-color: #174EA6;\n",
              "      --disabled-fill-color: #AAA;\n",
              "      --disabled-bg-color: #DDD;\n",
              "  }\n",
              "\n",
              "  [theme=dark] .colab-df-quickchart {\n",
              "      --bg-color: #3B4455;\n",
              "      --fill-color: #D2E3FC;\n",
              "      --hover-bg-color: #434B5C;\n",
              "      --hover-fill-color: #FFFFFF;\n",
              "      --disabled-bg-color: #3B4455;\n",
              "      --disabled-fill-color: #666;\n",
              "  }\n",
              "\n",
              "  .colab-df-quickchart {\n",
              "    background-color: var(--bg-color);\n",
              "    border: none;\n",
              "    border-radius: 50%;\n",
              "    cursor: pointer;\n",
              "    display: none;\n",
              "    fill: var(--fill-color);\n",
              "    height: 32px;\n",
              "    padding: 0;\n",
              "    width: 32px;\n",
              "  }\n",
              "\n",
              "  .colab-df-quickchart:hover {\n",
              "    background-color: var(--hover-bg-color);\n",
              "    box-shadow: 0 1px 2px rgba(60, 64, 67, 0.3), 0 1px 3px 1px rgba(60, 64, 67, 0.15);\n",
              "    fill: var(--button-hover-fill-color);\n",
              "  }\n",
              "\n",
              "  .colab-df-quickchart-complete:disabled,\n",
              "  .colab-df-quickchart-complete:disabled:hover {\n",
              "    background-color: var(--disabled-bg-color);\n",
              "    fill: var(--disabled-fill-color);\n",
              "    box-shadow: none;\n",
              "  }\n",
              "\n",
              "  .colab-df-spinner {\n",
              "    border: 2px solid var(--fill-color);\n",
              "    border-color: transparent;\n",
              "    border-bottom-color: var(--fill-color);\n",
              "    animation:\n",
              "      spin 1s steps(1) infinite;\n",
              "  }\n",
              "\n",
              "  @keyframes spin {\n",
              "    0% {\n",
              "      border-color: transparent;\n",
              "      border-bottom-color: var(--fill-color);\n",
              "      border-left-color: var(--fill-color);\n",
              "    }\n",
              "    20% {\n",
              "      border-color: transparent;\n",
              "      border-left-color: var(--fill-color);\n",
              "      border-top-color: var(--fill-color);\n",
              "    }\n",
              "    30% {\n",
              "      border-color: transparent;\n",
              "      border-left-color: var(--fill-color);\n",
              "      border-top-color: var(--fill-color);\n",
              "      border-right-color: var(--fill-color);\n",
              "    }\n",
              "    40% {\n",
              "      border-color: transparent;\n",
              "      border-right-color: var(--fill-color);\n",
              "      border-top-color: var(--fill-color);\n",
              "    }\n",
              "    60% {\n",
              "      border-color: transparent;\n",
              "      border-right-color: var(--fill-color);\n",
              "    }\n",
              "    80% {\n",
              "      border-color: transparent;\n",
              "      border-right-color: var(--fill-color);\n",
              "      border-bottom-color: var(--fill-color);\n",
              "    }\n",
              "    90% {\n",
              "      border-color: transparent;\n",
              "      border-bottom-color: var(--fill-color);\n",
              "    }\n",
              "  }\n",
              "</style>\n",
              "\n",
              "  <script>\n",
              "    async function quickchart(key) {\n",
              "      const quickchartButtonEl =\n",
              "        document.querySelector('#' + key + ' button');\n",
              "      quickchartButtonEl.disabled = true;  // To prevent multiple clicks.\n",
              "      quickchartButtonEl.classList.add('colab-df-spinner');\n",
              "      try {\n",
              "        const charts = await google.colab.kernel.invokeFunction(\n",
              "            'suggestCharts', [key], {});\n",
              "      } catch (error) {\n",
              "        console.error('Error during call to suggestCharts:', error);\n",
              "      }\n",
              "      quickchartButtonEl.classList.remove('colab-df-spinner');\n",
              "      quickchartButtonEl.classList.add('colab-df-quickchart-complete');\n",
              "    }\n",
              "    (() => {\n",
              "      let quickchartButtonEl =\n",
              "        document.querySelector('#df-97a07687-3846-47a9-9e45-b1e3e9ca3435 button');\n",
              "      quickchartButtonEl.style.display =\n",
              "        google.colab.kernel.accessAllowed ? 'block' : 'none';\n",
              "    })();\n",
              "  </script>\n",
              "</div>\n",
              "\n",
              "    </div>\n",
              "  </div>\n"
            ],
            "application/vnd.google.colaboratory.intrinsic+json": {
              "type": "dataframe",
              "summary": "{\n  \"name\": \"df[num_cols]\",\n  \"rows\": 5,\n  \"fields\": [\n    {\n      \"column\": \"AGE\",\n      \"properties\": {\n        \"dtype\": \"number\",\n        \"std\": 0.5154475658203584,\n        \"min\": -0.5574197642302201,\n        \"max\": 0.6494100630604444,\n        \"num_unique_values\": 4,\n        \"samples\": [\n          0.6494100630604444,\n          0.4231294704434448,\n          -0.5574197642302201\n        ],\n        \"semantic_type\": \"\",\n        \"description\": \"\"\n      }\n    },\n    {\n      \"column\": \"FARE\",\n      \"properties\": {\n        \"dtype\": \"number\",\n        \"std\": 0.7038101800879263,\n        \"min\": -0.5567760974469534,\n        \"max\": 0.9203542142933684,\n        \"num_unique_values\": 5,\n        \"samples\": [\n          0.9203542142933684,\n          -0.5383215706711625,\n          -0.5412050904798797\n        ],\n        \"semantic_type\": \"\",\n        \"description\": \"\"\n      }\n    },\n    {\n      \"column\": \"NEW_NAME_COUNT\",\n      \"properties\": {\n        \"dtype\": \"number\",\n        \"std\": 1.4729663907154698,\n        \"min\": -0.5352517461469307,\n        \"max\": 2.590962057806627,\n        \"num_unique_values\": 5,\n        \"samples\": [\n          2.590962057806627,\n          -0.31965079415013364,\n          -0.5352517461469307\n        ],\n        \"semantic_type\": \"\",\n        \"description\": \"\"\n      }\n    },\n    {\n      \"column\": \"NEW_AGE_PCLASS\",\n      \"properties\": {\n        \"dtype\": \"number\",\n        \"std\": 0.8849240989416106,\n        \"min\": -0.878453965896203,\n        \"max\": 1.2471066782040134,\n        \"num_unique_values\": 5,\n        \"samples\": [\n          -0.7873585097204795,\n          1.2471066782040134,\n          0.42724757262250135\n        ],\n        \"semantic_type\": \"\",\n        \"description\": \"\"\n      }\n    }\n  ]\n}"
            }
          },
          "metadata": {},
          "execution_count": 77
        }
      ]
    },
    {
      "cell_type": "code",
      "source": [
        "df.head()"
      ],
      "metadata": {
        "execution": {
          "iopub.status.busy": "2023-07-23T22:10:18.440078Z",
          "iopub.execute_input": "2023-07-23T22:10:18.441149Z",
          "iopub.status.idle": "2023-07-23T22:10:18.478122Z",
          "shell.execute_reply.started": "2023-07-23T22:10:18.441104Z",
          "shell.execute_reply": "2023-07-23T22:10:18.47727Z"
        },
        "trusted": true,
        "id": "7HR2vj9Ru79J",
        "outputId": "29255e88-e7f7-4efd-b249-8df8b17720e7",
        "colab": {
          "base_uri": "https://localhost:8080/",
          "height": 226
        }
      },
      "execution_count": 78,
      "outputs": [
        {
          "output_type": "execute_result",
          "data": {
            "text/plain": [
              "   PASSENGERID  SURVIVED  SEX    AGE   FARE  New_CABIN_BOOL  NEW_NAME_COUNT  NEW_NAME_DR  NEW_AGE_PCLASS  NEW_IS_ALONE  PCLASS_2  PCLASS_3  SIBSP_1  SIBSP_2  SIBSP_3  SIBSP_4  SIBSP_5  SIBSP_8  PARCH_1  PARCH_2  PARCH_3  PARCH_4  PARCH_5  PARCH_6  EMBARKED_Q  EMBARKED_S  NEW_NAME_WORD_COUNT_4  NEW_NAME_WORD_COUNT_5  NEW_NAME_WORD_COUNT_6  NEW_NAME_WORD_COUNT_7  NEW_NAME_WORD_COUNT_8  NEW_NAME_WORD_COUNT_9  NEW_NAME_WORD_COUNT_14  NEW_TITLE_Miss  NEW_TITLE_Mr  NEW_TITLE_Mrs  NEW_TITLE_Rare  \\\n",
              "0            1         0    1 -0.557 -0.557               0          -0.427            0           0.063             0     False      True     True    False    False    False    False    False    False    False    False    False    False    False       False        True                   True                  False                  False                  False                  False                  False                   False           False          True          False           False   \n",
              "1            2         1    0  0.649  0.920               1           2.591            0          -0.787             0     False     False     True    False    False    False    False    False    False    False    False    False    False    False       False       False                  False                  False                  False                   True                  False                  False                   False           False         False           True           False   \n",
              "2            3         1    0 -0.256 -0.541               0          -0.535            0           0.427             1     False      True    False    False    False    False    False    False    False    False    False    False    False    False       False        True                  False                  False                  False                  False                  False                  False                   False            True         False          False           False   \n",
              "3            4         1    0  0.423  0.501               1           1.836            0          -0.878             0     False     False     True    False    False    False    False    False    False    False    False    False    False    False       False        True                  False                  False                  False                   True                  False                  False                   False           False         False           True           False   \n",
              "4            5         0    1  0.423 -0.538               0          -0.320            0           1.247             1     False      True    False    False    False    False    False    False    False    False    False    False    False    False       False        True                   True                  False                  False                  False                  False                  False                   False           False          True          False           False   \n",
              "\n",
              "   NEW_FAMILY_SIZE_2  NEW_FAMILY_SIZE_3  NEW_FAMILY_SIZE_4  NEW_FAMILY_SIZE_5  NEW_FAMILY_SIZE_6  NEW_FAMILY_SIZE_7  NEW_FAMILY_SIZE_8  NEW_FAMILY_SIZE_11  NEW_AGE_CAT_senior  NEW_AGE_CAT_young  NEW_SEX_CAT_maturemale  NEW_SEX_CAT_seniorfemale  NEW_SEX_CAT_seniormale  \n",
              "0               True              False              False              False              False              False              False               False               False              False                    True                     False                   False  \n",
              "1               True              False              False              False              False              False              False               False               False              False                   False                     False                   False  \n",
              "2              False              False              False              False              False              False              False               False               False              False                   False                     False                   False  \n",
              "3               True              False              False              False              False              False              False               False               False              False                   False                     False                   False  \n",
              "4              False              False              False              False              False              False              False               False               False              False                    True                     False                   False  "
            ],
            "text/html": [
              "\n",
              "  <div id=\"df-9210671a-73c3-4bf5-9214-5266fc185925\" class=\"colab-df-container\">\n",
              "    <div>\n",
              "<style scoped>\n",
              "    .dataframe tbody tr th:only-of-type {\n",
              "        vertical-align: middle;\n",
              "    }\n",
              "\n",
              "    .dataframe tbody tr th {\n",
              "        vertical-align: top;\n",
              "    }\n",
              "\n",
              "    .dataframe thead th {\n",
              "        text-align: right;\n",
              "    }\n",
              "</style>\n",
              "<table border=\"1\" class=\"dataframe\">\n",
              "  <thead>\n",
              "    <tr style=\"text-align: right;\">\n",
              "      <th></th>\n",
              "      <th>PASSENGERID</th>\n",
              "      <th>SURVIVED</th>\n",
              "      <th>SEX</th>\n",
              "      <th>AGE</th>\n",
              "      <th>FARE</th>\n",
              "      <th>New_CABIN_BOOL</th>\n",
              "      <th>NEW_NAME_COUNT</th>\n",
              "      <th>NEW_NAME_DR</th>\n",
              "      <th>NEW_AGE_PCLASS</th>\n",
              "      <th>NEW_IS_ALONE</th>\n",
              "      <th>PCLASS_2</th>\n",
              "      <th>PCLASS_3</th>\n",
              "      <th>SIBSP_1</th>\n",
              "      <th>SIBSP_2</th>\n",
              "      <th>SIBSP_3</th>\n",
              "      <th>SIBSP_4</th>\n",
              "      <th>SIBSP_5</th>\n",
              "      <th>SIBSP_8</th>\n",
              "      <th>PARCH_1</th>\n",
              "      <th>PARCH_2</th>\n",
              "      <th>PARCH_3</th>\n",
              "      <th>PARCH_4</th>\n",
              "      <th>PARCH_5</th>\n",
              "      <th>PARCH_6</th>\n",
              "      <th>EMBARKED_Q</th>\n",
              "      <th>EMBARKED_S</th>\n",
              "      <th>NEW_NAME_WORD_COUNT_4</th>\n",
              "      <th>NEW_NAME_WORD_COUNT_5</th>\n",
              "      <th>NEW_NAME_WORD_COUNT_6</th>\n",
              "      <th>NEW_NAME_WORD_COUNT_7</th>\n",
              "      <th>NEW_NAME_WORD_COUNT_8</th>\n",
              "      <th>NEW_NAME_WORD_COUNT_9</th>\n",
              "      <th>NEW_NAME_WORD_COUNT_14</th>\n",
              "      <th>NEW_TITLE_Miss</th>\n",
              "      <th>NEW_TITLE_Mr</th>\n",
              "      <th>NEW_TITLE_Mrs</th>\n",
              "      <th>NEW_TITLE_Rare</th>\n",
              "      <th>NEW_FAMILY_SIZE_2</th>\n",
              "      <th>NEW_FAMILY_SIZE_3</th>\n",
              "      <th>NEW_FAMILY_SIZE_4</th>\n",
              "      <th>NEW_FAMILY_SIZE_5</th>\n",
              "      <th>NEW_FAMILY_SIZE_6</th>\n",
              "      <th>NEW_FAMILY_SIZE_7</th>\n",
              "      <th>NEW_FAMILY_SIZE_8</th>\n",
              "      <th>NEW_FAMILY_SIZE_11</th>\n",
              "      <th>NEW_AGE_CAT_senior</th>\n",
              "      <th>NEW_AGE_CAT_young</th>\n",
              "      <th>NEW_SEX_CAT_maturemale</th>\n",
              "      <th>NEW_SEX_CAT_seniorfemale</th>\n",
              "      <th>NEW_SEX_CAT_seniormale</th>\n",
              "    </tr>\n",
              "  </thead>\n",
              "  <tbody>\n",
              "    <tr>\n",
              "      <th>0</th>\n",
              "      <td>1</td>\n",
              "      <td>0</td>\n",
              "      <td>1</td>\n",
              "      <td>-0.557</td>\n",
              "      <td>-0.557</td>\n",
              "      <td>0</td>\n",
              "      <td>-0.427</td>\n",
              "      <td>0</td>\n",
              "      <td>0.063</td>\n",
              "      <td>0</td>\n",
              "      <td>False</td>\n",
              "      <td>True</td>\n",
              "      <td>True</td>\n",
              "      <td>False</td>\n",
              "      <td>False</td>\n",
              "      <td>False</td>\n",
              "      <td>False</td>\n",
              "      <td>False</td>\n",
              "      <td>False</td>\n",
              "      <td>False</td>\n",
              "      <td>False</td>\n",
              "      <td>False</td>\n",
              "      <td>False</td>\n",
              "      <td>False</td>\n",
              "      <td>False</td>\n",
              "      <td>True</td>\n",
              "      <td>True</td>\n",
              "      <td>False</td>\n",
              "      <td>False</td>\n",
              "      <td>False</td>\n",
              "      <td>False</td>\n",
              "      <td>False</td>\n",
              "      <td>False</td>\n",
              "      <td>False</td>\n",
              "      <td>True</td>\n",
              "      <td>False</td>\n",
              "      <td>False</td>\n",
              "      <td>True</td>\n",
              "      <td>False</td>\n",
              "      <td>False</td>\n",
              "      <td>False</td>\n",
              "      <td>False</td>\n",
              "      <td>False</td>\n",
              "      <td>False</td>\n",
              "      <td>False</td>\n",
              "      <td>False</td>\n",
              "      <td>False</td>\n",
              "      <td>True</td>\n",
              "      <td>False</td>\n",
              "      <td>False</td>\n",
              "    </tr>\n",
              "    <tr>\n",
              "      <th>1</th>\n",
              "      <td>2</td>\n",
              "      <td>1</td>\n",
              "      <td>0</td>\n",
              "      <td>0.649</td>\n",
              "      <td>0.920</td>\n",
              "      <td>1</td>\n",
              "      <td>2.591</td>\n",
              "      <td>0</td>\n",
              "      <td>-0.787</td>\n",
              "      <td>0</td>\n",
              "      <td>False</td>\n",
              "      <td>False</td>\n",
              "      <td>True</td>\n",
              "      <td>False</td>\n",
              "      <td>False</td>\n",
              "      <td>False</td>\n",
              "      <td>False</td>\n",
              "      <td>False</td>\n",
              "      <td>False</td>\n",
              "      <td>False</td>\n",
              "      <td>False</td>\n",
              "      <td>False</td>\n",
              "      <td>False</td>\n",
              "      <td>False</td>\n",
              "      <td>False</td>\n",
              "      <td>False</td>\n",
              "      <td>False</td>\n",
              "      <td>False</td>\n",
              "      <td>False</td>\n",
              "      <td>True</td>\n",
              "      <td>False</td>\n",
              "      <td>False</td>\n",
              "      <td>False</td>\n",
              "      <td>False</td>\n",
              "      <td>False</td>\n",
              "      <td>True</td>\n",
              "      <td>False</td>\n",
              "      <td>True</td>\n",
              "      <td>False</td>\n",
              "      <td>False</td>\n",
              "      <td>False</td>\n",
              "      <td>False</td>\n",
              "      <td>False</td>\n",
              "      <td>False</td>\n",
              "      <td>False</td>\n",
              "      <td>False</td>\n",
              "      <td>False</td>\n",
              "      <td>False</td>\n",
              "      <td>False</td>\n",
              "      <td>False</td>\n",
              "    </tr>\n",
              "    <tr>\n",
              "      <th>2</th>\n",
              "      <td>3</td>\n",
              "      <td>1</td>\n",
              "      <td>0</td>\n",
              "      <td>-0.256</td>\n",
              "      <td>-0.541</td>\n",
              "      <td>0</td>\n",
              "      <td>-0.535</td>\n",
              "      <td>0</td>\n",
              "      <td>0.427</td>\n",
              "      <td>1</td>\n",
              "      <td>False</td>\n",
              "      <td>True</td>\n",
              "      <td>False</td>\n",
              "      <td>False</td>\n",
              "      <td>False</td>\n",
              "      <td>False</td>\n",
              "      <td>False</td>\n",
              "      <td>False</td>\n",
              "      <td>False</td>\n",
              "      <td>False</td>\n",
              "      <td>False</td>\n",
              "      <td>False</td>\n",
              "      <td>False</td>\n",
              "      <td>False</td>\n",
              "      <td>False</td>\n",
              "      <td>True</td>\n",
              "      <td>False</td>\n",
              "      <td>False</td>\n",
              "      <td>False</td>\n",
              "      <td>False</td>\n",
              "      <td>False</td>\n",
              "      <td>False</td>\n",
              "      <td>False</td>\n",
              "      <td>True</td>\n",
              "      <td>False</td>\n",
              "      <td>False</td>\n",
              "      <td>False</td>\n",
              "      <td>False</td>\n",
              "      <td>False</td>\n",
              "      <td>False</td>\n",
              "      <td>False</td>\n",
              "      <td>False</td>\n",
              "      <td>False</td>\n",
              "      <td>False</td>\n",
              "      <td>False</td>\n",
              "      <td>False</td>\n",
              "      <td>False</td>\n",
              "      <td>False</td>\n",
              "      <td>False</td>\n",
              "      <td>False</td>\n",
              "    </tr>\n",
              "    <tr>\n",
              "      <th>3</th>\n",
              "      <td>4</td>\n",
              "      <td>1</td>\n",
              "      <td>0</td>\n",
              "      <td>0.423</td>\n",
              "      <td>0.501</td>\n",
              "      <td>1</td>\n",
              "      <td>1.836</td>\n",
              "      <td>0</td>\n",
              "      <td>-0.878</td>\n",
              "      <td>0</td>\n",
              "      <td>False</td>\n",
              "      <td>False</td>\n",
              "      <td>True</td>\n",
              "      <td>False</td>\n",
              "      <td>False</td>\n",
              "      <td>False</td>\n",
              "      <td>False</td>\n",
              "      <td>False</td>\n",
              "      <td>False</td>\n",
              "      <td>False</td>\n",
              "      <td>False</td>\n",
              "      <td>False</td>\n",
              "      <td>False</td>\n",
              "      <td>False</td>\n",
              "      <td>False</td>\n",
              "      <td>True</td>\n",
              "      <td>False</td>\n",
              "      <td>False</td>\n",
              "      <td>False</td>\n",
              "      <td>True</td>\n",
              "      <td>False</td>\n",
              "      <td>False</td>\n",
              "      <td>False</td>\n",
              "      <td>False</td>\n",
              "      <td>False</td>\n",
              "      <td>True</td>\n",
              "      <td>False</td>\n",
              "      <td>True</td>\n",
              "      <td>False</td>\n",
              "      <td>False</td>\n",
              "      <td>False</td>\n",
              "      <td>False</td>\n",
              "      <td>False</td>\n",
              "      <td>False</td>\n",
              "      <td>False</td>\n",
              "      <td>False</td>\n",
              "      <td>False</td>\n",
              "      <td>False</td>\n",
              "      <td>False</td>\n",
              "      <td>False</td>\n",
              "    </tr>\n",
              "    <tr>\n",
              "      <th>4</th>\n",
              "      <td>5</td>\n",
              "      <td>0</td>\n",
              "      <td>1</td>\n",
              "      <td>0.423</td>\n",
              "      <td>-0.538</td>\n",
              "      <td>0</td>\n",
              "      <td>-0.320</td>\n",
              "      <td>0</td>\n",
              "      <td>1.247</td>\n",
              "      <td>1</td>\n",
              "      <td>False</td>\n",
              "      <td>True</td>\n",
              "      <td>False</td>\n",
              "      <td>False</td>\n",
              "      <td>False</td>\n",
              "      <td>False</td>\n",
              "      <td>False</td>\n",
              "      <td>False</td>\n",
              "      <td>False</td>\n",
              "      <td>False</td>\n",
              "      <td>False</td>\n",
              "      <td>False</td>\n",
              "      <td>False</td>\n",
              "      <td>False</td>\n",
              "      <td>False</td>\n",
              "      <td>True</td>\n",
              "      <td>True</td>\n",
              "      <td>False</td>\n",
              "      <td>False</td>\n",
              "      <td>False</td>\n",
              "      <td>False</td>\n",
              "      <td>False</td>\n",
              "      <td>False</td>\n",
              "      <td>False</td>\n",
              "      <td>True</td>\n",
              "      <td>False</td>\n",
              "      <td>False</td>\n",
              "      <td>False</td>\n",
              "      <td>False</td>\n",
              "      <td>False</td>\n",
              "      <td>False</td>\n",
              "      <td>False</td>\n",
              "      <td>False</td>\n",
              "      <td>False</td>\n",
              "      <td>False</td>\n",
              "      <td>False</td>\n",
              "      <td>False</td>\n",
              "      <td>True</td>\n",
              "      <td>False</td>\n",
              "      <td>False</td>\n",
              "    </tr>\n",
              "  </tbody>\n",
              "</table>\n",
              "</div>\n",
              "    <div class=\"colab-df-buttons\">\n",
              "\n",
              "  <div class=\"colab-df-container\">\n",
              "    <button class=\"colab-df-convert\" onclick=\"convertToInteractive('df-9210671a-73c3-4bf5-9214-5266fc185925')\"\n",
              "            title=\"Convert this dataframe to an interactive table.\"\n",
              "            style=\"display:none;\">\n",
              "\n",
              "  <svg xmlns=\"http://www.w3.org/2000/svg\" height=\"24px\" viewBox=\"0 -960 960 960\">\n",
              "    <path d=\"M120-120v-720h720v720H120Zm60-500h600v-160H180v160Zm220 220h160v-160H400v160Zm0 220h160v-160H400v160ZM180-400h160v-160H180v160Zm440 0h160v-160H620v160ZM180-180h160v-160H180v160Zm440 0h160v-160H620v160Z\"/>\n",
              "  </svg>\n",
              "    </button>\n",
              "\n",
              "  <style>\n",
              "    .colab-df-container {\n",
              "      display:flex;\n",
              "      gap: 12px;\n",
              "    }\n",
              "\n",
              "    .colab-df-convert {\n",
              "      background-color: #E8F0FE;\n",
              "      border: none;\n",
              "      border-radius: 50%;\n",
              "      cursor: pointer;\n",
              "      display: none;\n",
              "      fill: #1967D2;\n",
              "      height: 32px;\n",
              "      padding: 0 0 0 0;\n",
              "      width: 32px;\n",
              "    }\n",
              "\n",
              "    .colab-df-convert:hover {\n",
              "      background-color: #E2EBFA;\n",
              "      box-shadow: 0px 1px 2px rgba(60, 64, 67, 0.3), 0px 1px 3px 1px rgba(60, 64, 67, 0.15);\n",
              "      fill: #174EA6;\n",
              "    }\n",
              "\n",
              "    .colab-df-buttons div {\n",
              "      margin-bottom: 4px;\n",
              "    }\n",
              "\n",
              "    [theme=dark] .colab-df-convert {\n",
              "      background-color: #3B4455;\n",
              "      fill: #D2E3FC;\n",
              "    }\n",
              "\n",
              "    [theme=dark] .colab-df-convert:hover {\n",
              "      background-color: #434B5C;\n",
              "      box-shadow: 0px 1px 3px 1px rgba(0, 0, 0, 0.15);\n",
              "      filter: drop-shadow(0px 1px 2px rgba(0, 0, 0, 0.3));\n",
              "      fill: #FFFFFF;\n",
              "    }\n",
              "  </style>\n",
              "\n",
              "    <script>\n",
              "      const buttonEl =\n",
              "        document.querySelector('#df-9210671a-73c3-4bf5-9214-5266fc185925 button.colab-df-convert');\n",
              "      buttonEl.style.display =\n",
              "        google.colab.kernel.accessAllowed ? 'block' : 'none';\n",
              "\n",
              "      async function convertToInteractive(key) {\n",
              "        const element = document.querySelector('#df-9210671a-73c3-4bf5-9214-5266fc185925');\n",
              "        const dataTable =\n",
              "          await google.colab.kernel.invokeFunction('convertToInteractive',\n",
              "                                                    [key], {});\n",
              "        if (!dataTable) return;\n",
              "\n",
              "        const docLinkHtml = 'Like what you see? Visit the ' +\n",
              "          '<a target=\"_blank\" href=https://colab.research.google.com/notebooks/data_table.ipynb>data table notebook</a>'\n",
              "          + ' to learn more about interactive tables.';\n",
              "        element.innerHTML = '';\n",
              "        dataTable['output_type'] = 'display_data';\n",
              "        await google.colab.output.renderOutput(dataTable, element);\n",
              "        const docLink = document.createElement('div');\n",
              "        docLink.innerHTML = docLinkHtml;\n",
              "        element.appendChild(docLink);\n",
              "      }\n",
              "    </script>\n",
              "  </div>\n",
              "\n",
              "\n",
              "<div id=\"df-49846024-9f81-4e68-bd8c-886e9b48ec00\">\n",
              "  <button class=\"colab-df-quickchart\" onclick=\"quickchart('df-49846024-9f81-4e68-bd8c-886e9b48ec00')\"\n",
              "            title=\"Suggest charts\"\n",
              "            style=\"display:none;\">\n",
              "\n",
              "<svg xmlns=\"http://www.w3.org/2000/svg\" height=\"24px\"viewBox=\"0 0 24 24\"\n",
              "     width=\"24px\">\n",
              "    <g>\n",
              "        <path d=\"M19 3H5c-1.1 0-2 .9-2 2v14c0 1.1.9 2 2 2h14c1.1 0 2-.9 2-2V5c0-1.1-.9-2-2-2zM9 17H7v-7h2v7zm4 0h-2V7h2v10zm4 0h-2v-4h2v4z\"/>\n",
              "    </g>\n",
              "</svg>\n",
              "  </button>\n",
              "\n",
              "<style>\n",
              "  .colab-df-quickchart {\n",
              "      --bg-color: #E8F0FE;\n",
              "      --fill-color: #1967D2;\n",
              "      --hover-bg-color: #E2EBFA;\n",
              "      --hover-fill-color: #174EA6;\n",
              "      --disabled-fill-color: #AAA;\n",
              "      --disabled-bg-color: #DDD;\n",
              "  }\n",
              "\n",
              "  [theme=dark] .colab-df-quickchart {\n",
              "      --bg-color: #3B4455;\n",
              "      --fill-color: #D2E3FC;\n",
              "      --hover-bg-color: #434B5C;\n",
              "      --hover-fill-color: #FFFFFF;\n",
              "      --disabled-bg-color: #3B4455;\n",
              "      --disabled-fill-color: #666;\n",
              "  }\n",
              "\n",
              "  .colab-df-quickchart {\n",
              "    background-color: var(--bg-color);\n",
              "    border: none;\n",
              "    border-radius: 50%;\n",
              "    cursor: pointer;\n",
              "    display: none;\n",
              "    fill: var(--fill-color);\n",
              "    height: 32px;\n",
              "    padding: 0;\n",
              "    width: 32px;\n",
              "  }\n",
              "\n",
              "  .colab-df-quickchart:hover {\n",
              "    background-color: var(--hover-bg-color);\n",
              "    box-shadow: 0 1px 2px rgba(60, 64, 67, 0.3), 0 1px 3px 1px rgba(60, 64, 67, 0.15);\n",
              "    fill: var(--button-hover-fill-color);\n",
              "  }\n",
              "\n",
              "  .colab-df-quickchart-complete:disabled,\n",
              "  .colab-df-quickchart-complete:disabled:hover {\n",
              "    background-color: var(--disabled-bg-color);\n",
              "    fill: var(--disabled-fill-color);\n",
              "    box-shadow: none;\n",
              "  }\n",
              "\n",
              "  .colab-df-spinner {\n",
              "    border: 2px solid var(--fill-color);\n",
              "    border-color: transparent;\n",
              "    border-bottom-color: var(--fill-color);\n",
              "    animation:\n",
              "      spin 1s steps(1) infinite;\n",
              "  }\n",
              "\n",
              "  @keyframes spin {\n",
              "    0% {\n",
              "      border-color: transparent;\n",
              "      border-bottom-color: var(--fill-color);\n",
              "      border-left-color: var(--fill-color);\n",
              "    }\n",
              "    20% {\n",
              "      border-color: transparent;\n",
              "      border-left-color: var(--fill-color);\n",
              "      border-top-color: var(--fill-color);\n",
              "    }\n",
              "    30% {\n",
              "      border-color: transparent;\n",
              "      border-left-color: var(--fill-color);\n",
              "      border-top-color: var(--fill-color);\n",
              "      border-right-color: var(--fill-color);\n",
              "    }\n",
              "    40% {\n",
              "      border-color: transparent;\n",
              "      border-right-color: var(--fill-color);\n",
              "      border-top-color: var(--fill-color);\n",
              "    }\n",
              "    60% {\n",
              "      border-color: transparent;\n",
              "      border-right-color: var(--fill-color);\n",
              "    }\n",
              "    80% {\n",
              "      border-color: transparent;\n",
              "      border-right-color: var(--fill-color);\n",
              "      border-bottom-color: var(--fill-color);\n",
              "    }\n",
              "    90% {\n",
              "      border-color: transparent;\n",
              "      border-bottom-color: var(--fill-color);\n",
              "    }\n",
              "  }\n",
              "</style>\n",
              "\n",
              "  <script>\n",
              "    async function quickchart(key) {\n",
              "      const quickchartButtonEl =\n",
              "        document.querySelector('#' + key + ' button');\n",
              "      quickchartButtonEl.disabled = true;  // To prevent multiple clicks.\n",
              "      quickchartButtonEl.classList.add('colab-df-spinner');\n",
              "      try {\n",
              "        const charts = await google.colab.kernel.invokeFunction(\n",
              "            'suggestCharts', [key], {});\n",
              "      } catch (error) {\n",
              "        console.error('Error during call to suggestCharts:', error);\n",
              "      }\n",
              "      quickchartButtonEl.classList.remove('colab-df-spinner');\n",
              "      quickchartButtonEl.classList.add('colab-df-quickchart-complete');\n",
              "    }\n",
              "    (() => {\n",
              "      let quickchartButtonEl =\n",
              "        document.querySelector('#df-49846024-9f81-4e68-bd8c-886e9b48ec00 button');\n",
              "      quickchartButtonEl.style.display =\n",
              "        google.colab.kernel.accessAllowed ? 'block' : 'none';\n",
              "    })();\n",
              "  </script>\n",
              "</div>\n",
              "\n",
              "    </div>\n",
              "  </div>\n"
            ],
            "application/vnd.google.colaboratory.intrinsic+json": {
              "type": "dataframe",
              "variable_name": "df"
            }
          },
          "metadata": {},
          "execution_count": 78
        }
      ]
    },
    {
      "cell_type": "markdown",
      "source": [
        "# 12. Model"
      ],
      "metadata": {
        "id": "Ljb2oT3cu79J"
      }
    },
    {
      "cell_type": "code",
      "source": [
        "# Dependent variable\n",
        "\n",
        "y = df[\"SURVIVED\"]"
      ],
      "metadata": {
        "execution": {
          "iopub.status.busy": "2023-07-23T22:10:18.47925Z",
          "iopub.execute_input": "2023-07-23T22:10:18.479931Z",
          "iopub.status.idle": "2023-07-23T22:10:18.484807Z",
          "shell.execute_reply.started": "2023-07-23T22:10:18.479898Z",
          "shell.execute_reply": "2023-07-23T22:10:18.483529Z"
        },
        "trusted": true,
        "id": "WsD0s0PNu79J"
      },
      "execution_count": 79,
      "outputs": []
    },
    {
      "cell_type": "code",
      "source": [
        "# Independent variables\n",
        "\n",
        "X = df.drop([\"PASSENGERID\", \"SURVIVED\"], axis=1)"
      ],
      "metadata": {
        "execution": {
          "iopub.status.busy": "2023-07-23T22:10:18.487076Z",
          "iopub.execute_input": "2023-07-23T22:10:18.487889Z",
          "iopub.status.idle": "2023-07-23T22:10:18.499214Z",
          "shell.execute_reply.started": "2023-07-23T22:10:18.487844Z",
          "shell.execute_reply": "2023-07-23T22:10:18.497944Z"
        },
        "trusted": true,
        "id": "K01wXmGNu79J"
      },
      "execution_count": 80,
      "outputs": []
    },
    {
      "cell_type": "code",
      "source": [
        "# Train-Test Split for Machine Learning Model Evaluation\n",
        "\n",
        "X_train, X_test, y_train, y_test = train_test_split(X, y, test_size=0.30, random_state=17)"
      ],
      "metadata": {
        "execution": {
          "iopub.status.busy": "2023-07-23T22:10:18.50077Z",
          "iopub.execute_input": "2023-07-23T22:10:18.501177Z",
          "iopub.status.idle": "2023-07-23T22:10:18.51328Z",
          "shell.execute_reply.started": "2023-07-23T22:10:18.501139Z",
          "shell.execute_reply": "2023-07-23T22:10:18.51226Z"
        },
        "trusted": true,
        "id": "6uvHoEhCu79J"
      },
      "execution_count": 81,
      "outputs": []
    },
    {
      "cell_type": "code",
      "source": [
        "# Random Forest Classifier Model Training\n",
        "\n",
        "rf_model = RandomForestClassifier(random_state=46).fit(X_train, y_train)"
      ],
      "metadata": {
        "execution": {
          "iopub.status.busy": "2023-07-23T22:10:18.515139Z",
          "iopub.execute_input": "2023-07-23T22:10:18.515936Z",
          "iopub.status.idle": "2023-07-23T22:10:18.803188Z",
          "shell.execute_reply.started": "2023-07-23T22:10:18.515883Z",
          "shell.execute_reply": "2023-07-23T22:10:18.802247Z"
        },
        "trusted": true,
        "id": "ZMpjFLsiu79K"
      },
      "execution_count": 82,
      "outputs": []
    },
    {
      "cell_type": "code",
      "source": [
        "# Prediction using Random Forest Classifier Model\n",
        "\n",
        "y_pred = rf_model.predict(X_test)"
      ],
      "metadata": {
        "execution": {
          "iopub.status.busy": "2023-07-23T22:10:18.81636Z",
          "iopub.execute_input": "2023-07-23T22:10:18.816788Z",
          "iopub.status.idle": "2023-07-23T22:10:18.844325Z",
          "shell.execute_reply.started": "2023-07-23T22:10:18.816752Z",
          "shell.execute_reply": "2023-07-23T22:10:18.843144Z"
        },
        "trusted": true,
        "id": "aObqsnbYu79K"
      },
      "execution_count": 83,
      "outputs": []
    },
    {
      "cell_type": "code",
      "source": [
        "# Accuracy Score of Random Forest Classifier Model Prediction\n",
        "\n",
        "accuracy_score(y_pred, y_test)"
      ],
      "metadata": {
        "execution": {
          "iopub.status.busy": "2023-07-23T22:10:18.845634Z",
          "iopub.execute_input": "2023-07-23T22:10:18.845989Z",
          "iopub.status.idle": "2023-07-23T22:10:18.854785Z",
          "shell.execute_reply.started": "2023-07-23T22:10:18.845951Z",
          "shell.execute_reply": "2023-07-23T22:10:18.853425Z"
        },
        "trusted": true,
        "id": "3vHwAopHu79K",
        "outputId": "a5862382-32da-494c-b9ba-198126a74a30",
        "colab": {
          "base_uri": "https://localhost:8080/"
        }
      },
      "execution_count": 84,
      "outputs": [
        {
          "output_type": "execute_result",
          "data": {
            "text/plain": [
              "0.7985074626865671"
            ]
          },
          "metadata": {},
          "execution_count": 84
        }
      ]
    },
    {
      "cell_type": "markdown",
      "source": [
        "**If people had given us their information before they boarded the ship, and we had used this information to ask the model, we could have accurately predicted whether 79% of those who boarded the ship would have survived.**"
      ],
      "metadata": {
        "id": "GLfCaw0Lu79K"
      }
    },
    {
      "cell_type": "code",
      "source": [
        "# Plot Importance\n",
        "\n",
        "def plot_importance(model, features, num=len(X), save=False):\n",
        "    feature_imp = pd.DataFrame({'Value': model.feature_importances_, 'Feature': features.columns})\n",
        "    plt.figure(figsize=(10, 10))\n",
        "    sns.set(font_scale=1)\n",
        "    sns.barplot(x=\"Value\", y=\"Feature\", data=feature_imp.sort_values(by=\"Value\",\n",
        "                                                                      ascending=False)[0:num])\n",
        "    plt.title('Features')\n",
        "    plt.tight_layout()\n",
        "    plt.show(block=True)\n",
        "    if save:\n",
        "        plt.savefig('importances.png')"
      ],
      "metadata": {
        "execution": {
          "iopub.status.busy": "2023-07-23T22:10:18.856356Z",
          "iopub.execute_input": "2023-07-23T22:10:18.856707Z",
          "iopub.status.idle": "2023-07-23T22:10:18.867571Z",
          "shell.execute_reply.started": "2023-07-23T22:10:18.856677Z",
          "shell.execute_reply": "2023-07-23T22:10:18.866606Z"
        },
        "trusted": true,
        "id": "sWO_FZMDu79K"
      },
      "execution_count": 85,
      "outputs": []
    },
    {
      "cell_type": "code",
      "source": [
        "plot_importance(rf_model, X_train)"
      ],
      "metadata": {
        "execution": {
          "iopub.status.busy": "2023-07-23T22:10:18.869341Z",
          "iopub.execute_input": "2023-07-23T22:10:18.869696Z",
          "iopub.status.idle": "2023-07-23T22:10:20.020586Z",
          "shell.execute_reply.started": "2023-07-23T22:10:18.869665Z",
          "shell.execute_reply": "2023-07-23T22:10:20.019344Z"
        },
        "trusted": true,
        "id": "2VnFwQa5u79K",
        "outputId": "a7a22743-b73b-4ea1-824a-5527ab89e917",
        "colab": {
          "base_uri": "https://localhost:8080/",
          "height": 1000
        }
      },
      "execution_count": 86,
      "outputs": [
        {
          "output_type": "display_data",
          "data": {
            "text/plain": [
              "<Figure size 1000x1000 with 1 Axes>"
            ],
            "image/png": "[encoded data removed]"
          },
          "metadata": {}
        }
      ]
    },
    {
      "cell_type": "markdown",
      "source": [
        "# 13. Accuracy Score without Performing Any Operation"
      ],
      "metadata": {
        "id": "uF4PK7nAu79K"
      }
    },
    {
      "cell_type": "code",
      "source": [
        "# Loading the Data Set\n",
        "\n",
        "dff = pd.read_csv('/kaggle/input/data-science-day1-titanic/DSB_Day1_Titanic_train.csv')"
      ],
      "metadata": {
        "execution": {
          "iopub.status.busy": "2023-07-23T22:10:20.022141Z",
          "iopub.execute_input": "2023-07-23T22:10:20.022902Z",
          "iopub.status.idle": "2023-07-23T22:10:20.037743Z",
          "shell.execute_reply.started": "2023-07-23T22:10:20.02285Z",
          "shell.execute_reply": "2023-07-23T22:10:20.036473Z"
        },
        "trusted": true,
        "id": "5T5xZLiwu79K"
      },
      "execution_count": 87,
      "outputs": []
    },
    {
      "cell_type": "code",
      "source": [
        "dff.dropna(inplace=True)"
      ],
      "metadata": {
        "execution": {
          "iopub.status.busy": "2023-07-23T22:10:20.039212Z",
          "iopub.execute_input": "2023-07-23T22:10:20.039553Z",
          "iopub.status.idle": "2023-07-23T22:10:20.047824Z",
          "shell.execute_reply.started": "2023-07-23T22:10:20.039526Z",
          "shell.execute_reply": "2023-07-23T22:10:20.046973Z"
        },
        "trusted": true,
        "id": "mStN9Lynu79K"
      },
      "execution_count": 88,
      "outputs": []
    },
    {
      "cell_type": "code",
      "source": [
        "dff = pd.get_dummies(dff, columns=[\"Sex\", \"Embarked\"], drop_first=True)"
      ],
      "metadata": {
        "execution": {
          "iopub.status.busy": "2023-07-23T22:10:20.049192Z",
          "iopub.execute_input": "2023-07-23T22:10:20.049767Z",
          "iopub.status.idle": "2023-07-23T22:10:20.064624Z",
          "shell.execute_reply.started": "2023-07-23T22:10:20.049734Z",
          "shell.execute_reply": "2023-07-23T22:10:20.063401Z"
        },
        "trusted": true,
        "id": "5vgyEmn9u79K"
      },
      "execution_count": 89,
      "outputs": []
    },
    {
      "cell_type": "code",
      "source": [
        "y = dff[\"Survived\"]\n",
        "X = dff.drop([\"PassengerId\", \"Survived\", \"Name\", \"Ticket\", \"Cabin\"], axis=1)"
      ],
      "metadata": {
        "execution": {
          "iopub.status.busy": "2023-07-23T22:10:20.066116Z",
          "iopub.execute_input": "2023-07-23T22:10:20.066477Z",
          "iopub.status.idle": "2023-07-23T22:10:20.078758Z",
          "shell.execute_reply.started": "2023-07-23T22:10:20.066446Z",
          "shell.execute_reply": "2023-07-23T22:10:20.07763Z"
        },
        "trusted": true,
        "id": "f1_vEjllu79L"
      },
      "execution_count": 90,
      "outputs": []
    },
    {
      "cell_type": "code",
      "source": [
        "X_train, X_test, y_train, y_test = train_test_split(X, y, test_size=0.30, random_state=17)"
      ],
      "metadata": {
        "execution": {
          "iopub.status.busy": "2023-07-23T22:10:20.080126Z",
          "iopub.execute_input": "2023-07-23T22:10:20.081155Z",
          "iopub.status.idle": "2023-07-23T22:10:20.094162Z",
          "shell.execute_reply.started": "2023-07-23T22:10:20.081111Z",
          "shell.execute_reply": "2023-07-23T22:10:20.093035Z"
        },
        "trusted": true,
        "id": "QT90Y2YPu79L"
      },
      "execution_count": 91,
      "outputs": []
    },
    {
      "cell_type": "code",
      "source": [
        "rf_model = RandomForestClassifier(random_state=46).fit(X_train, y_train)"
      ],
      "metadata": {
        "execution": {
          "iopub.status.busy": "2023-07-23T22:10:20.095607Z",
          "iopub.execute_input": "2023-07-23T22:10:20.096097Z",
          "iopub.status.idle": "2023-07-23T22:10:20.328476Z",
          "shell.execute_reply.started": "2023-07-23T22:10:20.09606Z",
          "shell.execute_reply": "2023-07-23T22:10:20.327255Z"
        },
        "trusted": true,
        "id": "DEv5jm7Au79L"
      },
      "execution_count": 92,
      "outputs": []
    },
    {
      "cell_type": "code",
      "source": [
        "y_pred = rf_model.predict(X_test)"
      ],
      "metadata": {
        "execution": {
          "iopub.status.busy": "2023-07-23T22:10:20.330447Z",
          "iopub.execute_input": "2023-07-23T22:10:20.330945Z",
          "iopub.status.idle": "2023-07-23T22:10:20.356324Z",
          "shell.execute_reply.started": "2023-07-23T22:10:20.3309Z",
          "shell.execute_reply": "2023-07-23T22:10:20.355014Z"
        },
        "trusted": true,
        "id": "iTol-pEQu79L"
      },
      "execution_count": 93,
      "outputs": []
    },
    {
      "cell_type": "code",
      "source": [
        "accuracy_score(y_pred, y_test)"
      ],
      "metadata": {
        "execution": {
          "iopub.status.busy": "2023-07-23T22:10:20.3579Z",
          "iopub.execute_input": "2023-07-23T22:10:20.358268Z",
          "iopub.status.idle": "2023-07-23T22:10:20.36731Z",
          "shell.execute_reply.started": "2023-07-23T22:10:20.358237Z",
          "shell.execute_reply": "2023-07-23T22:10:20.36577Z"
        },
        "trusted": true,
        "id": "x9-ExCduu79L",
        "outputId": "9b2edad3-005b-45a7-8129-cee3120d89cd",
        "colab": {
          "base_uri": "https://localhost:8080/"
        }
      },
      "execution_count": 94,
      "outputs": [
        {
          "output_type": "execute_result",
          "data": {
            "text/plain": [
              "0.7090909090909091"
            ]
          },
          "metadata": {},
          "execution_count": 94
        }
      ]
    },
    {
      "cell_type": "markdown",
      "source": [
        "# 14. Plot Importance"
      ],
      "metadata": {
        "id": "oZkszbT5u79L"
      }
    },
    {
      "cell_type": "code",
      "source": [
        "def plot_importance(model, features, num=len(X), save=False):\n",
        "    feature_imp = pd.DataFrame({'Value': model.feature_importances_, 'Feature': features.columns})\n",
        "    plt.figure(figsize=(10, 10))\n",
        "    sns.set(font_scale=1)\n",
        "    sns.barplot(x=\"Value\", y=\"Feature\", data=feature_imp.sort_values(by=\"Value\",\n",
        "                                                                      ascending=False)[0:num])\n",
        "    plt.title('Features')\n",
        "    plt.tight_layout()\n",
        "    plt.show(block=True)\n",
        "    if save:\n",
        "        plt.savefig('importances.png')"
      ],
      "metadata": {
        "execution": {
          "iopub.status.busy": "2023-07-23T22:10:20.36876Z",
          "iopub.execute_input": "2023-07-23T22:10:20.369791Z",
          "iopub.status.idle": "2023-07-23T22:10:20.379729Z",
          "shell.execute_reply.started": "2023-07-23T22:10:20.369749Z",
          "shell.execute_reply": "2023-07-23T22:10:20.378433Z"
        },
        "trusted": true,
        "id": "4Ju0h5npu79L"
      },
      "execution_count": 95,
      "outputs": []
    },
    {
      "cell_type": "code",
      "source": [
        "plot_importance(rf_model, X_train)"
      ],
      "metadata": {
        "execution": {
          "iopub.status.busy": "2023-07-23T22:10:20.38125Z",
          "iopub.execute_input": "2023-07-23T22:10:20.38163Z",
          "iopub.status.idle": "2023-07-23T22:10:20.961069Z",
          "shell.execute_reply.started": "2023-07-23T22:10:20.381597Z",
          "shell.execute_reply": "2023-07-23T22:10:20.960198Z"
        },
        "trusted": true,
        "id": "dXP6NJlcu79L",
        "outputId": "16981cf9-b539-4826-a5aa-2941822127c4",
        "colab": {
          "base_uri": "https://localhost:8080/",
          "height": 1000
        }
      },
      "execution_count": 96,
      "outputs": [
        {
          "output_type": "display_data",
          "data": {
            "text/plain": [
              "<Figure size 1000x1000 with 1 Axes>"
            ],
            "image/png": "[encoded data removed]"
          },
          "metadata": {}
        }
      ]
    }
  ]
}